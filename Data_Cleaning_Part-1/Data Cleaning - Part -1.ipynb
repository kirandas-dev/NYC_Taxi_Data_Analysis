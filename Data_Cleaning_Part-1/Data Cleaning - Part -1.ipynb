{
 "cells": [
  {
   "cell_type": "markdown",
   "metadata": {
    "application/vnd.databricks.v1+cell": {
     "cellMetadata": {
      "byteLimit": 2048000,
      "rowLimit": 10000
     },
     "inputWidgets": {},
     "nuid": "773328ed-746f-494b-a6d5-905e3a2e442b",
     "showTitle": false,
     "title": ""
    }
   },
   "source": [
    "##Defining Functions for Data cleaning"
   ]
  },
  {
   "cell_type": "markdown",
   "metadata": {
    "application/vnd.databricks.v1+cell": {
     "cellMetadata": {},
     "inputWidgets": {},
     "nuid": "7de8f582-14ce-4cab-bdf8-fe45b187fb0b",
     "showTitle": false,
     "title": ""
    }
   },
   "source": [
    "Aim:\n",
    "In this phase of the project, our main goal is to tidy up the vast dataset that includes records of both yellow and green taxi cabs. Given the sheer size of this dataset, we're breaking it down year by year This approach not only makes it easier to handle the data but also lets our Spark cluster work its way when it comes to cleaning up the unnecessary rows.\n",
    "\n"
   ]
  },
  {
   "cell_type": "markdown",
   "metadata": {
    "application/vnd.databricks.v1+cell": {
     "cellMetadata": {
      "byteLimit": 2048000,
      "rowLimit": 10000
     },
     "inputWidgets": {},
     "nuid": "ee9bd77d-cdb9-41a9-8802-398c28524c42",
     "showTitle": false,
     "title": ""
    }
   },
   "source": [
    "Function to filter out of range dates."
   ]
  },
  {
   "cell_type": "code",
   "execution_count": 0,
   "metadata": {
    "application/vnd.databricks.v1+cell": {
     "cellMetadata": {
      "byteLimit": 2048000,
      "rowLimit": 10000
     },
     "inputWidgets": {},
     "nuid": "cd610bb6-5a03-45ab-be25-a7f325c804ee",
     "showTitle": false,
     "title": ""
    }
   },
   "outputs": [],
   "source": [
    "from pyspark.sql import SparkSession\n",
    "from pyspark.sql.functions import year, datediff\n",
    "from pyspark.sql.functions import col\n",
    "from pyspark.sql.types import TimestampType\n",
    "\n",
    "def filter_and_clean_data(df_cleaned, year):\n",
    "    # Filter rows with filenames containing the specified year\n",
    "    trips_year = df_cleaned.filter(df_cleaned['filename'].contains(str(year)))\n",
    "    # Create a temporary view for SQL querying\n",
    "    trips_year.createOrReplaceTempView(\"trips\")\n",
    "\n",
    "    # Define conditions for valid trips within the given year and boundaries\n",
    "    year_condition = f\"(year(tpep_pickup_datetime) = {year} AND year(tpep_dropoff_datetime) = {year})\"\n",
    "    boundary_condition = f\"((year(tpep_pickup_datetime) = {year - 1} AND year(tpep_dropoff_datetime) = {year})\"\n",
    "    boundary_condition += f\" OR (year(tpep_pickup_datetime) = {year} AND year(tpep_dropoff_datetime) = {year + 1}))\"\n",
    "    \n",
    "    # Define condition for short-duration trips\n",
    "    duration_condition = \"datediff(tpep_dropoff_datetime, tpep_pickup_datetime) <= 1\"\n",
    "\n",
    "    # Construct the SQL query to filter the data\n",
    "    year_query = f\"\"\"\n",
    "        SELECT *\n",
    "        FROM trips\n",
    "        WHERE ({year_condition} OR {boundary_condition}) AND {duration_condition}\n",
    "    \"\"\"\n",
    "    \n",
    "    # Execute the SQL query\n",
    "    trips_year = spark.sql(year_query)\n",
    "    \n",
    "    return trips_year\n"
   ]
  },
  {
   "cell_type": "markdown",
   "metadata": {
    "application/vnd.databricks.v1+cell": {
     "cellMetadata": {
      "byteLimit": 2048000,
      "rowLimit": 10000
     },
     "inputWidgets": {},
     "nuid": "7e0d5ce7-967c-4745-abb7-94b2cbaa8ce3",
     "showTitle": false,
     "title": ""
    }
   },
   "source": [
    "Function to Check for Negative Speeds and Speeds=0"
   ]
  },
  {
   "cell_type": "code",
   "execution_count": 0,
   "metadata": {
    "application/vnd.databricks.v1+cell": {
     "cellMetadata": {
      "byteLimit": 2048000,
      "rowLimit": 10000
     },
     "inputWidgets": {},
     "nuid": "a29d311d-7d9b-4917-af66-7f7b68c22583",
     "showTitle": false,
     "title": ""
    }
   },
   "outputs": [],
   "source": [
    "from pyspark.sql.functions import col, unix_timestamp\n",
    "from pyspark.sql.types import TimestampType\n",
    "\n",
    "def filter_by_distance_and_speed(df, min_distance=0, min_speed=0):\n",
    "    # Filter trips based on minimum distance and minimum speed criteria\n",
    "    return df.filter(\n",
    "        (col(\"trip_distance\") > min_distance) &\n",
    "        ((col(\"trip_distance\") / (unix_timestamp(\"tpep_dropoff_datetime\") - unix_timestamp(\"tpep_pickup_datetime\"))) >= min_speed)\n",
    "    )\n"
   ]
  },
  {
   "cell_type": "markdown",
   "metadata": {
    "application/vnd.databricks.v1+cell": {
     "cellMetadata": {
      "byteLimit": 2048000,
      "rowLimit": 10000
     },
     "inputWidgets": {},
     "nuid": "d9861a34-1749-4163-9268-3da1ebfd35ed",
     "showTitle": false,
     "title": ""
    }
   },
   "source": [
    "Function to Filter Unusual Speeds\n"
   ]
  },
  {
   "cell_type": "code",
   "execution_count": 0,
   "metadata": {
    "application/vnd.databricks.v1+cell": {
     "cellMetadata": {
      "byteLimit": 2048000,
      "rowLimit": 10000
     },
     "inputWidgets": {},
     "nuid": "181446f8-7925-478e-bfdd-d89eed54bb14",
     "showTitle": false,
     "title": ""
    }
   },
   "outputs": [],
   "source": [
    "from pyspark.sql.functions import col, unix_timestamp\n",
    "from pyspark.sql import DataFrame\n",
    "\n",
    "def filter_and_find_highest_speed(df: DataFrame, max_allowable_speed_kmph: float) -> DataFrame:\n",
    "    # Calculate trip speed (in km/h)\n",
    "    df = df.withColumn(\"trip_speed\", (col(\"trip_distance\") / (unix_timestamp(\"tpep_dropoff_datetime\") - unix_timestamp(\"tpep_pickup_datetime\"))) * 3600 / 1.609344)\n",
    "\n",
    "    # Filter out trips with very high speed\n",
    "    df = df.filter(df[\"trip_speed\"] <= max_allowable_speed_kmph)\n",
    "\n",
    "    return df\n"
   ]
  },
  {
   "cell_type": "markdown",
   "metadata": {
    "application/vnd.databricks.v1+cell": {
     "cellMetadata": {
      "byteLimit": 2048000,
      "rowLimit": 10000
     },
     "inputWidgets": {},
     "nuid": "f8f57b70-2c95-4852-b46a-c58725aae1cb",
     "showTitle": false,
     "title": ""
    }
   },
   "source": [
    "Function to Filter Out Trips with Very Short or Very Long Durations\n"
   ]
  },
  {
   "cell_type": "code",
   "execution_count": 0,
   "metadata": {
    "application/vnd.databricks.v1+cell": {
     "cellMetadata": {
      "byteLimit": 2048000,
      "rowLimit": 10000
     },
     "inputWidgets": {},
     "nuid": "95368c94-c9f3-4c3e-9edb-3698861a3124",
     "showTitle": false,
     "title": ""
    }
   },
   "outputs": [],
   "source": [
    "from pyspark.sql.functions import col, unix_timestamp\n",
    "from pyspark.sql import DataFrame\n",
    "\n",
    "def filter_by_trip_duration(df: DataFrame, min_duration: int, max_duration: int) -> DataFrame:\n",
    "    # Calculate trip duration (in seconds)\n",
    "    df = df.withColumn(\"trip_duration\", unix_timestamp(\"tpep_dropoff_datetime\") - unix_timestamp(\"tpep_pickup_datetime\"))\n",
    "\n",
    "    # Filter out trips with very short or very long durations\n",
    "    df = df.filter((df[\"trip_duration\"] >= min_duration) & (df[\"trip_duration\"] <= max_duration))\n",
    "\n",
    "    return df\n"
   ]
  },
  {
   "cell_type": "markdown",
   "metadata": {
    "application/vnd.databricks.v1+cell": {
     "cellMetadata": {
      "byteLimit": 2048000,
      "rowLimit": 10000
     },
     "inputWidgets": {},
     "nuid": "8b7c60b7-7de6-4720-a5c3-4af2e205be88",
     "showTitle": false,
     "title": ""
    }
   },
   "source": [
    "Filter out trips with very short or very long distances"
   ]
  },
  {
   "cell_type": "code",
   "execution_count": 0,
   "metadata": {
    "application/vnd.databricks.v1+cell": {
     "cellMetadata": {
      "byteLimit": 2048000,
      "rowLimit": 10000
     },
     "inputWidgets": {},
     "nuid": "5884cd17-7fad-4b40-9681-cc3b00f9f8be",
     "showTitle": false,
     "title": ""
    }
   },
   "outputs": [],
   "source": [
    "from pyspark.sql.functions import col\n",
    "from pyspark.sql import DataFrame\n",
    "\n",
    "def filter_by_trip_distance(df: DataFrame, min_distance: float, max_distance: float) -> DataFrame:\n",
    "    # Filter out trips with very short or very long distances\n",
    "    df = df.filter((df[\"trip_distance\"] >= min_distance) & (df[\"trip_distance\"] <= max_distance))\n",
    "\n",
    "    return df\n"
   ]
  },
  {
   "cell_type": "markdown",
   "metadata": {
    "application/vnd.databricks.v1+cell": {
     "cellMetadata": {
      "byteLimit": 2048000,
      "rowLimit": 10000
     },
     "inputWidgets": {},
     "nuid": "397878c7-4d5a-4d7b-9ff6-c09aa2b14385",
     "showTitle": false,
     "title": ""
    }
   },
   "source": [
    "Function to Filter Out Trips with Unrealistic Passenger Counts"
   ]
  },
  {
   "cell_type": "code",
   "execution_count": 0,
   "metadata": {
    "application/vnd.databricks.v1+cell": {
     "cellMetadata": {
      "byteLimit": 2048000,
      "rowLimit": 10000
     },
     "inputWidgets": {},
     "nuid": "ea917d3f-3736-4238-bbe0-029b2610aeab",
     "showTitle": false,
     "title": ""
    }
   },
   "outputs": [],
   "source": [
    "from pyspark.sql.functions import col\n",
    "from pyspark.sql import DataFrame\n",
    "\n",
    "def filter_by_passenger_count(df: DataFrame, min_count: int, max_count: int) -> DataFrame:\n",
    "    # Filter out trips with unrealistic passenger counts\n",
    "    df = df.filter((col(\"Passenger_count\") >= min_count) & (col(\"Passenger_count\") <= max_count))\n",
    "\n",
    "    return df\n"
   ]
  },
  {
   "cell_type": "markdown",
   "metadata": {
    "application/vnd.databricks.v1+cell": {
     "cellMetadata": {
      "byteLimit": 2048000,
      "rowLimit": 10000
     },
     "inputWidgets": {},
     "nuid": "8564e003-3e64-4f96-9cfd-49cfab05984b",
     "showTitle": false,
     "title": ""
    }
   },
   "source": [
    "Function to Filter for Trips with Invalid Rate Codes"
   ]
  },
  {
   "cell_type": "code",
   "execution_count": 0,
   "metadata": {
    "application/vnd.databricks.v1+cell": {
     "cellMetadata": {
      "byteLimit": 2048000,
      "rowLimit": 10000
     },
     "inputWidgets": {},
     "nuid": "4bb7838b-3107-46f7-aef2-224afe6a0ea2",
     "showTitle": false,
     "title": ""
    }
   },
   "outputs": [],
   "source": [
    "from pyspark.sql.functions import col\n",
    "from pyspark.sql import DataFrame\n",
    "\n",
    "def filter_by_invalid_rate_codes(df: DataFrame, valid_rate_codes: list) -> DataFrame:\n",
    "    # Filter for trips with invalid rate codes\n",
    "    df = df.filter(~col(\"RateCodeID\").isin(valid_rate_codes))\n",
    "\n",
    "    return df\n"
   ]
  },
  {
   "cell_type": "markdown",
   "metadata": {
    "application/vnd.databricks.v1+cell": {
     "cellMetadata": {
      "byteLimit": 2048000,
      "rowLimit": 10000
     },
     "inputWidgets": {},
     "nuid": "2b737bf9-4ec0-4883-829f-5b8311295393",
     "showTitle": false,
     "title": ""
    }
   },
   "source": [
    "Function to Filter for Trips with Valid Rate Codes"
   ]
  },
  {
   "cell_type": "code",
   "execution_count": 0,
   "metadata": {
    "application/vnd.databricks.v1+cell": {
     "cellMetadata": {
      "byteLimit": 2048000,
      "rowLimit": 10000
     },
     "inputWidgets": {},
     "nuid": "aaa9b277-7716-40d2-b49f-6ecd76f82a6e",
     "showTitle": false,
     "title": ""
    }
   },
   "outputs": [],
   "source": [
    "from pyspark.sql.functions import col\n",
    "from pyspark.sql import DataFrame\n",
    "\n",
    "def filter_by_valid_rate_codes(df: DataFrame, valid_rate_codes: list) -> DataFrame:\n",
    "    # Filter for trips with valid rate codes\n",
    "    df = df.filter(col(\"RateCodeID\").isin(valid_rate_codes))\n",
    "\n",
    "    return df\n"
   ]
  },
  {
   "cell_type": "markdown",
   "metadata": {
    "application/vnd.databricks.v1+cell": {
     "cellMetadata": {
      "byteLimit": 2048000,
      "rowLimit": 10000
     },
     "inputWidgets": {},
     "nuid": "30bfcf78-9f6a-4c1c-a398-a9470241a3ad",
     "showTitle": false,
     "title": ""
    }
   },
   "source": [
    "Function to Filter for Trips with Extreme Tip Amounts"
   ]
  },
  {
   "cell_type": "code",
   "execution_count": 0,
   "metadata": {
    "application/vnd.databricks.v1+cell": {
     "cellMetadata": {
      "byteLimit": 2048000,
      "rowLimit": 10000
     },
     "inputWidgets": {},
     "nuid": "0aa26421-730a-48ab-9eb0-8a9bd24954fa",
     "showTitle": false,
     "title": ""
    }
   },
   "outputs": [],
   "source": [
    "from pyspark.sql.functions import col\n",
    "from pyspark.sql import DataFrame\n",
    "\n",
    "def filter_extreme_tip_amounts(df: DataFrame, threshold: float) -> DataFrame:\n",
    "    # Filter for trips with extreme tip amounts\n",
    "    df = df.filter((col(\"Tip_amount\") > threshold) | (col(\"Tip_amount\") < 0))\n",
    "\n",
    "    return df\n",
    "\n",
    "# Example usage:\n",
    "# threshold = 150  # Adjust the threshold as needed\n",
    "# extreme_tip_trips = filter_extreme_tip_amounts(trips_2015, threshold)\n",
    "# extreme_tip_trips.show()\n"
   ]
  },
  {
   "cell_type": "markdown",
   "metadata": {
    "application/vnd.databricks.v1+cell": {
     "cellMetadata": {
      "byteLimit": 2048000,
      "rowLimit": 10000
     },
     "inputWidgets": {},
     "nuid": "467e4024-f035-4e89-bda6-325600d37f10",
     "showTitle": false,
     "title": ""
    }
   },
   "source": [
    "Filter out trips with extreme tip amounts (above the threshold) and negative tips"
   ]
  },
  {
   "cell_type": "code",
   "execution_count": 0,
   "metadata": {
    "application/vnd.databricks.v1+cell": {
     "cellMetadata": {
      "byteLimit": 2048000,
      "rowLimit": 10000
     },
     "inputWidgets": {},
     "nuid": "5567c2dc-b3ed-452d-b377-fd109251509d",
     "showTitle": false,
     "title": ""
    }
   },
   "outputs": [],
   "source": [
    "from pyspark.sql.functions import col\n",
    "from pyspark.sql import DataFrame\n",
    "\n",
    "def filter_tip_amounts(df: DataFrame, threshold: float) -> DataFrame:\n",
    "    # Filter out trips with extreme tip amounts (above the threshold) and negative tips\n",
    "    df = df.filter((col(\"Tip_amount\") <= threshold) & (col(\"Tip_amount\") >= 0))\n",
    "\n",
    "    return df\n",
    "\n",
    "# Example usage:\n",
    "# threshold = 150  # Adjust the threshold as needed\n",
    "# trips_2015 = filter_tip_amounts(trips_2015, threshold)\n",
    "# trips_2015.show()\n"
   ]
  },
  {
   "cell_type": "markdown",
   "metadata": {
    "application/vnd.databricks.v1+cell": {
     "cellMetadata": {
      "byteLimit": 2048000,
      "rowLimit": 10000
     },
     "inputWidgets": {},
     "nuid": "e20f30e2-900d-4771-8ba2-c7eadc05fb92",
     "showTitle": false,
     "title": ""
    }
   },
   "source": [
    "Check for Missing values in columns "
   ]
  },
  {
   "cell_type": "code",
   "execution_count": 0,
   "metadata": {
    "application/vnd.databricks.v1+cell": {
     "cellMetadata": {
      "byteLimit": 2048000,
      "rowLimit": 10000
     },
     "inputWidgets": {},
     "nuid": "9d5ce75b-a369-4b82-8ffb-3f41016ae1e1",
     "showTitle": false,
     "title": ""
    }
   },
   "outputs": [],
   "source": [
    "from pyspark.sql.functions import col\n",
    "from pyspark.sql import DataFrame\n",
    "\n",
    "def check_missing_values(df: DataFrame, columns: list):\n",
    "    for column in columns:\n",
    "        # Count missing values in each specified column\n",
    "        missing_count = df.filter(col(column).isNull()).count()\n",
    "        print(f\"Missing values in column '{column}': {missing_count}\")\n"
   ]
  },
  {
   "cell_type": "markdown",
   "metadata": {
    "application/vnd.databricks.v1+cell": {
     "cellMetadata": {
      "byteLimit": 2048000,
      "rowLimit": 10000
     },
     "inputWidgets": {},
     "nuid": "fe5e0771-b3d5-4dab-a5eb-389455d29084",
     "showTitle": false,
     "title": ""
    }
   },
   "source": [
    "Function to: \n",
    "Compute the average toll amount\n",
    "& Compute the highest toll amount"
   ]
  },
  {
   "cell_type": "code",
   "execution_count": 0,
   "metadata": {
    "application/vnd.databricks.v1+cell": {
     "cellMetadata": {
      "byteLimit": 2048000,
      "rowLimit": 10000
     },
     "inputWidgets": {},
     "nuid": "2e7f4dfb-423a-464a-afe4-35a62d3456d5",
     "showTitle": false,
     "title": ""
    }
   },
   "outputs": [],
   "source": [
    "from pyspark.sql.functions import col, avg, max\n",
    "from pyspark.sql import DataFrame\n",
    "\n",
    "def compute_average_and_highest_toll(df: DataFrame):\n",
    "    # Compute the average toll amount\n",
    "    average_toll = df.select(avg(col(\"tolls_amount\"))).collect()[0][0]\n",
    "\n",
    "    # Compute the highest toll amount\n",
    "    highest_toll = df.select(max(col(\"tolls_amount\"))).collect()[0][0]\n",
    "\n",
    "    print(\"Average Toll Amount:\", average_toll)\n",
    "    print(\"Highest Toll Amount:\", highest_toll)\n"
   ]
  },
  {
   "cell_type": "markdown",
   "metadata": {
    "application/vnd.databricks.v1+cell": {
     "cellMetadata": {
      "byteLimit": 2048000,
      "rowLimit": 10000
     },
     "inputWidgets": {},
     "nuid": "50faa15b-0ea0-473e-8f1f-e8eceb06e1bd",
     "showTitle": false,
     "title": ""
    }
   },
   "source": [
    "Filter for trips with high toll amounts & Show the count of trips with high toll amounts"
   ]
  },
  {
   "cell_type": "code",
   "execution_count": 0,
   "metadata": {
    "application/vnd.databricks.v1+cell": {
     "cellMetadata": {
      "byteLimit": 2048000,
      "rowLimit": 10000
     },
     "inputWidgets": {},
     "nuid": "3ce60298-6840-483e-aa12-ab056c2aeea5",
     "showTitle": false,
     "title": ""
    }
   },
   "outputs": [],
   "source": [
    "from pyspark.sql.functions import col\n",
    "from pyspark.sql import DataFrame\n",
    "\n",
    "def find_high_toll_outliers(df: DataFrame, threshold: float):\n",
    "    # Filter for trips with toll amounts greater than the specified threshold\n",
    "    toll_outliers = df.filter(col(\"tolls_amount\") > threshold)\n",
    "    \n",
    "    # Show the count of trips with high toll amounts\n",
    "    count = toll_outliers.count()\n",
    "    print(f\"Trips with toll amounts greater than {threshold}: {count}\")\n"
   ]
  },
  {
   "cell_type": "markdown",
   "metadata": {
    "application/vnd.databricks.v1+cell": {
     "cellMetadata": {
      "byteLimit": 2048000,
      "rowLimit": 10000
     },
     "inputWidgets": {},
     "nuid": "7ea4d627-2cee-4c44-8f25-9671ba38637d",
     "showTitle": false,
     "title": ""
    }
   },
   "source": [
    "Show the DataFrame with rows having unexpected values in the 'store_and_fwd_flag' column"
   ]
  },
  {
   "cell_type": "code",
   "execution_count": 0,
   "metadata": {
    "application/vnd.databricks.v1+cell": {
     "cellMetadata": {
      "byteLimit": 2048000,
      "rowLimit": 10000
     },
     "inputWidgets": {},
     "nuid": "f306c963-583a-4444-ba7c-ad018e8a6727",
     "showTitle": false,
     "title": ""
    }
   },
   "outputs": [],
   "source": [
    "from pyspark.sql.functions import col\n",
    "from pyspark.sql import DataFrame\n",
    "\n",
    "def filter_unexpected_store_and_fwd_flag(df: DataFrame):\n",
    "    # Filter for rows with values other than 'Y' and 'N' in the 'store_and_fwd_flag' column\n",
    "    unexpected_values = df.filter(~col(\"store_and_fwd_flag\").isin('Y', 'N'))\n",
    "\n",
    "    # Show the DataFrame with rows having unexpected values in the 'store_and_fwd_flag' column\n",
    "    unexpected_values.show()\n"
   ]
  },
  {
   "cell_type": "markdown",
   "metadata": {
    "application/vnd.databricks.v1+cell": {
     "cellMetadata": {
      "byteLimit": 2048000,
      "rowLimit": 10000
     },
     "inputWidgets": {},
     "nuid": "7aade3af-f413-4942-afe7-02dec0374164",
     "showTitle": false,
     "title": ""
    }
   },
   "source": [
    "Compute the average surcharge\n",
    "Compute the highest surcharge"
   ]
  },
  {
   "cell_type": "code",
   "execution_count": 0,
   "metadata": {
    "application/vnd.databricks.v1+cell": {
     "cellMetadata": {
      "byteLimit": 2048000,
      "rowLimit": 10000
     },
     "inputWidgets": {},
     "nuid": "8ad7b09e-39b1-4b24-8521-7e98541689f4",
     "showTitle": false,
     "title": ""
    }
   },
   "outputs": [],
   "source": [
    "from pyspark.sql.functions import col\n",
    "from pyspark.sql import DataFrame\n",
    "\n",
    "def compute_average_and_highest_surcharge(df: DataFrame):\n",
    "    # Compute the average surcharge\n",
    "    average_surcharge = df.select(avg(col(\"congestion_surcharge\"))).collect()[0][0]\n",
    "\n",
    "    # Compute the highest surcharge\n",
    "    highest_surcharge = df.select(max(col(\"congestion_surcharge\"))).collect()[0][0]\n",
    "\n",
    "    print(\"Average Surcharge:\", average_surcharge)\n",
    "    print(\"Highest Surcharge:\", highest_surcharge)\n"
   ]
  },
  {
   "cell_type": "markdown",
   "metadata": {
    "application/vnd.databricks.v1+cell": {
     "cellMetadata": {
      "byteLimit": 2048000,
      "rowLimit": 10000
     },
     "inputWidgets": {},
     "nuid": "4b7ac01b-ed3c-4006-a4bd-7566c52c4d9c",
     "showTitle": false,
     "title": ""
    }
   },
   "source": [
    "## Yellow Taxi Dataset Cleaning Preparation "
   ]
  },
  {
   "cell_type": "markdown",
   "metadata": {
    "application/vnd.databricks.v1+cell": {
     "cellMetadata": {},
     "inputWidgets": {},
     "nuid": "ec6befd3-8820-4873-8598-89d0d4afdfe4",
     "showTitle": false,
     "title": ""
    }
   },
   "source": [
    "We are importing the original parquet files of the Yellow Data into DBFS from the shared Google Drive. "
   ]
  },
  {
   "cell_type": "code",
   "execution_count": 0,
   "metadata": {
    "application/vnd.databricks.v1+cell": {
     "cellMetadata": {
      "byteLimit": 2048000,
      "rowLimit": 10000
     },
     "inputWidgets": {},
     "nuid": "a01fd034-da6b-4824-b694-adaa3ff9ad81",
     "showTitle": false,
     "title": ""
    }
   },
   "outputs": [
    {
     "output_type": "stream",
     "name": "stdout",
     "output_type": "stream",
     "text": [
      "Out[16]: 663055251"
     ]
    }
   ],
   "source": [
    "df_yellow = spark.read.parquet(\"/FileStore/yellow\")\n",
    "df_yellow.count()"
   ]
  },
  {
   "cell_type": "markdown",
   "metadata": {
    "application/vnd.databricks.v1+cell": {
     "cellMetadata": {},
     "inputWidgets": {},
     "nuid": "2bba7e26-ef21-48d8-a536-eba389971ab4",
     "showTitle": false,
     "title": ""
    }
   },
   "source": [
    "There are approximately 663 million rows. As stated earlier we will need to segment the rows year-wise. "
   ]
  },
  {
   "cell_type": "code",
   "execution_count": 0,
   "metadata": {
    "application/vnd.databricks.v1+cell": {
     "cellMetadata": {
      "byteLimit": 2048000,
      "rowLimit": 10000
     },
     "inputWidgets": {},
     "nuid": "3407b2ec-897d-40a7-bd46-09cdc0fc982f",
     "showTitle": false,
     "title": ""
    }
   },
   "outputs": [],
   "source": [
    "# Filter DataFrame df_yellow to keep only rows where drop-off datetime is greater than or equal to pickup datetime.\n",
    "\n",
    "df_cleaned = df_yellow.filter(df_yellow['tpep_dropoff_datetime'] >= df_yellow['tpep_pickup_datetime'])\n"
   ]
  },
  {
   "cell_type": "code",
   "execution_count": 0,
   "metadata": {
    "application/vnd.databricks.v1+cell": {
     "cellMetadata": {
      "byteLimit": 2048000,
      "rowLimit": 10000
     },
     "inputWidgets": {},
     "nuid": "9f75a71f-8e0d-47a3-8df9-965136221af0",
     "showTitle": false,
     "title": ""
    }
   },
   "outputs": [],
   "source": [
    "# Import the necessary function for capturing input file names.\n",
    "from pyspark.sql.functions import input_file_name\n",
    "\n",
    "# Create a new DataFrame df_cleaned that includes a new column 'filename' containing the input file name.\n",
    "df_cleaned = df_cleaned.withColumn(\"filename\", input_file_name())\n"
   ]
  },
  {
   "cell_type": "code",
   "execution_count": 0,
   "metadata": {
    "application/vnd.databricks.v1+cell": {
     "cellMetadata": {
      "byteLimit": 2048000,
      "rowLimit": 10000
     },
     "inputWidgets": {},
     "nuid": "27930286-3d07-45da-971b-feff354adc65",
     "showTitle": false,
     "title": ""
    }
   },
   "outputs": [
    {
     "output_type": "stream",
     "name": "stdout",
     "output_type": "stream",
     "text": [
      "+--------+--------------------+---------------------+---------------+-------------+----------+------------------+------------+------------+------------+-----------+-----+-------+----------+------------+---------------------+------------+--------------------+-----------+--------------------+\n|VendorID|tpep_pickup_datetime|tpep_dropoff_datetime|passenger_count|trip_distance|RatecodeID|store_and_fwd_flag|PULocationID|DOLocationID|payment_type|fare_amount|extra|mta_tax|tip_amount|tolls_amount|improvement_surcharge|total_amount|congestion_surcharge|airport_fee|            filename|\n+--------+--------------------+---------------------+---------------+-------------+----------+------------------+------------+------------+------------+-----------+-----+-------+----------+------------+---------------------+------------+--------------------+-----------+--------------------+\n|       1| 2015-01-01 00:11:33|  2015-01-01 00:16:48|            1.0|          1.0|       1.0|                 N|          41|         166|           1|        5.7|  0.5|    0.5|       1.4|         0.0|                  0.0|         8.4|                null|       null|dbfs:/FileStore/y...|\n|       1| 2015-01-01 00:18:24|  2015-01-01 00:24:20|            1.0|          0.9|       1.0|                 N|         166|         238|           3|        6.0|  0.5|    0.5|       0.0|         0.0|                  0.0|         7.3|                null|       null|dbfs:/FileStore/y...|\n|       1| 2015-01-01 00:26:19|  2015-01-01 00:41:06|            1.0|          3.5|       1.0|                 N|         238|         162|           1|       13.2|  0.5|    0.5|       2.9|         0.0|                  0.0|        17.4|                null|       null|dbfs:/FileStore/y...|\n|       1| 2015-01-01 00:45:26|  2015-01-01 00:53:20|            1.0|          2.1|       1.0|                 N|         162|         263|           1|        8.2|  0.5|    0.5|      2.37|         0.0|                  0.0|       11.87|                null|       null|dbfs:/FileStore/y...|\n|       1| 2015-01-01 00:59:21|  2015-01-01 01:05:24|            1.0|          1.0|       1.0|                 N|         236|         141|           3|        6.0|  0.5|    0.5|       0.0|         0.0|                  0.0|         7.3|                null|       null|dbfs:/FileStore/y...|\n|       1| 2015-01-01 00:07:31|  2015-01-01 00:11:32|            1.0|          0.8|       1.0|                 N|         239|         238|           2|        5.0|  0.5|    0.5|       0.0|         0.0|                  0.0|         6.3|                null|       null|dbfs:/FileStore/y...|\n|       1| 2015-01-01 00:47:08|  2015-01-01 00:54:50|            1.0|          1.1|       1.0|                 N|         238|         239|           2|        7.0|  0.5|    0.5|       0.0|         0.0|                  0.0|         8.3|                null|       null|dbfs:/FileStore/y...|\n|       1| 2015-01-01 00:58:04|  2015-01-01 01:11:56|            1.0|          2.9|       1.0|                 N|         238|          42|           1|       12.2|  0.5|    0.5|       2.7|         0.0|                  0.0|        16.2|                null|       null|dbfs:/FileStore/y...|\n|       1| 2015-01-01 00:29:25|  2015-01-01 00:37:25|            2.0|          1.3|       1.0|                 N|          90|         125|           2|        7.0|  0.5|    0.5|       0.0|         0.0|                  0.0|         8.3|                null|       null|dbfs:/FileStore/y...|\n|       1| 2015-01-01 00:39:02|  2015-01-01 01:02:37|            2.0|          4.3|       1.0|                 N|         125|         141|           2|       18.0|  0.5|    0.5|       0.0|         0.0|                  0.0|        19.3|                null|       null|dbfs:/FileStore/y...|\n|       1| 2015-01-01 00:06:44|  2015-01-01 00:12:37|            2.0|          0.8|       1.0|                 N|         246|          50|           2|        5.5|  0.5|    0.5|       0.0|         0.0|                  0.0|         6.8|                null|       null|dbfs:/FileStore/y...|\n|       1| 2015-01-01 00:47:48|  2015-01-01 01:03:18|            1.0|          2.7|       1.0|                 N|         246|          79|           1|       11.7|  0.5|    0.5|       1.8|         0.0|                  0.0|        14.8|                null|       null|dbfs:/FileStore/y...|\n|       1| 2015-01-01 00:29:23|  2015-01-01 00:38:26|            1.0|          2.6|       1.0|                 N|         264|         263|           2|       10.0|  0.5|    0.5|       0.0|         0.0|                  0.0|        11.3|                null|       null|dbfs:/FileStore/y...|\n|       1| 2015-01-01 00:39:52|  2015-01-01 00:42:49|            1.0|          0.5|       1.0|                 N|         263|         140|           1|        4.0|  0.5|    0.5|      1.05|         0.0|                  0.0|        6.35|                null|       null|dbfs:/FileStore/y...|\n|       1| 2015-01-01 00:57:41|  2015-01-01 01:10:45|            1.0|          0.4|       1.0|                 N|         161|         162|           2|        9.0|  0.5|    0.5|       0.0|         0.0|                  0.0|        10.3|                null|       null|dbfs:/FileStore/y...|\n|       1| 2015-01-01 00:02:53|  2015-01-01 00:16:28|            1.0|          5.4|       1.0|                 N|         164|          88|           1|       17.7|  0.5|    0.5|       0.0|         0.0|                  0.0|        19.0|                null|       null|dbfs:/FileStore/y...|\n|       1| 2015-01-01 00:18:38|  2015-01-01 00:34:33|            1.0|          3.4|       1.0|                 N|          88|         158|           1|       13.2|  0.5|    0.5|       2.9|         0.0|                  0.0|        17.4|                null|       null|dbfs:/FileStore/y...|\n|       1| 2015-01-01 00:35:34|  2015-01-01 00:58:57|            1.0|          4.4|       1.0|                 N|         158|         145|           1|       18.2|  0.5|    0.5|       3.0|        5.33|                  0.0|       27.83|                null|       null|dbfs:/FileStore/y...|\n|       2| 2015-01-01 00:16:45|  2015-01-01 00:22:53|            1.0|         1.18|       1.0|                 N|         151|         239|           2|        6.5|  0.5|    0.5|       0.0|         0.0|                  0.3|         7.8|                null|       null|dbfs:/FileStore/y...|\n|       2| 2015-01-01 00:35:52|  2015-01-01 00:55:51|            1.0|         2.29|       1.0|                 N|         142|         161|           2|       13.5|  0.5|    0.5|       0.0|         0.0|                  0.3|        14.8|                null|       null|dbfs:/FileStore/y...|\n+--------+--------------------+---------------------+---------------+-------------+----------+------------------+------------+------------+------------+-----------+-----+-------+----------+------------+---------------------+------------+--------------------+-----------+--------------------+\nonly showing top 20 rows\n\n"
     ]
    }
   ],
   "source": [
    "df_cleaned.show()"
   ]
  },
  {
   "cell_type": "markdown",
   "metadata": {
    "application/vnd.databricks.v1+cell": {
     "cellMetadata": {
      "byteLimit": 2048000,
      "rowLimit": 10000
     },
     "inputWidgets": {},
     "nuid": "40d3a8f1-73bb-4326-8f65-b8ee4ccfc7d9",
     "showTitle": false,
     "title": ""
    }
   },
   "source": [
    "Processing Year 2015"
   ]
  },
  {
   "cell_type": "code",
   "execution_count": 0,
   "metadata": {
    "application/vnd.databricks.v1+cell": {
     "cellMetadata": {
      "byteLimit": 2048000,
      "rowLimit": 10000
     },
     "inputWidgets": {},
     "nuid": "e53ab3f7-6b9d-426f-a9f8-f6630f4f8958",
     "showTitle": false,
     "title": ""
    }
   },
   "outputs": [],
   "source": [
    "# Set the target year to 2015.\n",
    "year = 2015\n",
    "\n",
    "# Create a new DataFrame trips_2015 by calling the filter_and_clean_data function with df_cleaned and the specified year as arguments.\n",
    "trips_2015 = filter_and_clean_data(df_cleaned, year)\n"
   ]
  },
  {
   "cell_type": "code",
   "execution_count": 0,
   "metadata": {
    "application/vnd.databricks.v1+cell": {
     "cellMetadata": {
      "byteLimit": 2048000,
      "rowLimit": 10000
     },
     "inputWidgets": {},
     "nuid": "3c4f89bc-f0d3-44a9-bc3e-0a2efdf5633b",
     "showTitle": false,
     "title": ""
    }
   },
   "outputs": [],
   "source": [
    "# Apply a filter to the trips_2015 DataFrame to keep only trips with a minimum distance of 0 and a minimum speed of 0.\n",
    "trips_2015 = filter_by_distance_and_speed(trips_2015, min_distance=0, min_speed=0)\n"
   ]
  },
  {
   "cell_type": "code",
   "execution_count": 0,
   "metadata": {
    "application/vnd.databricks.v1+cell": {
     "cellMetadata": {
      "byteLimit": 2048000,
      "rowLimit": 10000
     },
     "inputWidgets": {},
     "nuid": "fa8dd713-5c18-46f3-a751-484055ee66e4",
     "showTitle": false,
     "title": ""
    }
   },
   "outputs": [],
   "source": [
    "# Apply a filter to the trips_2015 DataFrame to keep only trips with a maximum allowable speed of 40 km/h.\n",
    "trips_2015 = filter_and_find_highest_speed(trips_2015, max_allowable_speed_kmph=40)\n"
   ]
  },
  {
   "cell_type": "code",
   "execution_count": 0,
   "metadata": {
    "application/vnd.databricks.v1+cell": {
     "cellMetadata": {
      "byteLimit": 2048000,
      "rowLimit": 10000
     },
     "inputWidgets": {},
     "nuid": "5b2563eb-f2ce-4708-9ae3-45d3c7d4997c",
     "showTitle": false,
     "title": ""
    }
   },
   "outputs": [],
   "source": [
    "# Apply a filter to the trips_2015 DataFrame to keep only trips with a minimum duration of 60 seconds and a maximum duration of 86,400 seconds (24 hours).\n",
    "trips_2015 = filter_by_trip_duration(trips_2015, min_duration=60, max_duration=86400)\n"
   ]
  },
  {
   "cell_type": "code",
   "execution_count": 0,
   "metadata": {
    "application/vnd.databricks.v1+cell": {
     "cellMetadata": {
      "byteLimit": 2048000,
      "rowLimit": 10000
     },
     "inputWidgets": {},
     "nuid": "9982002e-70ed-47f3-a285-215382cb0cdc",
     "showTitle": false,
     "title": ""
    }
   },
   "outputs": [],
   "source": [
    "# Apply a filter to the trips_2015 DataFrame to keep only trips with a minimum distance of 0.1 units and a maximum distance of 100 units.\n",
    "trips_2015 = filter_by_trip_distance(trips_2015, min_distance=0.1, max_distance=100)\n"
   ]
  },
  {
   "cell_type": "code",
   "execution_count": 0,
   "metadata": {
    "application/vnd.databricks.v1+cell": {
     "cellMetadata": {
      "byteLimit": 2048000,
      "rowLimit": 10000
     },
     "inputWidgets": {},
     "nuid": "b64b9d0b-cff9-4be6-8b6b-1ee76b6ec323",
     "showTitle": false,
     "title": ""
    }
   },
   "outputs": [],
   "source": [
    "# Apply a filter to the trips_2015 DataFrame to keep only trips with a minimum passenger count of 1 and a maximum passenger count of 7.\n",
    "trips_2015 = filter_by_passenger_count(trips_2015, min_count=1, max_count=7)\n"
   ]
  },
  {
   "cell_type": "markdown",
   "metadata": {
    "application/vnd.databricks.v1+cell": {
     "cellMetadata": {},
     "inputWidgets": {},
     "nuid": "f488d3c0-167d-4d2b-a9b3-c5f6a11de832",
     "showTitle": false,
     "title": ""
    }
   },
   "source": [
    "The below code was used to show any invalid rate codes in the dataset. Indeed, there were some invalid codes once this code as executed.. But code itself didn't apply any transformation on the dataset. So we have commented it out to save some computation and time and kept it for reference. And the same holds for the code that checks for extreme tip amounts "
   ]
  },
  {
   "cell_type": "code",
   "execution_count": 0,
   "metadata": {
    "application/vnd.databricks.v1+cell": {
     "cellMetadata": {
      "byteLimit": 2048000,
      "rowLimit": 10000
     },
     "inputWidgets": {},
     "nuid": "447c07ed-0fbd-4a59-b29b-b3479599d83c",
     "showTitle": false,
     "title": ""
    }
   },
   "outputs": [],
   "source": [
    "#valid_rate_codes = [1, 2, 3, 4, 5, 6]  # the list of valid rate codes we want to check against\n",
    "#invalid_rate_code_trips = filter_by_invalid_rate_codes(trips_2015, valid_rate_codes)\n",
    "#invalid_rate_code_trips.show()"
   ]
  },
  {
   "cell_type": "code",
   "execution_count": 0,
   "metadata": {
    "application/vnd.databricks.v1+cell": {
     "cellMetadata": {
      "byteLimit": 2048000,
      "rowLimit": 10000
     },
     "inputWidgets": {},
     "nuid": "7bdc1b1f-8eb5-4e67-8b3d-470888567f96",
     "showTitle": false,
     "title": ""
    }
   },
   "outputs": [],
   "source": [
    "# Define a list of valid rate codes.\n",
    "valid_rate_codes = [1, 2, 3, 4, 5, 6]\n",
    "\n",
    "# Apply a filter to the trips_2015 DataFrame to keep only trips with rate codes in the list of valid rate codes.\n",
    "trips_2015 = filter_by_valid_rate_codes(trips_2015, valid_rate_codes)\n"
   ]
  },
  {
   "cell_type": "code",
   "execution_count": 0,
   "metadata": {
    "application/vnd.databricks.v1+cell": {
     "cellMetadata": {
      "byteLimit": 2048000,
      "rowLimit": 10000
     },
     "inputWidgets": {},
     "nuid": "7a457e47-283d-4c34-8f7b-b2b76a418355",
     "showTitle": false,
     "title": ""
    }
   },
   "outputs": [],
   "source": [
    "#threshold = 150  # Adjusted the threshold per business decision\n",
    "#extreme_tip_trips = filter_extreme_tip_amounts(trips_2015, threshold)\n",
    "#extreme_tip_trips.show()"
   ]
  },
  {
   "cell_type": "code",
   "execution_count": 0,
   "metadata": {
    "application/vnd.databricks.v1+cell": {
     "cellMetadata": {
      "byteLimit": 2048000,
      "rowLimit": 10000
     },
     "inputWidgets": {},
     "nuid": "57a8f076-603b-486a-bdc9-505e5cf515b7",
     "showTitle": false,
     "title": ""
    }
   },
   "outputs": [],
   "source": [
    "# Define a threshold value for filtering tip amounts.\n",
    "threshold = 150  # Adjust the threshold as needed\n",
    "\n",
    "# Apply a filter to the trips_2015 DataFrame to keep only trips with tip amounts less than or equal to the threshold.\n",
    "trips_2015 = filter_tip_amounts(trips_2015, threshold)\n"
   ]
  },
  {
   "cell_type": "code",
   "execution_count": 0,
   "metadata": {
    "application/vnd.databricks.v1+cell": {
     "cellMetadata": {
      "byteLimit": 2048000,
      "rowLimit": 10000
     },
     "inputWidgets": {},
     "nuid": "e07f1e0e-8e04-43f4-9747-86a9f8f020f4",
     "showTitle": false,
     "title": ""
    }
   },
   "outputs": [
    {
     "output_type": "stream",
     "name": "stdout",
     "output_type": "stream",
     "text": [
      "+--------+--------------------+---------------------+---------------+-------------+----------+------------------+------------+------------+------------+-----------+-----+-------+----------+------------+---------------------+------------+--------------------+-----------+--------+----------+-------------+\n|VendorID|tpep_pickup_datetime|tpep_dropoff_datetime|passenger_count|trip_distance|RatecodeID|store_and_fwd_flag|PULocationID|DOLocationID|payment_type|fare_amount|extra|mta_tax|tip_amount|tolls_amount|improvement_surcharge|total_amount|congestion_surcharge|airport_fee|filename|trip_speed|trip_duration|\n+--------+--------------------+---------------------+---------------+-------------+----------+------------------+------------+------------+------------+-----------+-----+-------+----------+------------+---------------------+------------+--------------------+-----------+--------+----------+-------------+\n+--------+--------------------+---------------------+---------------+-------------+----------+------------------+------------+------------+------------+-----------+-----+-------+----------+------------+---------------------+------------+--------------------+-----------+--------+----------+-------------+\n\n"
     ]
    }
   ],
   "source": [
    "# Call the filter_unexpected_store_and_fwd_flag function to filter and display rows with unexpected values in the 'store_and_fwd_flag' column of the trips_2015 DataFrame.\n",
    "filter_unexpected_store_and_fwd_flag(trips_2015)\n"
   ]
  },
  {
   "cell_type": "markdown",
   "metadata": {
    "application/vnd.databricks.v1+cell": {
     "cellMetadata": {},
     "inputWidgets": {},
     "nuid": "b9926adf-e686-499c-9d39-5c2ce87b3e27",
     "showTitle": false,
     "title": ""
    }
   },
   "source": [
    "This suggests that all rows in the trips_2015 DataFrame have valid values in the 'store_and_fwd_flag' column, and there are no unexpected values to filter. This is a good indication that the data in this specific column is clean and conforms to the expected format."
   ]
  },
  {
   "cell_type": "code",
   "execution_count": 0,
   "metadata": {
    "application/vnd.databricks.v1+cell": {
     "cellMetadata": {
      "byteLimit": 2048000,
      "rowLimit": 10000
     },
     "inputWidgets": {},
     "nuid": "0ddcf2ef-4c59-4ada-800c-db97b247c01c",
     "showTitle": false,
     "title": ""
    }
   },
   "outputs": [],
   "source": [
    "# Define the output folder and filename for saving the DataFrame as a Parquet file.\n",
    "output_folder = \"/CleanedData/yellow/\"\n",
    "output_filename = output_folder + \"cleaned_2015.parquet\"\n",
    "\n",
    "# Save the trips_2015 DataFrame as a Parquet file with the specified filename, overwriting if it already exists.\n",
    "trips_2015.write.parquet(output_filename, mode=\"overwrite\")\n"
   ]
  },
  {
   "cell_type": "markdown",
   "metadata": {
    "application/vnd.databricks.v1+cell": {
     "cellMetadata": {},
     "inputWidgets": {},
     "nuid": "ead6eeb4-cd90-4da3-b178-9e8e5d292b26",
     "showTitle": false,
     "title": ""
    }
   },
   "source": [
    "Saved the Parquet file to a cleaned_data folder. And the data cleaning process continues for the rest of the years. "
   ]
  },
  {
   "cell_type": "markdown",
   "metadata": {
    "application/vnd.databricks.v1+cell": {
     "cellMetadata": {
      "byteLimit": 2048000,
      "rowLimit": 10000
     },
     "inputWidgets": {},
     "nuid": "3d932912-9dc9-4826-881e-774c4b819d56",
     "showTitle": false,
     "title": ""
    }
   },
   "source": [
    "Processing Year 2016"
   ]
  },
  {
   "cell_type": "code",
   "execution_count": 0,
   "metadata": {
    "application/vnd.databricks.v1+cell": {
     "cellMetadata": {
      "byteLimit": 2048000,
      "rowLimit": 10000
     },
     "inputWidgets": {},
     "nuid": "eda4c062-80c7-4d7d-94fd-afdb705ebfcc",
     "showTitle": false,
     "title": ""
    }
   },
   "outputs": [],
   "source": [
    "# Set the target year to 2016.\n",
    "year = 2016\n",
    "\n",
    "# Create a new DataFrame trips_2016 by calling the filter_and_clean_data function with df_cleaned and the specified year as arguments.\n",
    "trips_2016 = filter_and_clean_data(df_cleaned, year)\n"
   ]
  },
  {
   "cell_type": "code",
   "execution_count": 0,
   "metadata": {
    "application/vnd.databricks.v1+cell": {
     "cellMetadata": {
      "byteLimit": 2048000,
      "rowLimit": 10000
     },
     "inputWidgets": {},
     "nuid": "90f0398f-fa71-4415-a7c0-d66ee69abd42",
     "showTitle": false,
     "title": ""
    }
   },
   "outputs": [],
   "source": [
    "# Apply data cleaning and filtering operations to the trips_2016 DataFrame for the year 2016.\n",
    "\n",
    "# Filter trips with minimum distance and speed requirements.\n",
    "trips_2016 = filter_by_distance_and_speed(trips_2016, min_distance=0, min_speed=0)\n",
    "\n",
    "# Filter trips with a maximum allowable speed.\n",
    "trips_2016 = filter_and_find_highest_speed(trips_2016, max_allowable_speed_kmph=40)\n",
    "\n",
    "# Filter trips by trip duration.\n",
    "trips_2016 = filter_by_trip_duration(trips_2016, min_duration=60, max_duration=86400)\n",
    "\n",
    "# Filter trips by trip distance.\n",
    "trips_2016 = filter_by_trip_distance(trips_2016, min_distance=0.1, max_distance=100)\n",
    "\n",
    "# Filter trips by passenger count.\n",
    "trips_2016 = filter_by_passenger_count(trips_2016, min_count=1, max_count=7)\n"
   ]
  },
  {
   "cell_type": "code",
   "execution_count": 0,
   "metadata": {
    "application/vnd.databricks.v1+cell": {
     "cellMetadata": {
      "byteLimit": 2048000,
      "rowLimit": 10000
     },
     "inputWidgets": {},
     "nuid": "34a8d62a-3851-4272-bda0-a54e82544278",
     "showTitle": false,
     "title": ""
    }
   },
   "outputs": [],
   "source": [
    "# Define a list of valid rate codes.\n",
    "valid_rate_codes = [1, 2, 3, 4, 5, 6]\n",
    "\n",
    "# Apply a filter to the trips_2016 DataFrame to keep only trips with rate codes in the list of valid rate codes.\n",
    "trips_2016 = filter_by_valid_rate_codes(trips_2016, valid_rate_codes)\n"
   ]
  },
  {
   "cell_type": "code",
   "execution_count": 0,
   "metadata": {
    "application/vnd.databricks.v1+cell": {
     "cellMetadata": {
      "byteLimit": 2048000,
      "rowLimit": 10000
     },
     "inputWidgets": {},
     "nuid": "6fe755c9-f100-4b16-845e-55f55955bcee",
     "showTitle": false,
     "title": ""
    }
   },
   "outputs": [
    {
     "output_type": "stream",
     "name": "stdout",
     "output_type": "stream",
     "text": [
      "+--------+--------------------+---------------------+---------------+-------------+----------+------------------+------------+------------+------------+-----------+-----+-------+----------+------------+---------------------+------------+--------------------+-----------+--------------------+------------------+-------------+\n|VendorID|tpep_pickup_datetime|tpep_dropoff_datetime|passenger_count|trip_distance|RatecodeID|store_and_fwd_flag|PULocationID|DOLocationID|payment_type|fare_amount|extra|mta_tax|tip_amount|tolls_amount|improvement_surcharge|total_amount|congestion_surcharge|airport_fee|            filename|        trip_speed|trip_duration|\n+--------+--------------------+---------------------+---------------+-------------+----------+------------------+------------+------------+------------+-----------+-----+-------+----------+------------+---------------------+------------+--------------------+-----------+--------------------+------------------+-------------+\n|       1| 2016-01-01 00:12:22|  2016-01-01 00:29:14|            1.0|          3.2|       1.0|                 N|          48|         262|           1|       14.0|  0.5|    0.5|      3.06|         0.0|                  0.3|       18.36|                null|       null|dbfs:/FileStore/y...| 7.073316338511944|         1012|\n|       1| 2016-01-01 00:41:31|  2016-01-01 00:55:10|            2.0|          1.0|       1.0|                 N|         162|          48|           2|        9.5|  0.5|    0.5|       0.0|         0.0|                  0.3|        10.8|                null|       null|dbfs:/FileStore/y...| 2.731301943900369|          819|\n|       1| 2016-01-01 00:53:37|  2016-01-01 00:59:57|            1.0|          0.9|       1.0|                 N|         246|          90|           2|        6.0|  0.5|    0.5|       0.0|         0.0|                  0.3|         7.3|                null|       null|dbfs:/FileStore/y...| 5.298007007497269|          380|\n|       1| 2016-01-01 00:13:28|  2016-01-01 00:18:07|            1.0|          0.8|       1.0|                 N|         170|         162|           2|        5.0|  0.5|    0.5|       0.0|         0.0|                  0.3|         6.3|                null|       null|dbfs:/FileStore/y...| 6.414154242449898|          279|\n|       1| 2016-01-01 00:33:04|  2016-01-01 00:47:14|            1.0|          1.8|       1.0|                 N|         161|         140|           2|       11.0|  0.5|    0.5|       0.0|         0.0|                  0.3|        12.3|                null|       null|dbfs:/FileStore/y...| 4.737041559644617|          850|\n|       1| 2016-01-01 00:49:47|  2016-01-01 01:04:44|            1.0|          2.3|       1.0|                 N|         141|         137|           1|       11.0|  0.5|    0.5|      2.45|         0.0|                  0.3|       14.75|                null|       null|dbfs:/FileStore/y...| 5.735734082190774|          897|\n|       1| 2016-01-01 00:41:58|  2016-01-01 01:22:06|            1.0|         13.8|       1.0|                 N|         100|          53|           2|       43.0|  0.5|    0.5|       0.0|         0.0|                  0.3|        44.3|                null|       null|dbfs:/FileStore/y...|12.819651507620744|         2408|\n|       2| 2016-01-01 00:25:28|  2016-01-01 00:55:46|            5.0|         3.46|       1.0|                 N|          48|          79|           2|       20.0|  0.5|    0.5|       0.0|         0.0|                  0.3|        21.3|                null|       null|dbfs:/FileStore/y...|  4.25731549532906|         1818|\n|       2| 2016-01-01 00:56:57|  2016-01-01 01:02:24|            4.0|         0.83|       1.0|                 N|          79|         107|           2|        5.5|  0.5|    0.5|       0.0|         0.0|                  0.3|         6.8|                null|       null|dbfs:/FileStore/y...| 5.677850527232886|          327|\n|       2| 2016-01-01 00:10:08|  2016-01-01 00:23:05|            1.0|         0.87|       1.0|                 N|         164|         164|           2|        7.0|  0.5|    0.5|       0.0|         0.0|                  0.3|         8.3|                null|       null|dbfs:/FileStore/y...| 2.504677701528095|          777|\n|       2| 2016-01-01 00:44:33|  2016-01-01 00:53:37|            1.0|         1.25|       1.0|                 N|          68|         234|           1|        7.5|  0.5|    0.5|       2.2|         0.0|                  0.3|        11.0|                null|       null|dbfs:/FileStore/y...| 5.140019053433828|          544|\n|       2| 2016-01-01 00:56:47|  2016-01-01 01:07:48|            1.0|         1.66|       1.0|                 N|         234|         233|           1|        9.0|  0.5|    0.5|       0.0|         0.0|                  0.3|        10.3|                null|       null|dbfs:/FileStore/y...|   5.6177220042516|          661|\n|       1| 2016-01-01 00:12:44|  2016-01-01 00:24:53|            2.0|          2.6|       1.0|                 N|         229|         239|           2|       11.0|  0.5|    0.5|       0.0|         0.0|                  0.3|        12.3|                null|       null|dbfs:/FileStore/y...|7.9780992583558925|          729|\n|       1| 2016-01-01 00:27:11|  2016-01-01 00:37:00|            2.0|          2.3|       1.0|                 N|         239|         236|           1|        9.5|  0.5|    0.5|      1.75|         0.0|                  0.3|       12.55|                null|       null|dbfs:/FileStore/y...| 8.735065317020585|          589|\n|       1| 2016-01-01 00:47:28|  2016-01-01 00:56:50|            2.0|          1.7|       1.0|                 N|         236|         141|           2|        8.5|  0.5|    0.5|       0.0|         0.0|                  0.3|         9.8|                null|       null|dbfs:/FileStore/y...| 6.766533267780219|          562|\n|       1| 2016-01-01 00:02:54|  2016-01-01 00:14:04|            1.0|          2.6|       1.0|                 N|          43|         238|           2|       10.5|  0.5|    0.5|       0.0|         0.0|                  0.3|        11.8|                null|       null|dbfs:/FileStore/y...| 8.680648297524547|          670|\n|       1| 2016-01-01 00:19:09|  2016-01-01 00:25:20|            1.0|          1.0|       1.0|                 N|         239|         143|           1|        6.5|  0.5|    0.5|      1.95|         0.0|                  0.3|        9.75|                null|       null|dbfs:/FileStore/y...| 6.029477876157419|          371|\n|       1| 2016-01-01 00:26:54|  2016-01-01 00:55:27|            1.0|          8.8|       1.0|                 N|         143|         232|           1|       28.5|  0.5|    0.5|       7.0|         0.0|                  0.3|        36.8|                null|       null|dbfs:/FileStore/y...|11.491558301271885|         1713|\n|       1| 2016-01-01 00:19:36|  2016-01-01 00:26:16|            1.0|          1.0|       1.0|                 N|         164|         107|           1|        6.5|  0.5|    0.5|       1.0|         0.0|                  0.3|         8.8|                null|       null|dbfs:/FileStore/y...| 5.592340730136005|          400|\n|       1| 2016-01-01 00:27:55|  2016-01-01 00:36:39|            1.0|          1.2|       1.0|                 N|         107|          90|           2|        7.5|  0.5|    0.5|       0.0|         0.0|                  0.3|         8.8|                null|       null|dbfs:/FileStore/y...|5.1227548673001575|          524|\n+--------+--------------------+---------------------+---------------+-------------+----------+------------------+------------+------------+------------+-----------+-----+-------+----------+------------+---------------------+------------+--------------------+-----------+--------------------+------------------+-------------+\nonly showing top 20 rows\n\n"
     ]
    }
   ],
   "source": [
    "# Define a threshold value for filtering tip amounts.\n",
    "threshold = 150  # Adjusted the threshold per business decision. \n",
    "\n",
    "# Apply a filter to the trips_2016 DataFrame to keep only trips with tip amounts less than or equal to the threshold.\n",
    "trips_2016 = filter_tip_amounts(trips_2016, threshold)\n",
    "\n",
    "# Display the filtered DataFrame.\n",
    "trips_2016.show()\n"
   ]
  },
  {
   "cell_type": "markdown",
   "metadata": {
    "application/vnd.databricks.v1+cell": {
     "cellMetadata": {},
     "inputWidgets": {},
     "nuid": "1883ca42-a99d-4db3-9252-32b6f97893bd",
     "showTitle": false,
     "title": ""
    }
   },
   "source": [
    "Saving the parquet file of 2016 after applying the data cleaning steps. "
   ]
  },
  {
   "cell_type": "code",
   "execution_count": 0,
   "metadata": {
    "application/vnd.databricks.v1+cell": {
     "cellMetadata": {
      "byteLimit": 2048000,
      "rowLimit": 10000
     },
     "inputWidgets": {},
     "nuid": "0e3134bb-358e-46fc-abec-71e6609acf4f",
     "showTitle": false,
     "title": ""
    }
   },
   "outputs": [],
   "source": [
    "# Save the DataFrame as a Parquet file with the specified filename\n",
    "output_folder = \"/CleanedData/yellow/\"\n",
    "\n",
    "output_filename = output_folder + \"cleaned_2016.parquet\"\n",
    "trips_2016.write.parquet(output_filename, mode=\"overwrite\")"
   ]
  },
  {
   "cell_type": "markdown",
   "metadata": {
    "application/vnd.databricks.v1+cell": {
     "cellMetadata": {
      "byteLimit": 2048000,
      "rowLimit": 10000
     },
     "inputWidgets": {},
     "nuid": "9118edc5-4915-4296-b76d-7ce73b78160e",
     "showTitle": false,
     "title": ""
    }
   },
   "source": [
    "Processing Year 2017"
   ]
  },
  {
   "cell_type": "code",
   "execution_count": 0,
   "metadata": {
    "application/vnd.databricks.v1+cell": {
     "cellMetadata": {
      "byteLimit": 2048000,
      "rowLimit": 10000
     },
     "inputWidgets": {},
     "nuid": "408eb648-6f32-49d0-8afb-2080facf043a",
     "showTitle": false,
     "title": ""
    }
   },
   "outputs": [],
   "source": [
    "# Set the target year to 2017.\n",
    "year = 2017\n",
    "\n",
    "# Create a new DataFrame trips_2017 by calling the filter_and_clean_data function with df_cleaned and the specified year as arguments.\n",
    "trips_2017 = filter_and_clean_data(df_cleaned, year)\n"
   ]
  },
  {
   "cell_type": "code",
   "execution_count": 0,
   "metadata": {
    "application/vnd.databricks.v1+cell": {
     "cellMetadata": {
      "byteLimit": 2048000,
      "rowLimit": 10000
     },
     "inputWidgets": {},
     "nuid": "c040904d-f5fc-4cd1-8f8a-7d4946c371ea",
     "showTitle": false,
     "title": ""
    }
   },
   "outputs": [],
   "source": [
    "# Apply data cleaning and filtering operations to the trips_2017 DataFrame for the year 2017.\n",
    "\n",
    "# Filter trips with minimum distance and speed requirements.\n",
    "trips_2017 = filter_by_distance_and_speed(trips_2017, min_distance=0, min_speed=0)\n",
    "\n",
    "# Filter trips with a maximum allowable speed.\n",
    "trips_2017 = filter_and_find_highest_speed(trips_2017, max_allowable_speed_kmph=40)\n",
    "\n",
    "# Filter trips by trip duration.\n",
    "trips_2017 = filter_by_trip_duration(trips_2017, min_duration=60, max_duration=86400)\n",
    "\n",
    "# Filter trips by trip distance.\n",
    "trips_2017 = filter_by_trip_distance(trips_2017, min_distance=0.1, max_distance=100)\n",
    "\n",
    "# Filter trips by passenger count.\n",
    "trips_2017 = filter_by_passenger_count(trips_2017, min_count=1, max_count=7)\n"
   ]
  },
  {
   "cell_type": "code",
   "execution_count": 0,
   "metadata": {
    "application/vnd.databricks.v1+cell": {
     "cellMetadata": {
      "byteLimit": 2048000,
      "rowLimit": 10000
     },
     "inputWidgets": {},
     "nuid": "f9a607f1-a4bb-491c-b5d3-033cdd1672df",
     "showTitle": false,
     "title": ""
    }
   },
   "outputs": [],
   "source": [
    "# Define a list of valid rate codes.\n",
    "valid_rate_codes = [1, 2, 3, 4, 5, 6]\n",
    "\n",
    "# Apply a filter to the trips_2017 DataFrame to keep only trips with rate codes in the list of valid rate codes.\n",
    "trips_2017 = filter_by_valid_rate_codes(trips_2017, valid_rate_codes)\n"
   ]
  },
  {
   "cell_type": "code",
   "execution_count": 0,
   "metadata": {
    "application/vnd.databricks.v1+cell": {
     "cellMetadata": {
      "byteLimit": 2048000,
      "rowLimit": 10000
     },
     "inputWidgets": {},
     "nuid": "6eb8cc13-fa1a-4a95-a68e-ade0a13d27ad",
     "showTitle": false,
     "title": ""
    }
   },
   "outputs": [
    {
     "output_type": "stream",
     "name": "stdout",
     "output_type": "stream",
     "text": [
      "+--------+--------------------+---------------------+---------------+-------------+----------+------------------+------------+------------+------------+-----------+-----+-------+----------+------------+---------------------+------------+--------------------+-----------+--------------------+------------------+-------------+\n|VendorID|tpep_pickup_datetime|tpep_dropoff_datetime|passenger_count|trip_distance|RatecodeID|store_and_fwd_flag|PULocationID|DOLocationID|payment_type|fare_amount|extra|mta_tax|tip_amount|tolls_amount|improvement_surcharge|total_amount|congestion_surcharge|airport_fee|            filename|        trip_speed|trip_duration|\n+--------+--------------------+---------------------+---------------+-------------+----------+------------------+------------+------------+------------+-----------+-----+-------+----------+------------+---------------------+------------+--------------------+-----------+--------------------+------------------+-------------+\n|       1| 2017-01-01 00:32:05|  2017-01-01 00:37:48|            1.0|          1.2|       1.0|                 N|         140|         236|           2|        6.5|  0.5|    0.5|       0.0|         0.0|                  0.3|         7.8|                null|       null|dbfs:/FileStore/y...| 7.826016182114527|          343|\n|       1| 2017-01-01 00:43:25|  2017-01-01 00:47:42|            2.0|          0.7|       1.0|                 N|         237|         140|           2|        5.0|  0.5|    0.5|       0.0|         0.0|                  0.3|         6.3|                null|       null|dbfs:/FileStore/y...|6.0928225853621845|          257|\n|       1| 2017-01-01 00:49:10|  2017-01-01 00:53:53|            2.0|          0.8|       1.0|                 N|         140|         237|           2|        5.5|  0.5|    0.5|       0.0|         0.0|                  0.3|         6.8|                null|       null|dbfs:/FileStore/y...| 6.323494818528346|          283|\n|       1| 2017-01-01 00:36:42|  2017-01-01 00:41:09|            1.0|          1.1|       1.0|                 N|          41|          42|           2|        6.0|  0.5|    0.5|       0.0|         0.0|                  0.3|         7.3|                null|       null|dbfs:/FileStore/y...| 9.215842401722256|          267|\n|       1| 2017-01-01 00:07:41|  2017-01-01 00:18:16|            1.0|          3.0|       1.0|                 N|          48|         263|           2|       11.0|  0.5|    0.5|       0.0|         0.0|                  0.3|        12.3|                null|       null|dbfs:/FileStore/y...|10.568202954587726|          635|\n|       1| 2017-01-01 00:20:52|  2017-01-01 00:24:59|            2.0|          0.7|       1.0|                 N|         236|         262|           2|        5.0|  0.5|    0.5|       0.0|         0.0|                  0.3|         6.3|                null|       null|dbfs:/FileStore/y...| 6.339495564526645|          247|\n|       1| 2017-01-01 00:33:49|  2017-01-01 00:42:38|            2.0|          1.6|       1.0|                 N|         236|         238|           1|        8.0|  0.5|    0.5|      1.85|         0.0|                  0.3|       11.15|                null|       null|dbfs:/FileStore/y...| 6.765780845533164|          529|\n|       1| 2017-01-01 00:48:22|  2017-01-01 00:52:15|            2.0|          0.6|       1.0|                 N|         238|         239|           1|        5.0|  0.5|    0.5|      1.25|         0.0|                  0.3|        7.55|                null|       null|dbfs:/FileStore/y...| 5.760350966663697|          233|\n|       1| 2017-01-01 00:57:12|  2017-01-01 01:06:28|            2.0|          1.0|       1.0|                 N|         239|          48|           1|        7.5|  0.5|    0.5|      1.75|         0.0|                  0.3|       10.55|                null|       null|dbfs:/FileStore/y...| 4.023266712328062|          556|\n|       1| 2017-01-01 00:10:25|  2017-01-01 00:29:06|            1.0|          1.0|       1.0|                 N|         246|          48|           2|       12.0|  0.5|    0.5|       0.0|         0.0|                  0.3|        13.3|                null|       null|dbfs:/FileStore/y...|1.9954828653473704|         1121|\n|       1| 2017-01-01 00:38:28|  2017-01-01 01:30:55|            4.0|          2.5|       1.0|                 N|          48|         162|           2|       29.0|  0.5|    0.5|       0.0|         0.0|                  0.3|        30.3|                null|       null|dbfs:/FileStore/y...|1.7770386813269798|         3147|\n|       1| 2017-01-01 00:26:17|  2017-01-01 00:32:28|            3.0|          1.1|       1.0|                 N|         114|          79|           2|        6.0|  0.5|    0.5|       0.0|         0.0|                  0.3|         7.3|                null|       null|dbfs:/FileStore/y...|6.6324256637731605|          371|\n|       1| 2017-01-01 00:41:27|  2017-01-01 01:03:35|            2.0|          3.3|       1.0|                 N|         114|         161|           2|       16.0|  0.5|    0.5|       0.0|         0.0|                  0.3|        17.3|                null|       null|dbfs:/FileStore/y...| 5.558651930556873|         1328|\n|       1| 2017-01-01 00:23:12|  2017-01-01 00:41:32|            2.0|          1.9|       1.0|                 N|         263|         161|           1|       13.0|  0.5|    0.5|      2.85|         0.0|                  0.3|       17.15|                null|       null|dbfs:/FileStore/y...| 3.863799049912149|         1100|\n|       1| 2017-01-01 00:46:17|  2017-01-01 00:55:43|            2.0|          0.5|       1.0|                 N|         161|         161|           1|        7.5|  0.5|    0.5|       1.0|         0.0|                  0.3|         9.8|                null|       null|dbfs:/FileStore/y...|1.9760921307901078|          566|\n|       1| 2017-01-01 00:59:15|  2017-01-01 01:13:33|            2.0|          2.8|       1.0|                 N|         163|         145|           1|       12.5|  0.5|    0.5|      2.75|         0.0|                  0.3|       16.55|                null|       null|dbfs:/FileStore/y...|7.3000251955155315|          858|\n|       1| 2017-01-01 00:08:23|  2017-01-01 00:21:33|            1.0|          1.9|       1.0|                 N|         161|         140|           1|       10.5|  0.5|    0.5|       2.0|         0.0|                  0.3|        13.8|                null|       null|dbfs:/FileStore/y...|  5.37997336063717|          790|\n|       1| 2017-01-01 00:23:13|  2017-01-01 00:34:48|            1.0|          3.0|       1.0|                 N|         140|         224|           1|       12.0|  0.5|    0.5|      2.65|         0.0|                  0.3|       15.95|                null|       null|dbfs:/FileStore/y...| 9.655840109587347|          695|\n|       1| 2017-01-01 00:39:18|  2017-01-01 00:49:08|            1.0|          1.1|       1.0|                 N|         107|         186|           2|        7.5|  0.5|    0.5|       0.0|         0.0|                  0.3|         8.8|                null|       null|dbfs:/FileStore/y...|4.1705591885760045|          590|\n|       1| 2017-01-01 00:52:32|  2017-01-01 01:09:51|            1.0|          1.3|       1.0|                 N|         186|         170|           1|       11.5|  0.5|    0.5|       1.0|         0.0|                  0.3|        13.8|                null|       null|dbfs:/FileStore/y...|2.7988615781238915|         1039|\n+--------+--------------------+---------------------+---------------+-------------+----------+------------------+------------+------------+------------+-----------+-----+-------+----------+------------+---------------------+------------+--------------------+-----------+--------------------+------------------+-------------+\nonly showing top 20 rows\n\n"
     ]
    }
   ],
   "source": [
    "# Define a threshold value for filtering tip amounts.\n",
    "threshold = 150\n",
    "\n",
    "# Apply a filter to the trips_2017 DataFrame to keep only trips with tip amounts less than or equal to the threshold.\n",
    "trips_2017 = filter_tip_amounts(trips_2017, threshold)\n",
    "\n",
    "# Display the filtered DataFrame.\n",
    "trips_2017.show()\n"
   ]
  },
  {
   "cell_type": "code",
   "execution_count": 0,
   "metadata": {
    "application/vnd.databricks.v1+cell": {
     "cellMetadata": {
      "byteLimit": 2048000,
      "rowLimit": 10000
     },
     "inputWidgets": {},
     "nuid": "c262f3f5-1889-4b0c-8180-41433956aee0",
     "showTitle": false,
     "title": ""
    }
   },
   "outputs": [],
   "source": [
    "# Save the DataFrame as a Parquet file with the specified filename\n",
    "output_folder = \"/CleanedData/yellow/\"\n",
    "\n",
    "output_filename = output_folder + \"cleaned_2017.parquet\"\n",
    "trips_2017.write.parquet(output_filename, mode=\"overwrite\")"
   ]
  },
  {
   "cell_type": "markdown",
   "metadata": {
    "application/vnd.databricks.v1+cell": {
     "cellMetadata": {
      "byteLimit": 2048000,
      "rowLimit": 10000
     },
     "inputWidgets": {},
     "nuid": "94694b5a-46dd-4c4b-9e56-2b796517448f",
     "showTitle": false,
     "title": ""
    }
   },
   "source": [
    "Processing Year 2018"
   ]
  },
  {
   "cell_type": "code",
   "execution_count": 0,
   "metadata": {
    "application/vnd.databricks.v1+cell": {
     "cellMetadata": {
      "byteLimit": 2048000,
      "rowLimit": 10000
     },
     "inputWidgets": {},
     "nuid": "ce542799-30e5-4eea-a1e5-8ca7c866ff52",
     "showTitle": false,
     "title": ""
    }
   },
   "outputs": [],
   "source": [
    "# Set the target year to 2018.\n",
    "year = 2018\n",
    "\n",
    "# Create a new DataFrame trips_2018 by calling the filter_and_clean_data function with df_cleaned and the specified year as arguments.\n",
    "trips_2018 = filter_and_clean_data(df_cleaned, year)\n"
   ]
  },
  {
   "cell_type": "code",
   "execution_count": 0,
   "metadata": {
    "application/vnd.databricks.v1+cell": {
     "cellMetadata": {
      "byteLimit": 2048000,
      "rowLimit": 10000
     },
     "inputWidgets": {},
     "nuid": "31c18e41-b55f-4932-a2b9-d6f8ad61041e",
     "showTitle": false,
     "title": ""
    }
   },
   "outputs": [],
   "source": [
    "# Apply data cleaning and filtering operations to the trips_2018 DataFrame for the year 2018.\n",
    "\n",
    "# Filter trips with minimum distance and speed requirements.\n",
    "trips_2018 = filter_by_distance_and_speed(trips_2018, min_distance=0, min_speed=0)\n",
    "\n",
    "# Filter trips with a maximum allowable speed.\n",
    "trips_2018 = filter_and_find_highest_speed(trips_2018, max_allowable_speed_kmph=40)\n",
    "\n",
    "# Filter trips by trip duration.\n",
    "trips_2018 = filter_by_trip_duration(trips_2018, min_duration=60, max_duration=86400)\n",
    "\n",
    "# Filter trips by trip distance.\n",
    "trips_2018 = filter_by_trip_distance(trips_2018, min_distance=0.1, max_distance=100)\n",
    "\n",
    "# Filter trips by passenger count.\n",
    "trips_2018 = filter_by_passenger_count(trips_2018, min_count=1, max_count=7)\n"
   ]
  },
  {
   "cell_type": "code",
   "execution_count": 0,
   "metadata": {
    "application/vnd.databricks.v1+cell": {
     "cellMetadata": {
      "byteLimit": 2048000,
      "rowLimit": 10000
     },
     "inputWidgets": {},
     "nuid": "3cafeff7-2ade-43cb-bedc-056481d4edb3",
     "showTitle": false,
     "title": ""
    }
   },
   "outputs": [],
   "source": [
    "# Define a list of valid rate codes.\n",
    "valid_rate_codes = [1, 2, 3, 4, 5, 6]\n",
    "\n",
    "# Apply a filter to the trips_2018 DataFrame to keep only trips with rate codes in the list of valid rate codes.\n",
    "trips_2018 = filter_by_valid_rate_codes(trips_2018, valid_rate_codes)\n"
   ]
  },
  {
   "cell_type": "code",
   "execution_count": 0,
   "metadata": {
    "application/vnd.databricks.v1+cell": {
     "cellMetadata": {
      "byteLimit": 2048000,
      "rowLimit": 10000
     },
     "inputWidgets": {},
     "nuid": "4310b9d8-33e9-42fb-8bbf-d118b449cfae",
     "showTitle": false,
     "title": ""
    }
   },
   "outputs": [
    {
     "output_type": "stream",
     "name": "stdout",
     "output_type": "stream",
     "text": [
      "+--------+--------------------+---------------------+---------------+-------------+----------+------------------+------------+------------+------------+-----------+-----+-------+----------+------------+---------------------+------------+--------------------+-----------+--------------------+------------------+-------------+\n|VendorID|tpep_pickup_datetime|tpep_dropoff_datetime|passenger_count|trip_distance|RatecodeID|store_and_fwd_flag|PULocationID|DOLocationID|payment_type|fare_amount|extra|mta_tax|tip_amount|tolls_amount|improvement_surcharge|total_amount|congestion_surcharge|airport_fee|            filename|        trip_speed|trip_duration|\n+--------+--------------------+---------------------+---------------+-------------+----------+------------------+------------+------------+------------+-----------+-----+-------+----------+------------+---------------------+------------+--------------------+-----------+--------------------+------------------+-------------+\n|       1| 2018-01-01 00:21:05|  2018-01-01 00:24:23|            1.0|          0.5|       1.0|                 N|          41|          24|           2|        4.5|  0.5|    0.5|       0.0|         0.0|                  0.3|         5.8|                null|       null|dbfs:/FileStore/y...|   5.6488290203394|          198|\n|       1| 2018-01-01 00:44:55|  2018-01-01 01:03:05|            1.0|          2.7|       1.0|                 N|         239|         140|           2|       14.0|  0.5|    0.5|       0.0|         0.0|                  0.3|        15.3|                null|       null|dbfs:/FileStore/y...| 5.541034851877877|         1090|\n|       1| 2018-01-01 00:08:26|  2018-01-01 00:14:21|            2.0|          0.8|       1.0|                 N|         262|         141|           1|        6.0|  0.5|    0.5|       1.0|         0.0|                  0.3|         8.3|                null|       null|dbfs:/FileStore/y...| 5.040983193362033|          355|\n|       1| 2018-01-01 00:20:22|  2018-01-01 00:52:51|            1.0|         10.2|       1.0|                 N|         140|         257|           2|       33.5|  0.5|    0.5|       0.0|         0.0|                  0.3|        34.8|                null|       null|dbfs:/FileStore/y...|11.706901066677734|         1949|\n|       1| 2018-01-01 00:09:18|  2018-01-01 00:27:06|            2.0|          2.5|       1.0|                 N|         246|         239|           1|       12.5|  0.5|    0.5|      2.75|         0.0|                  0.3|       16.55|                null|       null|dbfs:/FileStore/y...| 5.236274091887646|         1068|\n|       1| 2018-01-01 00:29:29|  2018-01-01 00:32:48|            3.0|          0.5|       1.0|                 N|         143|         143|           2|        4.5|  0.5|    0.5|       0.0|         0.0|                  0.3|         5.8|                null|       null|dbfs:/FileStore/y...| 5.620442944860308|          199|\n|       1| 2018-01-01 00:38:08|  2018-01-01 00:48:24|            2.0|          1.7|       1.0|                 N|          50|         239|           1|        9.0|  0.5|    0.5|      2.05|         0.0|                  0.3|       12.35|                null|       null|dbfs:/FileStore/y...| 6.173363143656629|          616|\n|       1| 2018-01-01 00:49:29|  2018-01-01 00:51:53|            1.0|          0.7|       1.0|                 N|         239|         238|           1|        4.0|  0.5|    0.5|       1.0|         0.0|                  0.3|         6.3|                null|       null|dbfs:/FileStore/y...|10.873995864153343|          144|\n|       1| 2018-01-01 00:56:38|  2018-01-01 01:01:05|            1.0|          1.0|       1.0|                 N|         238|          24|           1|        5.5|  0.5|    0.5|       1.7|         0.0|                  0.3|         8.5|                null|       null|dbfs:/FileStore/y...| 8.378038547020234|          267|\n|       1| 2018-01-01 00:17:04|  2018-01-01 00:22:24|            1.0|          0.7|       1.0|                 N|         170|         170|           2|        5.5|  0.5|    0.5|       0.0|         0.0|                  0.3|         6.8|                null|       null|dbfs:/FileStore/y...| 4.893298138869004|          320|\n|       1| 2018-01-01 00:41:03|  2018-01-01 00:46:49|            1.0|          0.6|       1.0|                 N|         162|         229|           1|        5.5|  0.5|    0.5|      1.35|         0.0|                  0.3|        8.15|                null|       null|dbfs:/FileStore/y...| 3.879080275238848|          346|\n|       1| 2018-01-01 00:52:54|  2018-01-01 01:17:33|            1.0|          3.5|       1.0|                 N|         141|         113|           2|       16.5|  0.5|    0.5|       0.0|         0.0|                  0.3|        17.8|                null|       null|dbfs:/FileStore/y...|5.2936288182490925|         1479|\n|       2| 2018-01-01 00:17:54|  2018-01-01 00:22:05|            1.0|         1.04|       1.0|                 N|         137|         224|           2|        5.5|  0.5|    0.5|       0.0|         0.0|                  0.3|         6.8|                null|       null|dbfs:/FileStore/y...| 9.268580652336965|          251|\n|       2| 2018-01-01 00:24:47|  2018-01-01 00:34:20|            1.0|         1.22|       1.0|                 N|         224|          79|           2|        7.5|  0.5|    0.5|       0.0|         0.0|                  0.3|         8.8|                null|       null|dbfs:/FileStore/y...| 4.762761389714434|          573|\n|       2| 2018-01-01 00:37:57|  2018-01-01 00:53:43|            1.0|         1.92|       1.0|                 N|         234|         100|           2|       10.0|  0.5|    0.5|       0.0|         0.0|                  0.3|        11.3|                null|       null|dbfs:/FileStore/y...|4.5400821149518515|          946|\n|       1| 2018-01-01 00:35:53|  2018-01-01 00:52:59|            1.0|          5.7|       1.0|                 N|          13|         189|           1|       19.0|  0.5|    0.5|      4.05|         0.0|                  0.3|       24.35|                null|       null|dbfs:/FileStore/y...|12.427423844746679|         1026|\n|       2| 2018-01-01 00:30:47|  2018-01-01 01:13:20|            1.0|         3.74|       1.0|                 N|          48|         236|           1|       25.5|  0.5|    0.5|       6.7|         0.0|                  0.3|        33.5|                null|       null|dbfs:/FileStore/y...| 3.276984618990781|         2553|\n|       1| 2018-01-01 00:21:45|  2018-01-01 00:25:58|            2.0|          0.6|       1.0|                 N|         163|         162|           1|        4.5|  0.5|    0.5|       1.7|         0.0|                  0.3|         7.5|                null|       null|dbfs:/FileStore/y...| 5.304987253883957|          253|\n|       1| 2018-01-01 00:31:11|  2018-01-01 01:07:56|            1.0|         10.9|       1.0|                 N|         229|          61|           2|       35.0|  0.5|    0.5|       0.0|         0.0|                  0.3|        36.3|                null|       null|dbfs:/FileStore/y...|11.057871012876637|         2205|\n|       2| 2018-01-01 00:15:42|  2018-01-01 00:21:38|            5.0|         1.22|       1.0|                 N|         236|          75|           2|        6.0|  0.5|    0.5|       0.0|         0.0|                  0.3|         7.3|                null|       null|dbfs:/FileStore/y...| 7.665905270523513|          356|\n+--------+--------------------+---------------------+---------------+-------------+----------+------------------+------------+------------+------------+-----------+-----+-------+----------+------------+---------------------+------------+--------------------+-----------+--------------------+------------------+-------------+\nonly showing top 20 rows\n\n"
     ]
    }
   ],
   "source": [
    "# Define a threshold value for filtering tip amounts.\n",
    "threshold = 150  # Adjust the threshold as needed\n",
    "\n",
    "# Apply a filter to the trips_2018 DataFrame to keep only trips with tip amounts less than or equal to the threshold.\n",
    "trips_2018 = filter_tip_amounts(trips_2018, threshold)\n",
    "\n",
    "# Display the filtered DataFrame.\n",
    "trips_2018.show()\n"
   ]
  },
  {
   "cell_type": "code",
   "execution_count": 0,
   "metadata": {
    "application/vnd.databricks.v1+cell": {
     "cellMetadata": {
      "byteLimit": 2048000,
      "rowLimit": 10000
     },
     "inputWidgets": {},
     "nuid": "5b7ebc86-2a27-42cc-bd43-3bf8f141faa1",
     "showTitle": false,
     "title": ""
    }
   },
   "outputs": [],
   "source": [
    "# Define the output folder where the Parquet file will be saved.\n",
    "output_folder = \"/CleanedData/yellow/\"\n",
    "\n",
    "# Define the output filename.\n",
    "output_filename = output_folder + \"cleaned_2018.parquet\"\n",
    "\n",
    "# Write the trips_2018 DataFrame to a Parquet file with the specified filename.\n",
    "trips_2018.write.parquet(output_filename, mode=\"overwrite\")\n"
   ]
  },
  {
   "cell_type": "markdown",
   "metadata": {
    "application/vnd.databricks.v1+cell": {
     "cellMetadata": {
      "byteLimit": 2048000,
      "rowLimit": 10000
     },
     "inputWidgets": {},
     "nuid": "855fb3f8-12a8-438a-abea-29e261e7e344",
     "showTitle": false,
     "title": ""
    }
   },
   "source": [
    "Processing Year 2019"
   ]
  },
  {
   "cell_type": "code",
   "execution_count": 0,
   "metadata": {
    "application/vnd.databricks.v1+cell": {
     "cellMetadata": {
      "byteLimit": 2048000,
      "rowLimit": 10000
     },
     "inputWidgets": {},
     "nuid": "90b81f43-5dde-4ae2-845e-e9884c1f2c11",
     "showTitle": false,
     "title": ""
    }
   },
   "outputs": [],
   "source": [
    "# Set the target year to 2019.\n",
    "year = 2019\n",
    "\n",
    "# Create a new DataFrame trips_2019 by calling the filter_and_clean_data function with df_cleaned and the specified year as arguments.\n",
    "trips_2019 = filter_and_clean_data(df_cleaned, year)\n"
   ]
  },
  {
   "cell_type": "code",
   "execution_count": 0,
   "metadata": {
    "application/vnd.databricks.v1+cell": {
     "cellMetadata": {
      "byteLimit": 2048000,
      "rowLimit": 10000
     },
     "inputWidgets": {},
     "nuid": "5e70acbe-328f-4ede-b0a1-d9c3f358b1a2",
     "showTitle": false,
     "title": ""
    }
   },
   "outputs": [],
   "source": [
    "# Apply data cleaning and filtering operations to the trips_2019 DataFrame for the year 2019.\n",
    "\n",
    "# Filter trips with minimum distance and speed requirements.\n",
    "trips_2019 = filter_by_distance_and_speed(trips_2019, min_distance=0, min_speed=0)\n",
    "\n",
    "# Filter trips with a maximum allowable speed.\n",
    "trips_2019 = filter_and_find_highest_speed(trips_2019, max_allowable_speed_kmph=40)\n",
    "\n",
    "# Filter trips by trip duration.\n",
    "trips_2019 = filter_by_trip_duration(trips_2019, min_duration=60, max_duration=86400)\n",
    "\n",
    "# Filter trips by trip distance.\n",
    "trips_2019 = filter_by_trip_distance(trips_2019, min_distance=0.1, max_distance=100)\n",
    "\n",
    "# Filter trips by passenger count.\n",
    "trips_2019 = filter_by_passenger_count(trips_2019, min_count=1, max_count=7)\n"
   ]
  },
  {
   "cell_type": "code",
   "execution_count": 0,
   "metadata": {
    "application/vnd.databricks.v1+cell": {
     "cellMetadata": {
      "byteLimit": 2048000,
      "rowLimit": 10000
     },
     "inputWidgets": {},
     "nuid": "74f1035c-6d0c-4b50-aec0-105b13d1e981",
     "showTitle": false,
     "title": ""
    }
   },
   "outputs": [],
   "source": [
    "# Define a list of valid rate codes.\n",
    "valid_rate_codes = [1, 2, 3, 4, 5, 6]\n",
    "\n",
    "# Apply a filter to the trips_2019 DataFrame to keep only trips with rate codes in the list of valid rate codes.\n",
    "trips_2019 = filter_by_valid_rate_codes(trips_2019, valid_rate_codes)\n"
   ]
  },
  {
   "cell_type": "code",
   "execution_count": 0,
   "metadata": {
    "application/vnd.databricks.v1+cell": {
     "cellMetadata": {
      "byteLimit": 2048000,
      "rowLimit": 10000
     },
     "inputWidgets": {},
     "nuid": "d6ae89c9-d197-403e-ab18-cf3940ca133b",
     "showTitle": false,
     "title": ""
    }
   },
   "outputs": [
    {
     "output_type": "stream",
     "name": "stdout",
     "output_type": "stream",
     "text": [
      "+--------+--------------------+---------------------+---------------+-------------+----------+------------------+------------+------------+------------+-----------+-----+-------+----------+------------+---------------------+------------+--------------------+-----------+--------------------+------------------+-------------+\n|VendorID|tpep_pickup_datetime|tpep_dropoff_datetime|passenger_count|trip_distance|RatecodeID|store_and_fwd_flag|PULocationID|DOLocationID|payment_type|fare_amount|extra|mta_tax|tip_amount|tolls_amount|improvement_surcharge|total_amount|congestion_surcharge|airport_fee|            filename|        trip_speed|trip_duration|\n+--------+--------------------+---------------------+---------------+-------------+----------+------------------+------------+------------+------------+-----------+-----+-------+----------+------------+---------------------+------------+--------------------+-----------+--------------------+------------------+-------------+\n|       1| 2019-03-01 00:25:27|  2019-03-01 00:36:37|            2.0|          3.7|       1.0|                 N|          95|         130|           1|       13.0|  0.5|    0.5|       0.7|         0.0|                  0.3|        15.0|                 0.0|       null|dbfs:/FileStore/y...|12.353230269554162|          670|\n|       1| 2019-03-01 00:05:21|  2019-03-01 00:38:23|            1.0|         14.1|       1.0|                 N|         249|          28|           1|       41.0|  3.0|    0.5|      10.1|        5.76|                  0.3|       60.66|                 2.5|       null|dbfs:/FileStore/y...|15.913623470215473|         1982|\n|       1| 2019-03-01 00:48:55|  2019-03-01 01:06:03|            1.0|          9.6|       1.0|                 N|         138|          98|           2|       27.0|  0.5|    0.5|       0.0|         0.0|                  0.3|        28.3|                 0.0|       null|dbfs:/FileStore/y...|20.889677435527492|         1028|\n|       1| 2019-03-01 00:11:42|  2019-03-01 00:16:40|            1.0|          0.8|       1.0|                 N|          48|          48|           1|        5.5|  3.0|    0.5|       3.0|         0.0|                  0.3|        12.3|                 2.5|       null|dbfs:/FileStore/y...| 6.005198099474906|          298|\n|       1| 2019-03-01 00:45:03|  2019-03-01 00:49:38|            1.0|          1.2|       1.0|                 N|         246|          48|           2|        6.0|  3.0|    0.5|       0.0|         0.0|                  0.3|         9.8|                 2.5|       null|dbfs:/FileStore/y...| 9.761176547146482|          275|\n|       1| 2019-03-01 00:02:37|  2019-03-01 00:07:30|            1.0|          0.6|       1.0|                 Y|         239|         238|           2|        5.5|  3.0|    0.5|       0.0|         0.0|                  0.3|         9.3|                 2.5|       null|dbfs:/FileStore/y...| 4.580756912056796|          293|\n|       2| 2019-02-28 19:52:45|  2019-02-28 20:01:54|            1.0|         5.65|       1.0|                 N|         132|         197|           2|       17.0|  0.5|    0.5|       0.0|         0.0|                  0.3|        18.3|                 0.0|       null|dbfs:/FileStore/y...|23.021293351743847|          549|\n|       2| 2019-03-01 00:14:23|  2019-03-01 00:19:17|            1.0|         1.16|       1.0|                 N|         229|         170|           1|        6.0|  0.5|    0.5|      2.45|         0.0|                  0.3|       12.25|                 2.5|       null|dbfs:/FileStore/y...| 8.826007138718047|          294|\n|       2| 2019-03-01 00:19:09|  2019-03-01 00:23:30|            1.0|         0.71|       1.0|                 N|         137|         234|           1|        5.0|  0.5|    0.5|       1.0|         0.0|                  0.3|         9.8|                 2.5|       null|dbfs:/FileStore/y...| 6.085152365358719|          261|\n|       2| 2019-03-01 00:06:46|  2019-03-01 00:17:09|            5.0|         2.63|       1.0|                 N|         231|         246|           1|       10.5|  0.5|    0.5|      2.86|         0.0|                  0.3|       17.16|                 2.5|       null|dbfs:/FileStore/y...| 9.443246305141377|          623|\n|       1| 2019-03-01 00:00:46|  2019-03-01 00:26:41|            1.0|          5.0|       1.0|                 N|         230|           7|           3|       20.5|  3.0|    0.5|       0.0|         0.0|                  0.3|        24.3|                 2.5|       null|dbfs:/FileStore/y...|7.1927211963164055|         1555|\n|       2| 2019-03-01 00:00:40|  2019-03-01 00:49:26|            2.0|        14.04|       1.0|                 N|         170|         123|           1|       45.5|  0.5|    0.5|     14.79|         0.0|                  0.3|       64.09|                 2.5|       null|dbfs:/FileStore/y...|10.733624586617841|         2926|\n|       1| 2019-03-01 00:21:46|  2019-03-01 00:30:25|            1.0|          2.0|       1.0|                 N|         143|         263|           1|        9.0|  3.0|    0.5|      2.55|         0.0|                  0.3|       15.35|                 2.5|       null|dbfs:/FileStore/y...| 8.620178389419662|          519|\n|       2| 2019-03-01 00:25:16|  2019-03-01 00:31:39|            5.0|         2.11|       1.0|                 N|         229|         236|           1|        8.0|  0.5|    0.5|       2.0|         0.0|                  0.3|        13.8|                 2.5|       null|dbfs:/FileStore/y...|12.323591582858455|          383|\n|       1| 2019-03-01 00:03:09|  2019-03-01 00:49:16|            1.0|          6.8|       1.0|                 N|         162|          49|           2|       31.5|  3.0|    0.5|       0.0|         0.0|                  0.3|        35.3|                 2.5|       null|dbfs:/FileStore/y...| 5.497349760018046|         2767|\n|       2| 2019-03-01 00:55:49|  2019-03-01 01:11:06|            1.0|         5.97|       1.0|                 N|         152|         153|           2|       19.0|  0.5|    0.5|       0.0|         0.0|                  0.3|        20.3|                 0.0|       null|dbfs:/FileStore/y...|14.563260265610447|          917|\n|       1| 2019-03-01 00:35:42|  2019-03-01 00:47:06|            1.0|          3.4|       1.0|                 N|         162|          74|           1|       12.0|  3.0|    0.5|       1.5|         0.0|                  0.3|        17.3|                 2.5|       null|dbfs:/FileStore/y...|11.119273966352289|          684|\n|       2| 2019-03-01 00:45:03|  2019-03-01 01:14:25|            1.0|        16.89|       2.0|                 N|         132|         229|           1|       52.0|  0.0|    0.5|     11.06|         0.0|                  0.3|       66.36|                 2.5|       null|dbfs:/FileStore/y...|21.442595898296737|         1762|\n|       1| 2019-03-01 00:42:38|  2019-03-01 01:02:58|            1.0|          5.4|       1.0|                 N|          25|         246|           1|       19.5|  3.0|    0.5|       3.5|         0.0|                  0.3|        26.8|                 2.5|       null|dbfs:/FileStore/y...| 9.901193423847355|         1220|\n|       1| 2019-03-01 00:25:52|  2019-03-01 00:31:29|            1.0|          1.0|       1.0|                 N|         249|         125|           1|        6.0|  3.0|    0.5|      1.95|         0.0|                  0.3|       11.75|                 2.5|       null|dbfs:/FileStore/y...|6.6377931514967425|          337|\n+--------+--------------------+---------------------+---------------+-------------+----------+------------------+------------+------------+------------+-----------+-----+-------+----------+------------+---------------------+------------+--------------------+-----------+--------------------+------------------+-------------+\nonly showing top 20 rows\n\n"
     ]
    }
   ],
   "source": [
    "# Define a threshold value for filtering tip amounts.\n",
    "threshold = 150  # Adjust the threshold as needed\n",
    "\n",
    "# Apply a filter to the trips_2019 DataFrame to keep only trips with tip amounts less than or equal to the threshold.\n",
    "trips_2019 = filter_tip_amounts(trips_2019, threshold)\n",
    "\n",
    "# Display the filtered DataFrame.\n",
    "trips_2019.show()\n"
   ]
  },
  {
   "cell_type": "code",
   "execution_count": 0,
   "metadata": {
    "application/vnd.databricks.v1+cell": {
     "cellMetadata": {
      "byteLimit": 2048000,
      "rowLimit": 10000
     },
     "inputWidgets": {},
     "nuid": "8b1e1cb7-1ebe-4b3f-9fab-269e77403415",
     "showTitle": false,
     "title": ""
    }
   },
   "outputs": [],
   "source": [
    "# Define the output folder where the Parquet file will be saved.\n",
    "output_folder = \"/CleanedData/yellow/\"\n",
    "\n",
    "# Define the output filename.\n",
    "output_filename = output_folder + \"cleaned_2019.parquet\"\n",
    "\n",
    "# Write the trips_2019 DataFrame to a Parquet file with the specified filename.\n",
    "trips_2019.write.parquet(output_filename, mode=\"overwrite\")\n"
   ]
  },
  {
   "cell_type": "code",
   "execution_count": 0,
   "metadata": {
    "application/vnd.databricks.v1+cell": {
     "cellMetadata": {
      "byteLimit": 2048000,
      "rowLimit": 10000
     },
     "inputWidgets": {},
     "nuid": "17459840-b307-4a8f-aaed-aa119e97221b",
     "showTitle": false,
     "title": ""
    }
   },
   "outputs": [
    {
     "output_type": "stream",
     "name": "stdout",
     "output_type": "stream",
     "text": [
      "Out[32]: 81520120"
     ]
    }
   ],
   "source": [
    "trips_2019 = spark.read.parquet(\"/CleanedData/yellow/cleaned_2019.parquet\")\n",
    " \n",
    "trips_2019.count()\n"
   ]
  },
  {
   "cell_type": "markdown",
   "metadata": {
    "application/vnd.databricks.v1+cell": {
     "cellMetadata": {},
     "inputWidgets": {},
     "nuid": "0da7c083-8eb4-42bf-be7c-ae975b42b4d4",
     "showTitle": false,
     "title": ""
    }
   },
   "source": [
    "Skipped the below step as it only checks for unexected Store and Forward Flags and doesn't apply any tranformation. There were no unexpected values. "
   ]
  },
  {
   "cell_type": "code",
   "execution_count": 0,
   "metadata": {
    "application/vnd.databricks.v1+cell": {
     "cellMetadata": {
      "byteLimit": 2048000,
      "rowLimit": 10000
     },
     "inputWidgets": {},
     "nuid": "e573486d-2add-4ca3-94c9-827a190e08b9",
     "showTitle": false,
     "title": ""
    }
   },
   "outputs": [],
   "source": [
    "# # columns_to_check = [\"tpep_pickup_datetime\", \"tpep_dropoff_datetime\", \"trip_distance\", \"fare_amount\"]\n",
    "# check_missing_values(trips_2019, columns_to_check)\n",
    "\n",
    "# filter_unexpected_store_and_fwd_flag(trips_2019)"
   ]
  },
  {
   "cell_type": "markdown",
   "metadata": {
    "application/vnd.databricks.v1+cell": {
     "cellMetadata": {
      "byteLimit": 2048000,
      "rowLimit": 10000
     },
     "inputWidgets": {},
     "nuid": "4c835dc2-2205-4acb-8cae-2edf026c16cd",
     "showTitle": false,
     "title": ""
    }
   },
   "source": [
    "Processing Year 2020"
   ]
  },
  {
   "cell_type": "code",
   "execution_count": 0,
   "metadata": {
    "application/vnd.databricks.v1+cell": {
     "cellMetadata": {
      "byteLimit": 2048000,
      "rowLimit": 10000
     },
     "inputWidgets": {},
     "nuid": "bec7d814-34fe-486e-8e98-1b2ced668166",
     "showTitle": false,
     "title": ""
    }
   },
   "outputs": [],
   "source": [
    "# Set the target year to 2020.\n",
    "year = 2020\n",
    "\n",
    "# Create a new DataFrame trips_2020 by calling the filter_and_clean_data function with df_cleaned and the specified year as arguments.\n",
    "trips_2020 = filter_and_clean_data(df_cleaned, year)\n"
   ]
  },
  {
   "cell_type": "code",
   "execution_count": 0,
   "metadata": {
    "application/vnd.databricks.v1+cell": {
     "cellMetadata": {
      "byteLimit": 2048000,
      "rowLimit": 10000
     },
     "inputWidgets": {},
     "nuid": "d65e85d5-219c-4764-88aa-df02bef0ef9b",
     "showTitle": false,
     "title": ""
    }
   },
   "outputs": [],
   "source": [
    "# Apply data cleaning and filtering operations to the trips_2020 DataFrame for the year 2020.\n",
    "\n",
    "# Filter trips with minimum distance and speed requirements.\n",
    "trips_2020 = filter_by_distance_and_speed(trips_2020, min_distance=0, min_speed=0)\n",
    "\n",
    "# Filter trips with a maximum allowable speed.\n",
    "trips_2020 = filter_and_find_highest_speed(trips_2020, max_allowable_speed_kmph=40)\n",
    "\n",
    "# Filter trips by trip duration.\n",
    "trips_2020 = filter_by_trip_duration(trips_2020, min_duration=60, max_duration=86400)\n",
    "\n",
    "# Filter trips by trip distance.\n",
    "trips_2020 = filter_by_trip_distance(trips_2020, min_distance=0.1, max_distance=100)\n",
    "\n",
    "# Filter trips by passenger count.\n",
    "trips_2020 = filter_by_passenger_count(trips_2020, min_count=1, max_count=7)\n"
   ]
  },
  {
   "cell_type": "code",
   "execution_count": 0,
   "metadata": {
    "application/vnd.databricks.v1+cell": {
     "cellMetadata": {
      "byteLimit": 2048000,
      "rowLimit": 10000
     },
     "inputWidgets": {},
     "nuid": "325f11ca-8b00-4319-b862-8ce074e24185",
     "showTitle": false,
     "title": ""
    }
   },
   "outputs": [],
   "source": [
    "# Define a list of valid rate codes.\n",
    "valid_rate_codes = [1, 2, 3, 4, 5, 6]\n",
    "\n",
    "# Apply a filter to the trips_2020 DataFrame to keep only trips with rate codes in the list of valid rate codes.\n",
    "trips_2020 = filter_by_valid_rate_codes(trips_2020, valid_rate_codes)\n"
   ]
  },
  {
   "cell_type": "code",
   "execution_count": 0,
   "metadata": {
    "application/vnd.databricks.v1+cell": {
     "cellMetadata": {
      "byteLimit": 2048000,
      "rowLimit": 10000
     },
     "inputWidgets": {},
     "nuid": "ba4d3d1c-d1a8-4e33-85e0-5a191d6f6afc",
     "showTitle": false,
     "title": ""
    }
   },
   "outputs": [
    {
     "output_type": "stream",
     "name": "stdout",
     "output_type": "stream",
     "text": [
      "+--------+--------------------+---------------------+---------------+-------------+----------+------------------+------------+------------+------------+-----------+-----+-------+----------+------------+---------------------+------------+--------------------+-----------+--------------------+------------------+-------------+\n|VendorID|tpep_pickup_datetime|tpep_dropoff_datetime|passenger_count|trip_distance|RatecodeID|store_and_fwd_flag|PULocationID|DOLocationID|payment_type|fare_amount|extra|mta_tax|tip_amount|tolls_amount|improvement_surcharge|total_amount|congestion_surcharge|airport_fee|            filename|        trip_speed|trip_duration|\n+--------+--------------------+---------------------+---------------+-------------+----------+------------------+------------+------------+------------+-----------+-----+-------+----------+------------+---------------------+------------+--------------------+-----------+--------------------+------------------+-------------+\n|       1| 2020-01-01 00:28:15|  2020-01-01 00:33:03|            1.0|          1.2|       1.0|                 N|         238|         239|           1|        6.0|  3.0|    0.5|      1.47|         0.0|                  0.3|       11.27|                 2.5|       null|dbfs:/FileStore/y...|  9.32056788356001|          288|\n|       1| 2020-01-01 00:35:39|  2020-01-01 00:43:04|            1.0|          1.2|       1.0|                 N|         239|         238|           1|        7.0|  3.0|    0.5|       1.5|         0.0|                  0.3|        12.3|                 2.5|       null|dbfs:/FileStore/y...| 6.032187753854567|          445|\n|       1| 2020-01-01 00:47:41|  2020-01-01 00:53:52|            1.0|          0.6|       1.0|                 N|         238|         238|           1|        6.0|  3.0|    0.5|       1.0|         0.0|                  0.3|        10.8|                 2.5|       null|dbfs:/FileStore/y...| 3.617686725694451|          371|\n|       1| 2020-01-01 00:55:23|  2020-01-01 01:00:14|            1.0|          0.8|       1.0|                 N|         238|         151|           1|        5.5|  0.5|    0.5|      1.36|         0.0|                  0.3|        8.16|                 0.0|       null|dbfs:/FileStore/y...|6.1496530365756765|          291|\n|       1| 2020-01-01 00:29:01|  2020-01-01 00:40:28|            2.0|          0.7|       1.0|                 N|         246|          48|           1|        8.0|  3.0|    0.5|      2.35|         0.0|                  0.3|       14.15|                 2.5|       null|dbfs:/FileStore/y...| 2.279265508643496|          687|\n|       1| 2020-01-01 00:55:11|  2020-01-01 01:12:03|            2.0|          2.4|       1.0|                 N|         246|          79|           1|       12.0|  3.0|    0.5|      1.75|         0.0|                  0.3|       17.55|                 2.5|       null|dbfs:/FileStore/y...| 5.304987253883957|         1012|\n|       1| 2020-01-01 00:37:15|  2020-01-01 00:51:41|            1.0|          0.8|       1.0|                 N|         163|         161|           2|        9.5|  3.0|    0.5|       0.0|         0.0|                  0.3|        13.3|                 2.5|       null|dbfs:/FileStore/y...| 2.066453849472889|          866|\n|       1| 2020-01-01 00:56:27|  2020-01-01 01:21:44|            1.0|          3.3|       1.0|                 N|         161|         144|           1|       17.0|  3.0|    0.5|      4.15|         0.0|                  0.3|       24.95|                 2.5|       null|dbfs:/FileStore/y...| 4.866110589175693|         1517|\n|       2| 2020-01-01 00:21:54|  2020-01-01 00:27:31|            1.0|         1.07|       1.0|                 N|          43|         239|           1|        6.0|  0.5|    0.5|      1.96|         0.0|                  0.3|       11.76|                 2.5|       null|dbfs:/FileStore/y...| 7.102438672101514|          337|\n|       2| 2020-01-01 00:38:01|  2020-01-01 01:15:21|            1.0|         7.76|       1.0|                 N|         143|          25|           1|       28.5|  0.5|    0.5|      4.84|         0.0|                  0.3|       37.14|                 2.5|       null|dbfs:/FileStore/y...| 7.749386440331321|         2240|\n|       1| 2020-01-01 00:15:35|  2020-01-01 00:27:06|            3.0|          1.6|       1.0|                 N|         211|         234|           2|        9.0|  3.0|    0.5|       0.0|         0.0|                  0.3|        12.8|                 2.5|       null|dbfs:/FileStore/y...| 5.179591993179512|          691|\n|       1| 2020-01-01 00:41:20|  2020-01-01 00:44:22|            1.0|          0.5|       1.0|                 Y|         234|          90|           1|        4.0|  3.0|    0.5|       1.0|         0.0|                  0.3|         8.8|                 2.5|       null|dbfs:/FileStore/y...|  6.14542937377583|          182|\n|       1| 2020-01-01 00:56:38|  2020-01-01 01:13:34|            1.0|          1.7|       1.0|                 N|         246|         142|           2|       11.5|  3.0|    0.5|       0.0|         0.0|                  0.3|        15.3|                 2.5|       null|dbfs:/FileStore/y...|3.7429052130831533|         1016|\n|       2| 2020-01-01 00:08:21|  2020-01-01 00:25:29|            1.0|         8.45|       1.0|                 N|         138|         216|           2|       24.5|  0.5|    0.5|       0.0|         0.0|                  0.3|        25.8|                 0.0|       null|dbfs:/FileStore/y...| 18.38726815939659|         1028|\n|       1| 2020-01-01 00:28:53|  2020-01-01 00:41:59|            1.0|          1.5|       1.0|                 N|         170|         161|           1|        9.5|  3.0|    0.5|      2.65|         0.0|                  0.3|       15.95|                 2.5|       null|dbfs:/FileStore/y...| 4.268962389416798|          786|\n|       1| 2020-01-01 00:49:00|  2020-01-01 01:17:42|            1.0|          2.9|       1.0|                 N|         161|         262|           1|       19.0|  3.0|    0.5|      4.55|         0.0|                  0.3|       27.35|                 2.5|       null|dbfs:/FileStore/y...| 3.767198168965021|         1722|\n|       1| 2020-01-01 00:23:54|  2020-01-01 00:38:46|            1.0|          1.9|       1.0|                 N|         236|         162|           1|       10.5|  3.0|    0.5|      2.85|         0.0|                  0.3|       17.15|                 2.5|       null|dbfs:/FileStore/y...|4.7647746131203625|          892|\n|       1| 2020-01-01 00:56:12|  2020-01-01 01:19:57|            1.0|          4.2|       1.0|                 N|          50|         261|           1|       18.0|  3.0|    0.5|      4.35|         0.0|                  0.3|       26.15|                 2.5|       null|dbfs:/FileStore/y...| 6.593075387107712|         1425|\n|       1| 2020-01-01 00:28:02|  2020-01-01 00:35:56|            2.0|          1.5|       1.0|                 N|         142|         236|           1|        7.5|  3.0|    0.5|       2.8|         0.0|                  0.3|        14.1|                 2.5|       null|dbfs:/FileStore/y...| 7.078912316627855|          474|\n|       1| 2020-01-01 00:48:23|  2020-01-01 00:53:58|            1.0|          0.6|       1.0|                 N|         237|         141|           1|        5.5|  3.0|    0.5|      1.85|         0.0|                  0.3|       11.15|                 2.5|       null|dbfs:/FileStore/y...| 4.006453060395944|          335|\n+--------+--------------------+---------------------+---------------+-------------+----------+------------------+------------+------------+------------+-----------+-----+-------+----------+------------+---------------------+------------+--------------------+-----------+--------------------+------------------+-------------+\nonly showing top 20 rows\n\n"
     ]
    }
   ],
   "source": [
    "# Define a threshold value for filtering tip amounts.\n",
    "threshold = 150  # Adjust the threshold as needed\n",
    "\n",
    "# Apply a filter to the trips_2020 DataFrame to keep only trips with tip amounts less than or equal to the threshold.\n",
    "trips_2020 = filter_tip_amounts(trips_2020, threshold)\n",
    "\n",
    "# Display the filtered DataFrame.\n",
    "trips_2020.show()\n"
   ]
  },
  {
   "cell_type": "code",
   "execution_count": 0,
   "metadata": {
    "application/vnd.databricks.v1+cell": {
     "cellMetadata": {
      "byteLimit": 2048000,
      "rowLimit": 10000
     },
     "inputWidgets": {},
     "nuid": "2fc34226-89ca-441f-be10-879fce8c397e",
     "showTitle": false,
     "title": ""
    }
   },
   "outputs": [],
   "source": [
    "# Define the output folder where the Parquet file will be saved.\n",
    "output_folder = \"/CleanedData/yellow/\"\n",
    "\n",
    "# Define the output filename.\n",
    "output_filename = output_folder + \"cleaned_2020.parquet\"\n",
    "\n",
    "# Write the trips_2020 DataFrame to a Parquet file with the specified filename.\n",
    "trips_2020.write.parquet(output_filename, mode=\"overwrite\")\n"
   ]
  },
  {
   "cell_type": "markdown",
   "metadata": {
    "application/vnd.databricks.v1+cell": {
     "cellMetadata": {
      "byteLimit": 2048000,
      "rowLimit": 10000
     },
     "inputWidgets": {},
     "nuid": "de170d2a-90c3-43d1-bc08-65f30c8df87f",
     "showTitle": false,
     "title": ""
    }
   },
   "source": [
    "Processing Year 2021"
   ]
  },
  {
   "cell_type": "code",
   "execution_count": 0,
   "metadata": {
    "application/vnd.databricks.v1+cell": {
     "cellMetadata": {
      "byteLimit": 2048000,
      "rowLimit": 10000
     },
     "inputWidgets": {},
     "nuid": "34e1013f-eb9e-437a-931c-5154604c4eee",
     "showTitle": false,
     "title": ""
    }
   },
   "outputs": [],
   "source": [
    "# Set the target year to 2021.\n",
    "year = 2021\n",
    "\n",
    "# Create a new DataFrame trips_2021 by calling the filter_and_clean_data function with df_cleaned and the specified year as arguments.\n",
    "trips_2021 = filter_and_clean_data(df_cleaned, year)\n"
   ]
  },
  {
   "cell_type": "code",
   "execution_count": 0,
   "metadata": {
    "application/vnd.databricks.v1+cell": {
     "cellMetadata": {
      "byteLimit": 2048000,
      "rowLimit": 10000
     },
     "inputWidgets": {},
     "nuid": "d53a0d29-c7d4-41bd-ac5c-88098a876ddd",
     "showTitle": false,
     "title": ""
    }
   },
   "outputs": [],
   "source": [
    "# Apply data cleaning and filtering operations to the trips_2021 DataFrame for the year 2021.\n",
    "\n",
    "# Filter trips with minimum distance and speed requirements.\n",
    "trips_2021 = filter_by_distance_and_speed(trips_2021, min_distance=0, min_speed=0)\n",
    "\n",
    "# Filter trips with a maximum allowable speed.\n",
    "trips_2021 = filter_and_find_highest_speed(trips_2021, max_allowable_speed_kmph=40)\n",
    "\n",
    "# Filter trips by trip duration.\n",
    "trips_2021 = filter_by_trip_duration(trips_2021, min_duration=60, max_duration=86400)\n",
    "\n",
    "# Filter trips by trip distance.\n",
    "trips_2021 = filter_by_trip_distance(trips_2021, min_distance=0.1, max_distance=100)\n",
    "\n",
    "# Filter trips by passenger count.\n",
    "trips_2021 = filter_by_passenger_count(trips_2021, min_count=1, max_count=7)\n"
   ]
  },
  {
   "cell_type": "code",
   "execution_count": 0,
   "metadata": {
    "application/vnd.databricks.v1+cell": {
     "cellMetadata": {
      "byteLimit": 2048000,
      "rowLimit": 10000
     },
     "inputWidgets": {},
     "nuid": "d4a98e72-dbf2-4b0b-83e4-da46c55d9f64",
     "showTitle": false,
     "title": ""
    }
   },
   "outputs": [],
   "source": [
    "# Define a list of valid rate codes.\n",
    "valid_rate_codes = [1, 2, 3, 4, 5, 6]\n",
    "\n",
    "# Apply a filter to the trips_2021 DataFrame to keep only trips with rate codes in the list of valid rate codes.\n",
    "trips_2021 = filter_by_valid_rate_codes(trips_2021, valid_rate_codes)\n"
   ]
  },
  {
   "cell_type": "code",
   "execution_count": 0,
   "metadata": {
    "application/vnd.databricks.v1+cell": {
     "cellMetadata": {
      "byteLimit": 2048000,
      "rowLimit": 10000
     },
     "inputWidgets": {},
     "nuid": "13257758-3fc2-4507-b0ab-3fdfb397395c",
     "showTitle": false,
     "title": ""
    }
   },
   "outputs": [
    {
     "output_type": "stream",
     "name": "stdout",
     "output_type": "stream",
     "text": [
      "+--------+--------------------+---------------------+---------------+-------------+----------+------------------+------------+------------+------------+-----------+-----+-------+----------+------------+---------------------+------------+--------------------+-----------+--------------------+------------------+-------------+\n|VendorID|tpep_pickup_datetime|tpep_dropoff_datetime|passenger_count|trip_distance|RatecodeID|store_and_fwd_flag|PULocationID|DOLocationID|payment_type|fare_amount|extra|mta_tax|tip_amount|tolls_amount|improvement_surcharge|total_amount|congestion_surcharge|airport_fee|            filename|        trip_speed|trip_duration|\n+--------+--------------------+---------------------+---------------+-------------+----------+------------------+------------+------------+------------+-----------+-----+-------+----------+------------+---------------------+------------+--------------------+-----------+--------------------+------------------+-------------+\n|       1| 2021-10-01 00:25:56|  2021-10-01 01:11:35|            1.0|          7.4|       1.0|                 Y|         140|          36|           1|       33.0|  3.0|    0.5|       4.0|         0.0|                  0.3|        40.8|                 2.5|        0.0|dbfs:/FileStore/y...| 6.043566469953479|         2739|\n|       1| 2021-10-01 00:17:13|  2021-10-01 00:41:31|            1.0|         14.1|       1.0|                 N|         209|          94|           2|       39.0|  3.0|    0.5|       0.0|         0.0|                  0.3|        42.8|                 2.5|        0.0|dbfs:/FileStore/y...| 21.63292298900348|         1458|\n|       2| 2021-10-01 00:25:22|  2021-10-01 00:48:07|            2.0|         5.64|       1.0|                 N|         238|         107|           1|       20.0|  0.5|    0.5|      4.76|         0.0|                  0.3|       28.56|                 2.5|        0.0|dbfs:/FileStore/y...| 9.242725778158848|         1365|\n|       1| 2021-10-01 00:09:30|  2021-10-01 00:32:06|            1.0|          3.7|       1.0|                 N|          79|          25|           2|       17.5|  3.0|    0.5|       0.0|         0.0|                  0.3|        21.3|                 2.5|        0.0|dbfs:/FileStore/y...|  6.10373472020744|         1356|\n|       2| 2021-10-01 00:10:58|  2021-10-01 00:25:27|            1.0|          4.2|       1.0|                 N|         143|          42|           1|       14.5|  0.5|    0.5|      3.66|         0.0|                  0.3|       21.96|                 2.5|        0.0|dbfs:/FileStore/y...|10.811429719940724|          869|\n|       2| 2021-10-01 00:23:30|  2021-10-01 00:39:39|            1.0|         6.97|       1.0|                 N|         138|          80|           2|       21.5|  0.5|    0.5|       0.0|         0.0|                  0.3|       24.05|                 0.0|       1.25|dbfs:/FileStore/y...|16.090243504250964|          969|\n|       1| 2021-10-01 00:18:49|  2021-10-01 00:32:53|            1.0|          4.0|       1.0|                 N|         148|         140|           1|       14.0|  3.0|    0.5|      3.55|         0.0|                  0.3|       21.35|                 2.5|        0.0|dbfs:/FileStore/y...|10.601593801205697|          844|\n|       1| 2021-10-01 00:57:39|  2021-10-01 01:03:31|            1.0|          1.9|       1.0|                 N|         148|         256|           1|        8.0|  3.0|    0.5|      2.36|         0.0|                  0.3|       14.16|                 2.5|        0.0|dbfs:/FileStore/y...|12.074372030975468|          352|\n|       1| 2021-10-01 00:17:57|  2021-10-01 01:37:43|            1.0|         66.6|       1.0|                 N|         138|         265|           2|      170.5| 1.75|    0.5|       0.0|        23.3|                  0.3|      196.35|                 0.0|       1.25|dbfs:/FileStore/y...|31.128281874388456|         4786|\n|       2| 2021-10-01 00:45:19|  2021-10-01 00:50:51|            1.0|         0.75|       1.0|                 N|          87|         231|           1|        5.5|  0.5|    0.5|      1.86|         0.0|                  0.3|       11.16|                 2.5|        0.0|dbfs:/FileStore/y...| 5.053319936869884|          332|\n|       2| 2021-10-01 00:10:34|  2021-10-01 00:23:47|            1.0|          3.0|       1.0|                 N|         231|         234|           1|       12.0|  0.5|    0.5|      3.16|         0.0|                  0.3|       18.96|                 2.5|        0.0|dbfs:/FileStore/y...| 8.462558481920816|          793|\n|       2| 2021-10-01 00:28:32|  2021-10-01 00:45:10|            1.0|         2.52|       1.0|                 N|         264|         140|           1|       13.0|  0.5|    0.5|      1.68|         0.0|                  0.3|       18.48|                 2.5|        0.0|dbfs:/FileStore/y...|5.6483762083938815|          998|\n|       2| 2021-10-01 00:42:12|  2021-10-01 00:45:56|            1.0|         1.16|       1.0|                 N|         125|          13|           1|        5.5|  0.5|    0.5|       5.0|         0.0|                  0.3|        14.3|                 2.5|        0.0|dbfs:/FileStore/y...|11.584134369567439|          224|\n|       2| 2021-10-01 00:40:06|  2021-10-01 00:53:38|            1.0|         2.79|       1.0|                 N|         161|         114|           2|       11.5|  0.5|    0.5|       0.0|         0.0|                  0.3|        15.3|                 2.5|        0.0|dbfs:/FileStore/y...| 7.686024944374116|          812|\n|       2| 2021-10-01 00:57:51|  2021-10-01 01:10:51|            1.0|         2.08|       1.0|                 N|          90|         161|           1|        8.5|  0.5|    0.5|      3.69|         0.0|                  0.3|       15.99|                 2.5|        0.0|dbfs:/FileStore/y...| 5.965163445478406|          780|\n|       2| 2021-10-01 00:13:02|  2021-10-01 00:23:34|            1.0|         4.19|       1.0|                 N|          79|         262|           1|       13.0|  0.5|    0.5|      3.36|         0.0|                  0.3|       20.16|                 2.5|        0.0|dbfs:/FileStore/y...|14.830321303335356|          632|\n|       1| 2021-10-01 00:38:07|  2021-10-01 00:43:57|            1.0|          1.5|       1.0|                 N|         162|         140|           1|        7.0|  3.0|    0.5|      2.15|         0.0|                  0.3|       12.95|                 2.5|        0.0|dbfs:/FileStore/y...| 9.586869823090295|          350|\n|       1| 2021-10-01 00:53:14|  2021-10-01 01:24:04|            1.0|         11.1|       1.0|                 N|         229|         121|           1|       35.5|  3.0|    0.5|      7.85|         0.0|                  0.3|       47.15|                 2.5|        0.0|dbfs:/FileStore/y...|13.421617752326414|         1850|\n|       2| 2021-10-01 00:16:10|  2021-10-01 00:39:53|            1.0|         9.65|       1.0|                 N|         148|         166|           1|       29.5|  0.5|    0.5|      6.66|         0.0|                  0.3|       39.96|                 2.5|        0.0|dbfs:/FileStore/y...|15.169666351598723|         1423|\n|       2| 2021-10-01 00:47:20|  2021-10-01 00:52:35|            1.0|         1.03|       1.0|                 N|         151|         239|           1|        6.0|  0.5|    0.5|       1.2|         0.0|                  0.3|        11.0|                 2.5|        0.0|dbfs:/FileStore/y...| 7.314426605765188|          315|\n+--------+--------------------+---------------------+---------------+-------------+----------+------------------+------------+------------+------------+-----------+-----+-------+----------+------------+---------------------+------------+--------------------+-----------+--------------------+------------------+-------------+\nonly showing top 20 rows\n\n"
     ]
    }
   ],
   "source": [
    "# Define a threshold value for filtering tip amounts.\n",
    "threshold = 150  # Adjust the threshold as needed\n",
    "\n",
    "# Apply a filter to the trips_2021 DataFrame to keep only trips with tip amounts less than or equal to the threshold.\n",
    "trips_2021 = filter_tip_amounts(trips_2021, threshold)\n",
    "\n",
    "# Display the filtered DataFrame.\n",
    "trips_2021.show()\n"
   ]
  },
  {
   "cell_type": "code",
   "execution_count": 0,
   "metadata": {
    "application/vnd.databricks.v1+cell": {
     "cellMetadata": {
      "byteLimit": 2048000,
      "rowLimit": 10000
     },
     "inputWidgets": {},
     "nuid": "15f46c73-9543-4ba9-8f62-eeb9988f1ceb",
     "showTitle": false,
     "title": ""
    }
   },
   "outputs": [],
   "source": [
    "# Define the output folder where the Parquet file will be saved.\n",
    "output_folder = \"/CleanedData/yellow/\"\n",
    "\n",
    "# Define the output filename.\n",
    "output_filename = output_folder + \"cleaned_2021.parquet\"\n",
    "\n",
    "# Write the trips_2021 DataFrame to a Parquet file with the specified filename.\n",
    "trips_2021.write.parquet(output_filename, mode=\"overwrite\")\n"
   ]
  },
  {
   "cell_type": "markdown",
   "metadata": {
    "application/vnd.databricks.v1+cell": {
     "cellMetadata": {
      "byteLimit": 2048000,
      "rowLimit": 10000
     },
     "inputWidgets": {},
     "nuid": "3ac3d951-77a4-4061-bdbc-6a10848098e3",
     "showTitle": false,
     "title": ""
    }
   },
   "source": [
    "Processing Year 2022"
   ]
  },
  {
   "cell_type": "code",
   "execution_count": 0,
   "metadata": {
    "application/vnd.databricks.v1+cell": {
     "cellMetadata": {
      "byteLimit": 2048000,
      "rowLimit": 10000
     },
     "inputWidgets": {},
     "nuid": "dc3adbc5-47bc-422c-b273-0b298e900a2b",
     "showTitle": false,
     "title": ""
    }
   },
   "outputs": [],
   "source": [
    "# Set the target year to 2022.\n",
    "year = 2022\n",
    "\n",
    "# Create a new DataFrame trips_2022 by calling the filter_and_clean_data function with df_cleaned and the specified year as arguments.\n",
    "trips_2022 = filter_and_clean_data(df_cleaned, year)\n"
   ]
  },
  {
   "cell_type": "code",
   "execution_count": 0,
   "metadata": {
    "application/vnd.databricks.v1+cell": {
     "cellMetadata": {
      "byteLimit": 2048000,
      "rowLimit": 10000
     },
     "inputWidgets": {},
     "nuid": "ec6645ef-83ef-43a1-9fa0-9553342c1b31",
     "showTitle": false,
     "title": ""
    }
   },
   "outputs": [],
   "source": [
    "# Apply data cleaning and filtering operations to the trips_2022 DataFrame for the year 2022.\n",
    "\n",
    "# Filter trips with minimum distance and speed requirements.\n",
    "trips_2022 = filter_by_distance_and_speed(trips_2022, min_distance=0, min_speed=0)\n",
    "\n",
    "# Filter trips with a maximum allowable speed.\n",
    "trips_2022 = filter_and_find_highest_speed(trips_2022, max_allowable_speed_kmph=40)\n",
    "\n",
    "# Filter trips by trip duration.\n",
    "trips_2022 = filter_by_trip_duration(trips_2022, min_duration=60, max_duration=86400)\n",
    "\n",
    "# Filter trips by trip distance.\n",
    "trips_2022 = filter_by_trip_distance(trips_2022, min_distance=0.1, max_distance=100)\n",
    "\n",
    "# Filter trips by passenger count.\n",
    "trips_2022 = filter_by_passenger_count(trips_2022, min_count=1, max_count=7)\n"
   ]
  },
  {
   "cell_type": "code",
   "execution_count": 0,
   "metadata": {
    "application/vnd.databricks.v1+cell": {
     "cellMetadata": {
      "byteLimit": 2048000,
      "rowLimit": 10000
     },
     "inputWidgets": {},
     "nuid": "d0539aaa-fd8c-4156-a423-2751992ca288",
     "showTitle": false,
     "title": ""
    }
   },
   "outputs": [],
   "source": [
    "# Define a list of valid rate codes.\n",
    "valid_rate_codes = [1, 2, 3, 4, 5, 6]\n",
    "\n",
    "# Filter the trips_2022 DataFrame to keep only trips with rate codes in the list of valid rate codes.\n",
    "trips_2022 = filter_by_valid_rate_codes(trips_2022, valid_rate_codes)\n"
   ]
  },
  {
   "cell_type": "code",
   "execution_count": 0,
   "metadata": {
    "application/vnd.databricks.v1+cell": {
     "cellMetadata": {
      "byteLimit": 2048000,
      "rowLimit": 10000
     },
     "inputWidgets": {},
     "nuid": "41993994-fe94-4c4b-9055-f2f2f9f02081",
     "showTitle": false,
     "title": ""
    }
   },
   "outputs": [
    {
     "output_type": "stream",
     "name": "stdout",
     "output_type": "stream",
     "text": [
      "+--------+--------------------+---------------------+---------------+-------------+----------+------------------+------------+------------+------------+-----------+-----+-------+----------+------------+---------------------+------------+--------------------+-----------+--------------------+------------------+-------------+\n|VendorID|tpep_pickup_datetime|tpep_dropoff_datetime|passenger_count|trip_distance|RatecodeID|store_and_fwd_flag|PULocationID|DOLocationID|payment_type|fare_amount|extra|mta_tax|tip_amount|tolls_amount|improvement_surcharge|total_amount|congestion_surcharge|airport_fee|            filename|        trip_speed|trip_duration|\n+--------+--------------------+---------------------+---------------+-------------+----------+------------------+------------+------------+------------+-----------+-----+-------+----------+------------+---------------------+------------+--------------------+-----------+--------------------+------------------+-------------+\n|       1| 2022-10-01 00:03:41|  2022-10-01 00:18:39|            1.0|          1.7|       1.0|                 N|         249|         107|           1|        9.5|  3.0|    0.5|      2.65|         0.0|                  0.3|       15.95|                 2.5|        0.0|dbfs:/FileStore/y...| 4.234734628610783|          898|\n|       2| 2022-10-01 00:14:30|  2022-10-01 00:19:48|            2.0|         0.72|       1.0|                 N|         151|         238|           2|        5.5|  0.5|    0.5|       0.0|         0.0|                  0.3|         9.3|                 2.5|        0.0|dbfs:/FileStore/y...| 5.064761415972232|          318|\n|       2| 2022-10-01 00:27:13|  2022-10-01 00:37:41|            1.0|         1.74|       1.0|                 N|         238|         166|           1|        9.0|  0.5|    0.5|      2.06|         0.0|                  0.3|       12.36|                 0.0|        0.0|dbfs:/FileStore/y...| 6.197880809195318|          628|\n|       1| 2022-10-01 00:22:52|  2022-10-01 00:52:14|            1.0|          6.8|       1.0|                 Y|         186|          41|           2|       25.5|  3.0|    0.5|       0.0|         0.0|                  0.3|        29.3|                 2.5|        0.0|dbfs:/FileStore/y...|  8.63289828942675|         1762|\n|       2| 2022-10-01 00:33:19|  2022-10-01 00:44:51|            3.0|         1.88|       1.0|                 N|         162|         145|           2|       10.5|  0.5|    0.5|       0.0|         0.0|                  0.3|        14.3|                 2.5|        0.0|dbfs:/FileStore/y...| 6.077225764540861|          692|\n|       1| 2022-10-01 00:02:42|  2022-10-01 00:50:01|            1.0|         12.2|       1.0|                 N|         100|          22|           1|       41.0|  3.0|    0.5|       3.0|         0.0|                  0.3|        47.8|                 2.5|        0.0|dbfs:/FileStore/y...| 9.612758986637445|         2839|\n|       2| 2022-10-01 00:06:35|  2022-10-01 00:24:38|            1.0|         7.79|       1.0|                 N|         138|         112|           1|       23.5|  0.5|    0.5|      4.96|         0.0|                  0.3|       31.01|                 0.0|       1.25|dbfs:/FileStore/y...|16.090243504250964|         1083|\n|       2| 2022-10-01 00:29:25|  2022-10-01 00:43:15|            1.0|         4.72|       1.0|                 N|         145|          75|           1|       14.5|  0.5|    0.5|       1.5|         0.0|                  0.3|        19.8|                 2.5|        0.0|dbfs:/FileStore/y...|12.720890721080455|          830|\n|       1| 2022-10-01 00:01:55|  2022-10-01 00:20:16|            1.0|          8.8|       1.0|                 N|         138|         236|           1|       26.0| 4.25|    0.5|      5.64|        6.55|                  0.3|       43.24|                 2.5|       1.25|dbfs:/FileStore/y...|17.879236485085137|         1101|\n|       1| 2022-10-01 00:27:48|  2022-10-01 00:59:50|            1.0|          8.6|       1.0|                 N|         140|          36|           1|       29.5|  3.0|    0.5|       6.0|         0.0|                  0.3|        39.3|                 2.5|        0.0|dbfs:/FileStore/y...|10.009184241242382|         1922|\n|       1| 2022-10-01 00:05:27|  2022-10-01 00:35:33|            4.0|         12.0|       1.0|                 N|          70|         230|           2|       36.5|  3.0|    0.5|       0.0|        6.55|                  0.3|       46.85|                 2.5|        0.0|dbfs:/FileStore/y...|14.863364066806659|         1806|\n|       1| 2022-10-01 00:38:53|  2022-10-01 00:48:13|            2.0|          1.4|       1.0|                 N|         230|          68|           1|        8.5|  3.0|    0.5|      3.05|         0.0|                  0.3|       15.35|                 2.5|        0.0|dbfs:/FileStore/y...| 5.592340730136005|          560|\n|       2| 2022-10-01 00:24:40|  2022-10-01 00:30:23|            1.0|         0.76|       1.0|                 N|          79|         113|           1|        5.5|  0.5|    0.5|      0.93|         0.0|                  0.3|       10.23|                 2.5|        0.0|dbfs:/FileStore/y...|   4.9564769153392|          343|\n|       2| 2022-10-01 00:32:22|  2022-10-01 00:58:55|            1.0|          7.8|       1.0|                 N|         113|         116|           1|       26.5|  0.5|    0.5|      6.06|         0.0|                  0.3|       36.36|                 2.5|        0.0|dbfs:/FileStore/y...|10.952983727573343|         1593|\n|       2| 2022-10-01 00:17:08|  2022-10-01 00:30:50|            2.0|          2.9|       1.0|                 N|          13|         249|           1|       12.0|  0.5|    0.5|       2.8|         0.0|                  0.3|        18.6|                 2.5|        0.0|dbfs:/FileStore/y...| 7.891867697028912|          822|\n|       2| 2022-10-01 00:32:14|  2022-10-01 00:44:35|            1.0|         1.71|       1.0|                 N|         249|          79|           1|        9.0|  0.5|    0.5|      2.56|         0.0|                  0.3|       15.36|                 2.5|        0.0|dbfs:/FileStore/y...| 5.162160673971696|          741|\n|       2| 2022-10-01 00:09:24|  2022-10-01 00:21:45|            1.0|          2.3|       1.0|                 N|          48|         249|           1|       10.0|  0.5|    0.5|      2.76|         0.0|                  0.3|       16.56|                 2.5|        0.0|dbfs:/FileStore/y...|6.9432570468625165|          741|\n|       2| 2022-10-01 00:22:29|  2022-10-01 00:33:53|            2.0|         1.67|       1.0|                 N|         249|         224|           1|        8.5|  0.5|    0.5|      2.46|         0.0|                  0.3|       14.76|                 2.5|        0.0|dbfs:/FileStore/y...| 5.461525742296566|          684|\n|       2| 2022-10-01 00:37:17|  2022-10-01 00:48:20|            1.0|         1.72|       1.0|                 N|         224|         114|           1|        9.0|  0.5|    0.5|      2.56|         0.0|                  0.3|       15.36|                 2.5|        0.0|dbfs:/FileStore/y...| 5.803213306687137|          663|\n|       2| 2022-10-01 00:49:35|  2022-10-01 00:59:38|            2.0|         1.33|       1.0|                 N|         114|          79|           1|        8.0|  0.5|    0.5|      1.77|         0.0|                  0.3|       13.57|                 2.5|        0.0|dbfs:/FileStore/y...| 4.933872750302413|          603|\n+--------+--------------------+---------------------+---------------+-------------+----------+------------------+------------+------------+------------+-----------+-----+-------+----------+------------+---------------------+------------+--------------------+-----------+--------------------+------------------+-------------+\nonly showing top 20 rows\n\n"
     ]
    }
   ],
   "source": [
    "# Define a threshold value for filtering tip amounts.\n",
    "threshold = 150  # Adjust the threshold as needed\n",
    "\n",
    "# Apply a filter to the trips_2022 DataFrame to keep only trips with tip amounts less than or equal to the threshold.\n",
    "trips_2022 = filter_tip_amounts(trips_2022, threshold)\n",
    "\n",
    "# Display the filtered DataFrame.\n",
    "trips_2022.show()\n"
   ]
  },
  {
   "cell_type": "code",
   "execution_count": 0,
   "metadata": {
    "application/vnd.databricks.v1+cell": {
     "cellMetadata": {
      "byteLimit": 2048000,
      "rowLimit": 10000
     },
     "inputWidgets": {},
     "nuid": "332f66e3-d1e0-4af2-8e6b-d8836072be5d",
     "showTitle": false,
     "title": ""
    }
   },
   "outputs": [],
   "source": [
    "# Define the output folder where the Parquet file will be saved.\n",
    "output_folder = \"/CleanedData/yellow/\"\n",
    "\n",
    "# Define the output filename.\n",
    "output_filename = output_folder + \"cleaned_2022.parquet\"\n",
    "\n",
    "# Write the trips_2022 DataFrame to a Parquet file with the specified filename.\n",
    "trips_2022.write.parquet(output_filename, mode=\"overwrite\")\n"
   ]
  },
  {
   "cell_type": "code",
   "execution_count": 0,
   "metadata": {
    "application/vnd.databricks.v1+cell": {
     "cellMetadata": {
      "byteLimit": 2048000,
      "rowLimit": 10000
     },
     "inputWidgets": {},
     "nuid": "46e2eabc-dfc8-443c-8e6f-90be2f40f89e",
     "showTitle": false,
     "title": ""
    }
   },
   "outputs": [
    {
     "output_type": "display_data",
     "data": {
      "text/html": [
       "<style scoped>\n",
       "  .table-result-container {\n",
       "    max-height: 300px;\n",
       "    overflow: auto;\n",
       "  }\n",
       "  table, th, td {\n",
       "    border: 1px solid black;\n",
       "    border-collapse: collapse;\n",
       "  }\n",
       "  th, td {\n",
       "    padding: 5px;\n",
       "  }\n",
       "  th {\n",
       "    text-align: left;\n",
       "  }\n",
       "</style><div class='table-result-container'><table class='table-result'><thead style='background-color: white'><tr><th>path</th><th>name</th><th>size</th><th>modificationTime</th></tr></thead><tbody><tr><td>dbfs:/CleanedData/yellow/cleaned_2015.parquet/</td><td>cleaned_2015.parquet/</td><td>0</td><td>0</td></tr><tr><td>dbfs:/CleanedData/yellow/cleaned_2016.parquet/</td><td>cleaned_2016.parquet/</td><td>0</td><td>0</td></tr><tr><td>dbfs:/CleanedData/yellow/cleaned_2017.parquet/</td><td>cleaned_2017.parquet/</td><td>0</td><td>0</td></tr><tr><td>dbfs:/CleanedData/yellow/cleaned_2018.parquet/</td><td>cleaned_2018.parquet/</td><td>0</td><td>0</td></tr><tr><td>dbfs:/CleanedData/yellow/cleaned_2019.parquet/</td><td>cleaned_2019.parquet/</td><td>0</td><td>0</td></tr><tr><td>dbfs:/CleanedData/yellow/cleaned_2020.parquet/</td><td>cleaned_2020.parquet/</td><td>0</td><td>0</td></tr><tr><td>dbfs:/CleanedData/yellow/cleaned_2021.parquet/</td><td>cleaned_2021.parquet/</td><td>0</td><td>0</td></tr><tr><td>dbfs:/CleanedData/yellow/cleaned_2022.parquet/</td><td>cleaned_2022.parquet/</td><td>0</td><td>0</td></tr></tbody></table></div>"
      ]
     },
     "metadata": {
      "application/vnd.databricks.v1+output": {
       "addedWidgets": {},
       "aggData": [],
       "aggError": "",
       "aggOverflow": false,
       "aggSchema": [],
       "aggSeriesLimitReached": false,
       "aggType": "",
       "arguments": {},
       "columnCustomDisplayInfos": {},
       "data": [
        [
         "dbfs:/CleanedData/yellow/cleaned_2015.parquet/",
         "cleaned_2015.parquet/",
         0,
         0
        ],
        [
         "dbfs:/CleanedData/yellow/cleaned_2016.parquet/",
         "cleaned_2016.parquet/",
         0,
         0
        ],
        [
         "dbfs:/CleanedData/yellow/cleaned_2017.parquet/",
         "cleaned_2017.parquet/",
         0,
         0
        ],
        [
         "dbfs:/CleanedData/yellow/cleaned_2018.parquet/",
         "cleaned_2018.parquet/",
         0,
         0
        ],
        [
         "dbfs:/CleanedData/yellow/cleaned_2019.parquet/",
         "cleaned_2019.parquet/",
         0,
         0
        ],
        [
         "dbfs:/CleanedData/yellow/cleaned_2020.parquet/",
         "cleaned_2020.parquet/",
         0,
         0
        ],
        [
         "dbfs:/CleanedData/yellow/cleaned_2021.parquet/",
         "cleaned_2021.parquet/",
         0,
         0
        ],
        [
         "dbfs:/CleanedData/yellow/cleaned_2022.parquet/",
         "cleaned_2022.parquet/",
         0,
         0
        ]
       ],
       "datasetInfos": [],
       "dbfsResultPath": null,
       "isJsonSchema": true,
       "metadata": {},
       "overflow": false,
       "plotOptions": {
        "customPlotOptions": {},
        "displayType": "table",
        "pivotAggregation": null,
        "pivotColumns": null,
        "xColumns": null,
        "yColumns": null
       },
       "removedWidgets": [],
       "schema": [
        {
         "metadata": "{}",
         "name": "path",
         "type": "\"string\""
        },
        {
         "metadata": "{}",
         "name": "name",
         "type": "\"string\""
        },
        {
         "metadata": "{}",
         "name": "size",
         "type": "\"long\""
        },
        {
         "metadata": "{}",
         "name": "modificationTime",
         "type": "\"long\""
        }
       ],
       "type": "table"
      }
     },
     "output_type": "display_data"
    }
   ],
   "source": [
    "# Use dbutils.fs.ls to display the contents of a directory in DBFS.\n",
    "\n",
    "# Define the directory path you want to list.\n",
    "directory_path = \"dbfs:/CleanedData/yellow/\"\n",
    "\n",
    "# Call dbutils.fs.ls to list the contents of the specified directory.\n",
    "directory_contents = dbutils.fs.ls(directory_path)\n",
    "\n",
    "# Display the list of files and subdirectories in the directory.\n",
    "display(directory_contents)\n"
   ]
  },
  {
   "cell_type": "code",
   "execution_count": 0,
   "metadata": {
    "application/vnd.databricks.v1+cell": {
     "cellMetadata": {
      "byteLimit": 2048000,
      "rowLimit": 10000
     },
     "inputWidgets": {},
     "nuid": "d511decc-0b6c-47b8-a756-d595a3e3a16d",
     "showTitle": false,
     "title": ""
    }
   },
   "outputs": [
    {
     "output_type": "stream",
     "name": "stdout",
     "output_type": "stream",
     "text": [
      "Out[69]: 646503433"
     ]
    }
   ],
   "source": [
    "clean_yellow = spark.read.parquet(\"/CleanedData/yellow/cleaned_*\")\n",
    "clean_yellow.count()"
   ]
  },
  {
   "cell_type": "markdown",
   "metadata": {
    "application/vnd.databricks.v1+cell": {
     "cellMetadata": {},
     "inputWidgets": {},
     "nuid": "265eda64-d57f-4558-86f4-87acc05a8fb8",
     "showTitle": false,
     "title": ""
    }
   },
   "source": [
    "The count of rows in the resulting DataFrame, clean_yellow, is reported as 646,503,433.\n",
    "\n",
    "This count represents the total number of cleaned and filtered records across all the years specified by the wildcard pattern in the Parquet files. It indicates the combined dataset size for the cleaned yellow taxi data from the years 2015 to 2022."
   ]
  },
  {
   "cell_type": "code",
   "execution_count": 0,
   "metadata": {
    "application/vnd.databricks.v1+cell": {
     "cellMetadata": {
      "byteLimit": 2048000,
      "rowLimit": 10000
     },
     "inputWidgets": {},
     "nuid": "6d313b45-9661-4374-8445-dbeaa66ed584",
     "showTitle": false,
     "title": ""
    }
   },
   "outputs": [
    {
     "output_type": "stream",
     "name": "stdout",
     "output_type": "stream",
     "text": [
      "root\n |-- VendorID: long (nullable = true)\n |-- tpep_pickup_datetime: timestamp (nullable = true)\n |-- tpep_dropoff_datetime: timestamp (nullable = true)\n |-- passenger_count: double (nullable = true)\n |-- trip_distance: double (nullable = true)\n |-- RatecodeID: double (nullable = true)\n |-- store_and_fwd_flag: string (nullable = true)\n |-- PULocationID: long (nullable = true)\n |-- DOLocationID: long (nullable = true)\n |-- payment_type: long (nullable = true)\n |-- fare_amount: double (nullable = true)\n |-- extra: double (nullable = true)\n |-- mta_tax: double (nullable = true)\n |-- tip_amount: double (nullable = true)\n |-- tolls_amount: double (nullable = true)\n |-- improvement_surcharge: double (nullable = true)\n |-- total_amount: double (nullable = true)\n |-- congestion_surcharge: double (nullable = true)\n |-- airport_fee: double (nullable = true)\n |-- filename: string (nullable = true)\n |-- trip_speed: double (nullable = true)\n |-- trip_duration: long (nullable = true)\n\n"
     ]
    }
   ],
   "source": [
    "clean_yellow.printSchema()"
   ]
  },
  {
   "cell_type": "markdown",
   "metadata": {
    "application/vnd.databricks.v1+cell": {
     "cellMetadata": {
      "byteLimit": 2048000,
      "rowLimit": 10000
     },
     "inputWidgets": {},
     "nuid": "3b499944-f061-4505-91e5-ea5c24cde8ec",
     "showTitle": false,
     "title": ""
    }
   },
   "source": [
    "## Green Taxi Dataset Cleaning Preparation "
   ]
  },
  {
   "cell_type": "markdown",
   "metadata": {
    "application/vnd.databricks.v1+cell": {
     "cellMetadata": {},
     "inputWidgets": {},
     "nuid": "5dc20556-e87e-44f6-a617-09d2be477605",
     "showTitle": false,
     "title": ""
    }
   },
   "source": [
    "We are importing the original parquet files of the Green Data into DBFS from the shared Google Drive. "
   ]
  },
  {
   "cell_type": "code",
   "execution_count": 0,
   "metadata": {
    "application/vnd.databricks.v1+cell": {
     "cellMetadata": {
      "byteLimit": 2048000,
      "rowLimit": 10000
     },
     "inputWidgets": {},
     "nuid": "28fdfb88-888e-492b-9e78-75bbe1a4359e",
     "showTitle": false,
     "title": ""
    }
   },
   "outputs": [
    {
     "output_type": "stream",
     "name": "stdout",
     "output_type": "stream",
     "text": [
      "Out[16]: 66200401"
     ]
    }
   ],
   "source": [
    "df_green = spark.read.parquet(\"/FileStore/green\")\n",
    "df_green.count()"
   ]
  },
  {
   "cell_type": "code",
   "execution_count": 0,
   "metadata": {
    "application/vnd.databricks.v1+cell": {
     "cellMetadata": {
      "byteLimit": 2048000,
      "rowLimit": 10000
     },
     "inputWidgets": {},
     "nuid": "86bf774e-1373-4aca-a18c-f6e017734d5f",
     "showTitle": false,
     "title": ""
    }
   },
   "outputs": [],
   "source": [
    "\n",
    "# Import the necessary functions\n",
    "from pyspark.sql.functions import col\n",
    "\n",
    "# Rename the columns in the DataFrame\n",
    "df_cleaned = df_green \\\n",
    "    .withColumnRenamed('lpep_pickup_datetime', 'tpep_pickup_datetime') \\\n",
    "    .withColumnRenamed('lpep_dropoff_datetime', 'tpep_dropoff_datetime')\n",
    "    \n",
    "# So that I can use df_cleaned with the updated column names\n"
   ]
  },
  {
   "cell_type": "code",
   "execution_count": 0,
   "metadata": {
    "application/vnd.databricks.v1+cell": {
     "cellMetadata": {
      "byteLimit": 2048000,
      "rowLimit": 10000
     },
     "inputWidgets": {},
     "nuid": "d08f976b-8299-4378-87cf-3cb47e87e457",
     "showTitle": false,
     "title": ""
    }
   },
   "outputs": [],
   "source": [
    "# Filter the DataFrame to keep only valid trips where drop-off is after or at the same time as pick-up\n",
    "df_cleaned = df_cleaned.filter(df_cleaned['tpep_dropoff_datetime'] >= df_cleaned['tpep_pickup_datetime'])\n"
   ]
  },
  {
   "cell_type": "code",
   "execution_count": 0,
   "metadata": {
    "application/vnd.databricks.v1+cell": {
     "cellMetadata": {
      "byteLimit": 2048000,
      "rowLimit": 10000
     },
     "inputWidgets": {},
     "nuid": "2b847798-05a6-404b-a094-96401416bae7",
     "showTitle": false,
     "title": ""
    }
   },
   "outputs": [],
   "source": [
    "# Import the necessary function\n",
    "from pyspark.sql.functions import input_file_name\n",
    "\n",
    "# Add a new column \"filename\" to the DataFrame containing the input file name\n",
    "df_cleaned = df_cleaned.withColumn(\"filename\", input_file_name())\n"
   ]
  },
  {
   "cell_type": "markdown",
   "metadata": {
    "application/vnd.databricks.v1+cell": {
     "cellMetadata": {
      "byteLimit": 2048000,
      "rowLimit": 10000
     },
     "inputWidgets": {},
     "nuid": "16838e26-506a-4e7e-bd1e-ba6a73e759ae",
     "showTitle": false,
     "title": ""
    }
   },
   "source": [
    "Processing Year 2015"
   ]
  },
  {
   "cell_type": "code",
   "execution_count": 0,
   "metadata": {
    "application/vnd.databricks.v1+cell": {
     "cellMetadata": {
      "byteLimit": 2048000,
      "rowLimit": 10000
     },
     "inputWidgets": {},
     "nuid": "bb09174f-681c-4500-a7b7-364bca27ec35",
     "showTitle": false,
     "title": ""
    }
   },
   "outputs": [],
   "source": [
    "# Define the year for which you want to filter and clean the data\n",
    "year = 2015\n",
    "\n",
    "# Call the filter_and_clean_data function to filter and clean the data for the specified year\n",
    "trips_2015 = filter_and_clean_data(df_cleaned, year)\n"
   ]
  },
  {
   "cell_type": "code",
   "execution_count": 0,
   "metadata": {
    "application/vnd.databricks.v1+cell": {
     "cellMetadata": {
      "byteLimit": 2048000,
      "rowLimit": 10000
     },
     "inputWidgets": {},
     "nuid": "21e35b70-c74d-4278-a1c6-7f9d11ad334b",
     "showTitle": false,
     "title": ""
    }
   },
   "outputs": [],
   "source": [
    "# Pseudo code for Data Filtering and Cleaning for Year 2015\n",
    "\n",
    "# Filtering trips by minimum distance and minimum speed\n",
    "trips_2015 = filter_by_distance_and_speed(trips_2015, min_distance=0, min_speed=0)\n",
    "\n",
    "# Filtering trips to find the highest allowable speed\n",
    "trips_2015 = filter_and_find_highest_speed(trips_2015, max_allowable_speed_kmph=40)\n",
    "\n",
    "# Filtering trips by trip duration\n",
    "trips_2015 = filter_by_trip_duration(trips_2015, min_duration=60, max_duration=86400)\n",
    "\n",
    "# Filtering trips by trip distance\n",
    "trips_2015 = filter_by_trip_distance(trips_2015, min_distance=0.1, max_distance=100)\n",
    "\n",
    "# Filtering trips by passenger count\n",
    "trips_2015 = filter_by_passenger_count(trips_2015, min_count=1, max_count=7)\n"
   ]
  },
  {
   "cell_type": "code",
   "execution_count": 0,
   "metadata": {
    "application/vnd.databricks.v1+cell": {
     "cellMetadata": {
      "byteLimit": 2048000,
      "rowLimit": 10000
     },
     "inputWidgets": {},
     "nuid": "064db12d-6460-401a-b003-6c3cf28ffd8c",
     "showTitle": false,
     "title": ""
    }
   },
   "outputs": [
    {
     "output_type": "stream",
     "name": "stdout",
     "output_type": "stream",
     "text": [
      "+--------+--------------------+---------------------+------------------+----------+------------+------------+---------------+-------------+-----------+-----+-------+----------+------------+---------+---------------------+------------+------------+---------+--------------------+--------+----------+-------------+\n|VendorID|tpep_pickup_datetime|tpep_dropoff_datetime|store_and_fwd_flag|RatecodeID|PULocationID|DOLocationID|passenger_count|trip_distance|fare_amount|extra|mta_tax|tip_amount|tolls_amount|ehail_fee|improvement_surcharge|total_amount|payment_type|trip_type|congestion_surcharge|filename|trip_speed|trip_duration|\n+--------+--------------------+---------------------+------------------+----------+------------+------------+---------------+-------------+-----------+-----+-------+----------+------------+---------+---------------------+------------+------------+---------+--------------------+--------+----------+-------------+\n+--------+--------------------+---------------------+------------------+----------+------------+------------+---------------+-------------+-----------+-----+-------+----------+------------+---------+---------------------+------------+------------+---------+--------------------+--------+----------+-------------+\n\n"
     ]
    }
   ],
   "source": [
    "# Pseudo code for filtering trips by invalid rate codes\n",
    "\n",
    "# Define the list of valid rate codes\n",
    "valid_rate_codes = [1, 2, 3, 4, 5, 6]\n",
    "\n",
    "# Use a filter function to select trips with rate codes not in the valid_rate_codes list\n",
    "invalid_rate_code_trips = filter_by_invalid_rate_codes(trips_2015, valid_rate_codes)\n",
    "\n",
    "# Show the DataFrame containing trips with invalid rate codes\n",
    "invalid_rate_code_trips.show()\n"
   ]
  },
  {
   "cell_type": "markdown",
   "metadata": {
    "application/vnd.databricks.v1+cell": {
     "cellMetadata": {},
     "inputWidgets": {},
     "nuid": "c4c4a85d-f025-44ce-aea6-0d717715c642",
     "showTitle": false,
     "title": ""
    }
   },
   "source": [
    "There are no invalid rate codes. "
   ]
  },
  {
   "cell_type": "code",
   "execution_count": 0,
   "metadata": {
    "application/vnd.databricks.v1+cell": {
     "cellMetadata": {
      "byteLimit": 2048000,
      "rowLimit": 10000
     },
     "inputWidgets": {},
     "nuid": "08b2c719-39ec-420a-b9e6-5a491401e46b",
     "showTitle": false,
     "title": ""
    }
   },
   "outputs": [
    {
     "output_type": "stream",
     "name": "stdout",
     "output_type": "stream",
     "text": [
      "+--------+--------------------+---------------------+------------------+----------+------------+------------+---------------+-------------+-----------+-----+-------+----------+------------+---------+---------------------+------------+------------+---------+--------------------+--------------------+------------------+-------------+\n|VendorID|tpep_pickup_datetime|tpep_dropoff_datetime|store_and_fwd_flag|RatecodeID|PULocationID|DOLocationID|passenger_count|trip_distance|fare_amount|extra|mta_tax|tip_amount|tolls_amount|ehail_fee|improvement_surcharge|total_amount|payment_type|trip_type|congestion_surcharge|            filename|        trip_speed|trip_duration|\n+--------+--------------------+---------------------+------------------+----------+------------+------------+---------------+-------------+-----------+-----+-------+----------+------------+---------+---------------------+------------+------------+---------+--------------------+--------------------+------------------+-------------+\n|       2| 2015-05-01 15:41:51|  2015-05-01 16:03:30|                 N|       3.0|         225|          17|            1.0|         0.55|       28.5|  0.0|    0.0|    287.65|         0.0|     null|                  0.3|      316.45|         1.0|      1.0|                null|dbfs:/FileStore/g...|0.9471246810084074|         1299|\n|       2| 2015-05-02 13:25:16|  2015-05-02 13:43:55|                 N|       3.0|         225|         225|            1.0|         0.98|       30.0|  0.0|    0.0|     275.0|         0.0|     null|                  0.3|       305.3|         1.0|      1.0|                null|dbfs:/FileStore/g...|1.9590684237831224|         1119|\n|       2| 2015-05-03 21:18:46|  2015-05-03 21:55:57|                 N|       3.0|          91|         225|            1.0|         5.14|       44.0|  0.5|    0.0|     168.0|         0.0|     null|                  0.3|       212.8|         1.0|      1.0|                null|dbfs:/FileStore/g...| 5.153676620869398|         2231|\n|       1| 2015-05-06 15:21:51|  2015-05-06 16:13:28|                 N|       1.0|          74|          42|            3.0|          2.7|       30.0|  0.0|    0.5|     300.0|         0.0|     null|                  0.3|       330.8|         1.0|      1.0|                null|dbfs:/FileStore/g...|1.9501866285266019|         3097|\n|       2| 2015-05-08 21:16:48|  2015-05-08 21:20:40|                 N|       1.0|          37|          37|            1.0|          0.3|        3.0|  0.5|    0.5|     300.0|         0.0|     null|                  0.0|       304.0|         1.0|      1.0|                null|dbfs:/FileStore/g...| 2.892590032828968|          232|\n|       2| 2015-05-08 22:11:20|  2015-05-08 22:17:24|                 N|       1.0|         255|         255|            1.0|         0.61|       -5.5| -0.5|   -0.5|     -1.02|         0.0|     null|                 -0.3|       -7.82|         1.0|      1.0|                null|dbfs:/FileStore/g...| 3.748711918003256|          364|\n|       2| 2015-05-16 04:03:58|  2015-05-16 04:49:24|                 N|       1.0|          61|         225|            1.0|         6.09|       31.0|  0.5|    0.5|     200.0|         0.0|     null|                  0.3|       232.3|         1.0|      1.0|                null|dbfs:/FileStore/g...| 4.997410865227921|         2726|\n|       2| 2015-05-17 03:15:35|  2015-05-17 04:20:29|                 N|       1.0|         112|          54|            1.0|         9.07|       47.0|  0.5|    0.5|     200.0|         0.0|     null|                  0.3|       248.3|         1.0|      1.0|                null|dbfs:/FileStore/g...| 5.210326699777459|         3894|\n|       2| 2015-05-17 04:24:46|  2015-05-17 05:17:25|                 N|       1.0|         195|          25|            1.0|         2.29|       30.5|  0.5|    0.5|     200.0|         0.0|     null|                  0.3|       231.8|         1.0|      1.0|                null|dbfs:/FileStore/g...| 1.621584080026775|         3159|\n|       2| 2015-05-17 05:20:59|  2015-05-17 05:56:01|                 N|       1.0|          97|          72|            1.0|         7.37|       27.0|  0.5|    0.5|     200.0|         0.0|     null|                  0.3|       228.3|         1.0|      1.0|                null|dbfs:/FileStore/g...|7.8431115473077755|         2102|\n|       2| 2015-05-17 21:50:09|  2015-05-17 22:05:37|                 N|       3.0|         225|          17|            1.0|         0.52|       28.0|  0.5|    0.0|    177.98|         0.0|     null|                  0.3|      206.78|         1.0|      1.0|                null|dbfs:/FileStore/g...|1.2534556808925528|          928|\n|       2| 2015-05-17 22:07:34|  2015-05-17 22:09:03|                 N|       3.0|          17|          61|            1.0|         0.27|       20.5|  0.5|    0.0|    177.83|         0.0|     null|                  0.3|      199.13|         1.0|      1.0|                null|dbfs:/FileStore/g...| 6.786211223086388|           89|\n|       2| 2015-05-19 00:14:39|  2015-05-19 00:16:57|                 N|       1.0|         213|         212|            1.0|          0.5|       45.0|  0.5|    0.5|     303.7|         0.0|     null|                  0.3|       350.0|         1.0|      1.0|                null|dbfs:/FileStore/g...| 8.104841637878268|          138|\n|       2| 2015-05-19 10:21:57|  2015-05-19 10:24:57|                 N|       3.0|          72|          72|            1.0|         0.12|       21.5|  0.0|    0.0|     189.0|         0.0|     null|                  0.3|       210.8|         1.0|      1.0|                null|dbfs:/FileStore/g...|1.4912908613696014|          180|\n|       2| 2015-05-21 02:34:16|  2015-05-21 02:48:46|                 N|       1.0|         225|          72|            1.0|         2.89|       13.0|  0.5|    0.5|     200.0|         0.0|     null|                  0.3|       214.3|         1.0|      1.0|                null|dbfs:/FileStore/g...| 7.430742395445084|          870|\n|       2| 2015-05-21 13:23:50|  2015-05-21 13:38:56|                 N|       3.0|          72|          72|            1.0|         0.56|       26.5|  0.0|    0.0|    299.99|         0.0|     null|                  0.3|      326.79|         1.0|      1.0|                null|dbfs:/FileStore/g...| 1.382653778753273|          906|\n|       2| 2015-05-21 23:36:40|  2015-05-22 01:58:51|                 N|       1.0|          75|          72|            1.0|        29.26|      113.0|  0.5|    0.5|     300.0|         0.0|     null|                  0.3|       414.3|         1.0|      1.0|                null|dbfs:/FileStore/g...| 7.672342738894832|         8531|\n|       2| 2015-05-22 14:36:27|  2015-05-22 14:43:43|                 N|       3.0|          39|          91|            1.0|         1.18|       24.0|  0.0|    0.0|     320.0|         0.0|     null|                  0.3|       344.3|         1.0|      1.0|                null|dbfs:/FileStore/g...|6.0540936344591625|          436|\n|       2| 2015-05-22 23:34:36|  2015-05-22 23:40:54|                 N|       1.0|         255|          80|            2.0|         0.66|       -6.0| -0.5|   -0.5|     -1.46|         0.0|     null|                 -0.3|       -8.76|         4.0|      1.0|                null|dbfs:/FileStore/g...|3.9057617797775275|          378|\n|       2| 2015-05-22 23:19:55|  2015-05-22 23:58:18|                 N|       1.0|          66|          72|            1.0|         6.36|       27.0|  0.5|    0.5|     200.0|         0.0|     null|                  0.3|       228.3|         1.0|      1.0|                null|dbfs:/FileStore/g...| 6.177557454392531|         2303|\n+--------+--------------------+---------------------+------------------+----------+------------+------------+---------------+-------------+-----------+-----+-------+----------+------------+---------+---------------------+------------+------------+---------+--------------------+--------------------+------------------+-------------+\nonly showing top 20 rows\n\n"
     ]
    }
   ],
   "source": [
    "# Pseudo code for filtering trips by extreme tip amounts\n",
    "\n",
    "# Define the threshold for extreme tip amounts\n",
    "threshold = 150  # Adjusted the threshold per business decision\n",
    "\n",
    "# Use a filter function to select trips with tip amounts exceeding the threshold\n",
    "extreme_tip_trips = filter_extreme_tip_amounts(trips_2015, threshold)\n",
    "\n",
    "# Show the DataFrame containing trips with extreme tip amounts\n",
    "extreme_tip_trips.show()\n"
   ]
  },
  {
   "cell_type": "code",
   "execution_count": 0,
   "metadata": {
    "application/vnd.databricks.v1+cell": {
     "cellMetadata": {
      "byteLimit": 2048000,
      "rowLimit": 10000
     },
     "inputWidgets": {},
     "nuid": "01080b01-63dc-41f2-8bf2-b323e91db421",
     "showTitle": false,
     "title": ""
    }
   },
   "outputs": [
    {
     "output_type": "stream",
     "name": "stdout",
     "output_type": "stream",
     "text": [
      "+--------+--------------------+---------------------+------------------+----------+------------+------------+---------------+-------------+-----------+-----+-------+----------+------------+---------+---------------------+------------+------------+---------+--------------------+--------------------+------------------+-------------+\n|VendorID|tpep_pickup_datetime|tpep_dropoff_datetime|store_and_fwd_flag|RatecodeID|PULocationID|DOLocationID|passenger_count|trip_distance|fare_amount|extra|mta_tax|tip_amount|tolls_amount|ehail_fee|improvement_surcharge|total_amount|payment_type|trip_type|congestion_surcharge|            filename|        trip_speed|trip_duration|\n+--------+--------------------+---------------------+------------------+----------+------------+------------+---------------+-------------+-----------+-----+-------+----------+------------+---------+---------------------+------------+------------+---------+--------------------+--------------------+------------------+-------------+\n|       2| 2015-05-01 00:07:45|  2015-05-01 00:12:50|                 N|       1.0|         255|         112|            1.0|         1.09|        5.5|  0.5|    0.5|       1.0|         0.0|     null|                  0.3|         7.8|         1.0|      1.0|                null|dbfs:/FileStore/g...| 7.994296912587864|          305|\n|       2| 2015-05-01 00:26:23|  2015-05-01 00:55:12|                 N|       1.0|         255|          13|            1.0|         5.73|       22.0|  0.5|    0.5|      4.66|         0.0|     null|                  0.3|       27.96|         1.0|      1.0|                null|dbfs:/FileStore/g...|  7.41332848668116|         1729|\n|       2| 2015-05-01 00:20:16|  2015-05-01 00:30:37|                 N|       1.0|          80|         225|            1.0|         2.35|        9.5|  0.5|    0.5|       0.0|         0.0|     null|                  0.3|        10.8|         2.0|      1.0|                null|dbfs:/FileStore/g...|  8.46505682178397|          621|\n|       2| 2015-05-01 00:37:21|  2015-05-01 00:50:00|                 N|       1.0|          37|         112|            1.0|         2.68|       11.0|  0.5|    0.5|      3.08|         0.0|     null|                  0.3|       15.38|         1.0|      1.0|                null|dbfs:/FileStore/g...| 7.898536578005005|          759|\n|       2| 2015-05-01 00:06:15|  2015-05-01 00:31:20|                 N|       1.0|         255|         164|            1.0|         4.74|       19.5|  0.5|    0.5|       0.0|         0.0|     null|                  0.3|        20.8|         2.0|      1.0|                null|dbfs:/FileStore/g...|7.0452345676663555|         1505|\n|       2| 2015-05-01 00:22:31|  2015-05-01 01:05:05|                 N|       1.0|          17|          68|            1.0|         6.47|       29.5|  0.5|    0.5|       0.0|         0.0|     null|                  0.3|        30.8|         2.0|      1.0|                null|dbfs:/FileStore/g...| 5.666788492400932|         2554|\n|       2| 2015-05-01 00:27:04|  2015-05-01 00:35:33|                 N|       1.0|         112|         226|            5.0|         2.25|        9.0|  0.5|    0.5|      2.06|         0.0|     null|                  0.3|       12.36|         1.0|      1.0|                null|dbfs:/FileStore/g...| 9.888225259572504|          509|\n|       2| 2015-05-01 00:19:16|  2015-05-01 00:35:52|                 N|       1.0|         255|          52|            1.0|          4.9|       17.5|  0.5|    0.5|      3.76|         0.0|     null|                  0.3|       22.56|         1.0|      1.0|                null|dbfs:/FileStore/g...|11.005007862516639|          996|\n|       2| 2015-05-01 00:49:19|  2015-05-01 01:08:26|                 N|       1.0|         181|          37|            1.0|         3.99|       16.5|  0.5|    0.5|      3.56|         0.0|     null|                  0.3|       21.36|         1.0|      1.0|                null|dbfs:/FileStore/g...| 7.781495906972157|         1147|\n|       1| 2015-05-01 00:14:26|  2015-05-01 00:20:33|                 N|       1.0|         116|          42|            1.0|          1.2|        6.5|  0.5|    0.5|       0.0|         0.0|     null|                  0.3|         7.8|         2.0|      1.0|                null|dbfs:/FileStore/g...|  7.31423310753483|          367|\n|       2| 2015-05-01 00:01:09|  2015-05-01 00:04:16|                 N|       1.0|          95|          95|            1.0|          0.8|        4.5|  0.5|    0.5|       0.0|         0.0|     null|                  0.3|         5.8|         2.0|      1.0|                null|dbfs:/FileStore/g...| 9.569780928574984|          187|\n|       2| 2015-05-01 00:18:27|  2015-05-01 00:49:21|                 N|       1.0|         255|         238|            2.0|         8.41|       28.5|  0.5|    0.5|       8.7|         0.0|     null|                  0.3|        38.5|         1.0|      1.0|                null|dbfs:/FileStore/g...| 10.14705189653588|         1854|\n|       2| 2015-05-01 00:10:26|  2015-05-01 00:29:52|                 N|       1.0|          36|          45|            1.0|         4.55|       17.0|  0.5|    0.5|      3.66|         0.0|     null|                  0.3|       21.96|         1.0|      1.0|                null|dbfs:/FileStore/g...| 8.729039561618807|         1166|\n|       2| 2015-05-01 00:56:51|  2015-05-01 01:11:46|                 N|       1.0|         217|          37|            1.0|         2.88|       12.5|  0.5|    0.5|       0.0|         0.0|     null|                  0.3|        13.8|         2.0|      1.0|                null|dbfs:/FileStore/g...| 7.198186057113606|          895|\n|       2| 2015-05-01 00:39:41|  2015-05-01 00:57:58|                 N|       1.0|         112|          17|            1.0|         3.89|       15.5|  0.5|    0.5|       0.0|         0.0|     null|                  0.3|        16.8|         1.0|      1.0|                null|dbfs:/FileStore/g...| 7.932253578934937|         1097|\n|       2| 2015-05-01 00:57:23|  2015-05-01 01:10:32|                 N|       1.0|         255|         114|            1.0|         3.55|       13.5|  0.5|    0.5|       3.0|         0.0|     null|                  0.3|        17.8|         1.0|      1.0|                null|dbfs:/FileStore/g...| 10.06479573738039|          789|\n|       1| 2015-05-01 00:21:48|  2015-05-01 00:25:46|                 N|       1.0|           7|           7|            1.0|          0.8|        5.0|  0.5|    0.5|       0.0|         0.0|     null|                  0.3|         6.3|         2.0|      1.0|                null|dbfs:/FileStore/g...| 7.519113586737487|          238|\n|       1| 2015-05-01 00:57:52|  2015-05-01 01:06:17|                 N|       1.0|          82|         260|            1.0|          1.4|        8.0|  0.5|    0.5|       0.0|         0.0|     null|                  0.3|         9.3|         2.0|      1.0|                null|dbfs:/FileStore/g...| 6.201407542329036|          505|\n|       2| 2015-05-01 00:38:03|  2015-05-01 00:46:58|                 N|       1.0|         241|         235|            1.0|         1.97|        8.5|  0.5|    0.5|       0.0|         0.0|     null|                  0.3|         9.8|         2.0|      1.0|                null|dbfs:/FileStore/g...|  8.23694298195733|          535|\n|       2| 2015-05-01 00:51:28|  2015-05-01 00:59:00|                 N|       1.0|         235|          47|            1.0|         1.56|        7.5|  0.5|    0.5|       0.0|         0.0|     null|                  0.3|         8.8|         2.0|      1.0|                null|dbfs:/FileStore/g...| 7.720399592046167|          452|\n+--------+--------------------+---------------------+------------------+----------+------------+------------+---------------+-------------+-----------+-----+-------+----------+------------+---------+---------------------+------------+------------+---------+--------------------+--------------------+------------------+-------------+\nonly showing top 20 rows\n\n"
     ]
    }
   ],
   "source": [
    "# Pseudo code for filtering trips by tip amount threshold\n",
    "\n",
    "# Define the tip amount threshold\n",
    "threshold = 150  # Adjust the threshold as needed\n",
    "\n",
    "# Use a filter function to select trips with tip amounts above the threshold\n",
    "trips_2015 = filter_tip_amounts(trips_2015, threshold)\n",
    "\n",
    "# Display the resulting DataFrame\n",
    "trips_2015.show()\n"
   ]
  },
  {
   "cell_type": "code",
   "execution_count": 0,
   "metadata": {
    "application/vnd.databricks.v1+cell": {
     "cellMetadata": {
      "byteLimit": 2048000,
      "rowLimit": 10000
     },
     "inputWidgets": {},
     "nuid": "803cf3e9-9187-43b5-891b-d87d38a0c4ef",
     "showTitle": false,
     "title": ""
    }
   },
   "outputs": [],
   "source": [
    "#dbutils.fs.rm(\"/CleanedData/green/\", recurse=True)\n"
   ]
  },
  {
   "cell_type": "code",
   "execution_count": 0,
   "metadata": {
    "application/vnd.databricks.v1+cell": {
     "cellMetadata": {
      "byteLimit": 2048000,
      "rowLimit": 10000
     },
     "inputWidgets": {},
     "nuid": "3a025d86-f7c7-4a33-87c3-085feac5edb0",
     "showTitle": false,
     "title": ""
    }
   },
   "outputs": [],
   "source": [
    "# Pseudo code for saving a DataFrame as a Parquet file\n",
    "\n",
    "# Define the output folder and filename\n",
    "output_folder = \"/CleanedData/green/\"\n",
    "output_filename = output_folder + \"cleaned_2015.parquet\"\n",
    "\n",
    "# Save the DataFrame as a Parquet file with the specified filename and overwrite if it already exists\n",
    "trips_2015.write.parquet(output_filename, mode=\"overwrite\")\n"
   ]
  },
  {
   "cell_type": "code",
   "execution_count": 0,
   "metadata": {
    "application/vnd.databricks.v1+cell": {
     "cellMetadata": {
      "byteLimit": 2048000,
      "rowLimit": 10000
     },
     "inputWidgets": {},
     "nuid": "c3fcb1b9-d6d3-4d23-82d0-6d8f3f100594",
     "showTitle": false,
     "title": ""
    }
   },
   "outputs": [
    {
     "output_type": "stream",
     "name": "stdout",
     "output_type": "stream",
     "text": [
      "Missing values in column 'tpep_pickup_datetime': 0\nMissing values in column 'tpep_dropoff_datetime': 0\nMissing values in column 'trip_distance': 0\nMissing values in column 'fare_amount': 0\n+--------+--------------------+---------------------+------------------+----------+------------+------------+---------------+-------------+-----------+-----+-------+----------+------------+---------+---------------------+------------+------------+---------+--------------------+--------+----------+-------------+\n|VendorID|tpep_pickup_datetime|tpep_dropoff_datetime|store_and_fwd_flag|RatecodeID|PULocationID|DOLocationID|passenger_count|trip_distance|fare_amount|extra|mta_tax|tip_amount|tolls_amount|ehail_fee|improvement_surcharge|total_amount|payment_type|trip_type|congestion_surcharge|filename|trip_speed|trip_duration|\n+--------+--------------------+---------------------+------------------+----------+------------+------------+---------------+-------------+-----------+-----+-------+----------+------------+---------+---------------------+------------+------------+---------+--------------------+--------+----------+-------------+\n+--------+--------------------+---------------------+------------------+----------+------------+------------+---------------+-------------+-----------+-----+-------+----------+------------+---------+---------------------+------------+------------+---------+--------------------+--------+----------+-------------+\n\n"
     ]
    }
   ],
   "source": [
    "# Read the Parquet file\n",
    "trips_2015 = spark.read.parquet(\"/CleanedData/green/cleaned_2015.parquet\")\n",
    "\n",
    "# Define the list of columns to check for missing values\n",
    "columns_to_check = [\"tpep_pickup_datetime\", \"tpep_dropoff_datetime\", \"trip_distance\", \"fare_amount\"]\n",
    "\n",
    "# Check for missing values in the specified columns\n",
    "check_missing_values(trips_2015, columns_to_check)\n",
    "\n",
    "# Filter rows with unexpected values in the 'store_and_fwd_flag' column\n",
    "filter_unexpected_store_and_fwd_flag(trips_2015)\n"
   ]
  },
  {
   "cell_type": "markdown",
   "metadata": {
    "application/vnd.databricks.v1+cell": {
     "cellMetadata": {},
     "inputWidgets": {},
     "nuid": "ada9ac42-e417-40e1-aa71-09798ca81d30",
     "showTitle": false,
     "title": ""
    }
   },
   "source": [
    "In the dataset for the year 2015, there don't appear to be any missing values in the columns 'tpep_pickup_datetime,' 'tpep_dropoff_datetime,' 'trip_distance,' and 'fare_amount.' Additionally, upon filtering rows with unexpected values in the 'store_and_fwd_flag' column, no such rows were found, indicating that the data seems to be clean and consistent for this year."
   ]
  },
  {
   "cell_type": "markdown",
   "metadata": {
    "application/vnd.databricks.v1+cell": {
     "cellMetadata": {
      "byteLimit": 2048000,
      "rowLimit": 10000
     },
     "inputWidgets": {},
     "nuid": "3756c985-647d-49ea-9c6d-60c08ba4784d",
     "showTitle": false,
     "title": ""
    }
   },
   "source": [
    "Processing Year 2016"
   ]
  },
  {
   "cell_type": "code",
   "execution_count": 0,
   "metadata": {
    "application/vnd.databricks.v1+cell": {
     "cellMetadata": {
      "byteLimit": 2048000,
      "rowLimit": 10000
     },
     "inputWidgets": {},
     "nuid": "6e7a9e09-f84c-47e2-905c-9f6223a57a51",
     "showTitle": false,
     "title": ""
    }
   },
   "outputs": [],
   "source": [
    "# Filter and clean the data for the year 2016\n",
    "year = 2016\n",
    "trips_2016 = filter_and_clean_data(df_cleaned, year)\n"
   ]
  },
  {
   "cell_type": "code",
   "execution_count": 0,
   "metadata": {
    "application/vnd.databricks.v1+cell": {
     "cellMetadata": {
      "byteLimit": 2048000,
      "rowLimit": 10000
     },
     "inputWidgets": {},
     "nuid": "c693e2ce-ee46-4259-a4ed-17dbc3d3f987",
     "showTitle": false,
     "title": ""
    }
   },
   "outputs": [],
   "source": [
    "# Filter and clean data for the year 2016\n",
    "year = 2016\n",
    "trips_2016 = filter_and_clean_data(df_cleaned, year)\n",
    "\n",
    "# Filter by distance and speed\n",
    "trips_2016 = filter_by_distance_and_speed(trips_2016, min_distance=0, min_speed=0)\n",
    "\n",
    "# Filter and find highest speed trips\n",
    "trips_2016 = filter_and_find_highest_speed(trips_2016, max_allowable_speed_kmph=40)\n",
    "\n",
    "# Filter by trip duration\n",
    "trips_2016 = filter_by_trip_duration(trips_2016, min_duration=60, max_duration=86400)\n",
    "\n",
    "# Filter by trip distance\n",
    "trips_2016 = filter_by_trip_distance(trips_2016, min_distance=0.1, max_distance=100)\n",
    "\n",
    "# Filter by passenger count\n",
    "trips_2016 = filter_by_passenger_count(trips_2016, min_count=1, max_count=7)\n"
   ]
  },
  {
   "cell_type": "code",
   "execution_count": 0,
   "metadata": {
    "application/vnd.databricks.v1+cell": {
     "cellMetadata": {
      "byteLimit": 2048000,
      "rowLimit": 10000
     },
     "inputWidgets": {},
     "nuid": "f75a872c-c05f-4736-8dd4-de32e7587b33",
     "showTitle": false,
     "title": ""
    }
   },
   "outputs": [
    {
     "output_type": "stream",
     "name": "stdout",
     "output_type": "stream",
     "text": [
      "+--------+--------------------+---------------------+------------------+----------+------------+------------+---------------+-------------+-----------+-----+-------+----------+------------+---------+---------------------+------------+------------+---------+--------------------+--------+----------+-------------+\n|VendorID|tpep_pickup_datetime|tpep_dropoff_datetime|store_and_fwd_flag|RatecodeID|PULocationID|DOLocationID|passenger_count|trip_distance|fare_amount|extra|mta_tax|tip_amount|tolls_amount|ehail_fee|improvement_surcharge|total_amount|payment_type|trip_type|congestion_surcharge|filename|trip_speed|trip_duration|\n+--------+--------------------+---------------------+------------------+----------+------------+------------+---------------+-------------+-----------+-----+-------+----------+------------+---------+---------------------+------------+------------+---------+--------------------+--------+----------+-------------+\n+--------+--------------------+---------------------+------------------+----------+------------+------------+---------------+-------------+-----------+-----+-------+----------+------------+---------+---------------------+------------+------------+---------+--------------------+--------+----------+-------------+\n\n"
     ]
    }
   ],
   "source": [
    "# Define the list of valid rate codes\n",
    "valid_rate_codes = [1, 2, 3, 4, 5, 6]\n",
    "\n",
    "# Filter trips with invalid rate codes\n",
    "invalid_rate_code_trips = filter_by_invalid_rate_codes(trips_2016, valid_rate_codes)\n",
    "\n",
    "# Display the resulting DataFrame\n",
    "invalid_rate_code_trips.show()\n"
   ]
  },
  {
   "cell_type": "code",
   "execution_count": 0,
   "metadata": {
    "application/vnd.databricks.v1+cell": {
     "cellMetadata": {
      "byteLimit": 2048000,
      "rowLimit": 10000
     },
     "inputWidgets": {},
     "nuid": "ce6b5363-16cc-4978-a135-814530e16fcb",
     "showTitle": false,
     "title": ""
    }
   },
   "outputs": [
    {
     "output_type": "stream",
     "name": "stdout",
     "output_type": "stream",
     "text": [
      "+--------+--------------------+---------------------+------------------+----------+------------+------------+---------------+-------------+-----------+-----+-------+----------+------------+---------+---------------------+------------+------------+---------+--------------------+--------------------+------------------+-------------+\n|VendorID|tpep_pickup_datetime|tpep_dropoff_datetime|store_and_fwd_flag|RatecodeID|PULocationID|DOLocationID|passenger_count|trip_distance|fare_amount|extra|mta_tax|tip_amount|tolls_amount|ehail_fee|improvement_surcharge|total_amount|payment_type|trip_type|congestion_surcharge|            filename|        trip_speed|trip_duration|\n+--------+--------------------+---------------------+------------------+----------+------------+------------+---------------+-------------+-----------+-----+-------+----------+------------+---------+---------------------+------------+------------+---------+--------------------+--------------------+------------------+-------------+\n|       2| 2016-03-04 19:36:18|  2016-03-04 20:09:17|                 N|       1.0|         152|         107|            1.0|         7.52|       28.5|  1.0|    0.5|     300.0|         0.0|     null|                  0.3|       330.3|         1.0|      1.0|                null|dbfs:/FileStore/g...| 8.500131842470493|         1979|\n|       2| 2016-03-04 23:16:36|  2016-03-04 23:23:04|                 N|       1.0|         129|          83|            5.0|         0.86|       -6.0| -0.5|   -0.5|      -1.0|         0.0|     null|                 -0.3|        -8.3|         4.0|      1.0|                null|dbfs:/FileStore/g...| 4.958157760739138|          388|\n|       2| 2016-03-09 09:42:30|  2016-03-09 09:47:54|                 N|       1.0|          95|          95|            1.0|         0.75|       -5.5|  0.0|   -0.5|      -2.0|         0.0|     null|                 -0.3|        -8.3|         4.0|      1.0|                null|dbfs:/FileStore/g...|5.1780932686444485|          324|\n|       2| 2016-03-18 22:55:43|  2016-03-18 23:21:17|                 N|       1.0|         130|          86|            1.0|        11.23|       32.5|  0.5|    0.5|     200.0|         0.0|     null|                  0.3|       233.8|         1.0|      1.0|                null|dbfs:/FileStore/g...| 16.37600688381417|         1534|\n|       2| 2016-03-19 21:16:23|  2016-03-19 21:40:51|                 N|       1.0|          75|         186|            1.0|         4.98|       18.5|  0.5|    0.5|     300.0|         0.0|     null|                  0.3|       319.8|         1.0|      1.0|                null|dbfs:/FileStore/g...| 7.588516849067386|         1468|\n|       2| 2016-03-20 10:19:37|  2016-03-20 12:42:37|                 N|       4.0|          92|          72|            1.0|        45.75|      286.0|  0.0|    0.5|     160.0|         0.0|     null|                  0.3|       446.8|         1.0|      1.0|                null|dbfs:/FileStore/g...| 11.92771973910127|         8580|\n|       2| 2016-03-20 10:20:25|  2016-03-20 12:35:01|                 N|       4.0|         256|          72|            1.0|        54.58|      282.0|  0.0|    0.5|     168.0|         0.0|     null|                  0.3|       450.8|         1.0|      1.0|                null|dbfs:/FileStore/g...|15.117878011432548|         8076|\n|       2| 2016-03-20 20:15:55|  2016-03-20 20:20:30|                 N|       1.0|          82|          83|            1.0|         0.95|       -5.5| -0.5|   -0.5|      -0.2|         0.0|     null|                 -0.3|        -7.0|         3.0|      1.0|                null|dbfs:/FileStore/g...| 7.727598099824298|          275|\n|       2| 2016-03-22 22:32:23|  2016-03-22 22:33:27|                 N|       1.0|           7|           7|            1.0|         0.28|       -3.0| -0.5|   -0.5|      -1.5|         0.0|     null|                 -0.3|        -5.8|         3.0|      1.0|                null|dbfs:/FileStore/g...|  9.78659627773801|           64|\n|       2| 2016-03-24 03:47:40|  2016-03-24 03:53:02|                 N|       1.0|         223|         223|            6.0|         0.96|       -6.0| -0.5|   -0.5|     -2.19|         0.0|     null|                 -0.3|       -9.49|         4.0|      1.0|                null|dbfs:/FileStore/g...| 6.669126833454118|          322|\n|       2| 2016-03-26 16:28:49|  2016-03-26 16:36:05|                 N|       1.0|          14|          14|            1.0|         0.91|        5.0|  0.0|    0.5|     450.0|         0.0|     null|                  0.3|       455.8|         1.0|      1.0|                null|dbfs:/FileStore/g...| 4.668834921489693|          436|\n|       2| 2016-03-26 21:37:05|  2016-03-26 21:47:05|                 N|       1.0|          69|          18|            1.0|         3.38|       11.5|  0.5|    0.5|     202.0|         0.0|     null|                  0.3|       214.8|         1.0|      1.0|                null|dbfs:/FileStore/g...|12.601407778573131|          600|\n|       2| 2016-03-27 01:04:05|  2016-03-27 01:09:58|                 N|       1.0|         112|         255|            6.0|         0.63|       -5.5| -0.5|   -0.5|     -1.36|         0.0|     null|                 -0.3|       -8.16|         3.0|      1.0|                null|dbfs:/FileStore/g...| 3.992265903666497|          353|\n|       2| 2016-03-28 11:01:37|  2016-03-28 12:24:24|                 N|       1.0|         265|          14|            1.0|        49.35|      130.5|  0.0|    0.5|     169.0|         0.0|     null|                  0.3|       300.3|         1.0|      1.0|                null|dbfs:/FileStore/g...|22.225247838309794|         4967|\n|       2| 2016-04-05 08:58:41|  2016-04-05 09:02:36|                 N|       1.0|         133|          89|            1.0|         0.52|       -4.5|  0.0|   -0.5|     -1.06|         0.0|     null|                 -0.3|       -6.36|         3.0|      1.0|                null|dbfs:/FileStore/g...| 4.949816476035274|          235|\n|       2| 2016-04-07 01:27:23|  2016-04-07 01:34:27|                 N|       1.0|         129|         260|            2.0|         0.91|       -6.5| -0.5|   -0.5|     -22.0|       -2.54|     null|                 -0.3|      -32.34|         4.0|      1.0|                null|dbfs:/FileStore/g...| 4.800971758890345|          424|\n|       2| 2016-04-08 12:59:17|  2016-04-08 13:06:09|                 N|       1.0|          69|         159|            1.0|         0.74|       -5.5|  0.0|   -0.5|      -1.0|         0.0|     null|                 -0.3|        -7.3|         4.0|      1.0|                null|dbfs:/FileStore/g...|4.0177981944666445|          412|\n|       2| 2016-04-09 17:52:24|  2016-04-09 17:56:15|                 N|       1.0|          75|          75|            4.0|         0.48|       -4.0|  0.0|   -0.5|     -0.96|         0.0|     null|                 -0.3|       -5.76|         3.0|      1.0|                null|dbfs:/FileStore/g...| 4.648179308164991|          231|\n|       2| 2016-04-10 19:35:56|  2016-04-10 19:39:32|                 N|       5.0|          31|         174|            3.0|         0.62|      -45.0|  0.0|    0.0|      -9.0|         0.0|     null|                  0.0|       -54.0|         3.0|      2.0|                null|dbfs:/FileStore/g...| 6.420835653119117|          216|\n|       2| 2016-04-10 23:42:02|  2016-04-11 01:09:05|                 N|       1.0|          91|         188|            1.0|         4.54|       49.0|  0.5|    0.5|     163.0|         0.0|     null|                  0.3|       213.3|         1.0|      1.0|                null|dbfs:/FileStore/g...|1.9444171483681765|         5223|\n+--------+--------------------+---------------------+------------------+----------+------------+------------+---------------+-------------+-----------+-----+-------+----------+------------+---------+---------------------+------------+------------+---------+--------------------+--------------------+------------------+-------------+\nonly showing top 20 rows\n\n"
     ]
    }
   ],
   "source": [
    "# Set the threshold for extreme tip amounts\n",
    "threshold = 150  # Adjusted the threshold per business decision\n",
    "\n",
    "# Filter trips with tip amounts exceeding the threshold\n",
    "extreme_tip_trips = filter_extreme_tip_amounts(trips_2016, threshold)\n",
    "\n",
    "# Display the resulting DataFrame\n",
    "extreme_tip_trips.show()\n"
   ]
  },
  {
   "cell_type": "code",
   "execution_count": 0,
   "metadata": {
    "application/vnd.databricks.v1+cell": {
     "cellMetadata": {
      "byteLimit": 2048000,
      "rowLimit": 10000
     },
     "inputWidgets": {},
     "nuid": "568c3f71-1b72-4ebe-bb93-4334f6331095",
     "showTitle": false,
     "title": ""
    }
   },
   "outputs": [
    {
     "output_type": "stream",
     "name": "stdout",
     "output_type": "stream",
     "text": [
      "+--------+--------------------+---------------------+------------------+----------+------------+------------+---------------+-------------+-----------+-----+-------+----------+------------+---------+---------------------+------------+------------+---------+--------------------+--------------------+--------------------+-------------+\n|VendorID|tpep_pickup_datetime|tpep_dropoff_datetime|store_and_fwd_flag|RatecodeID|PULocationID|DOLocationID|passenger_count|trip_distance|fare_amount|extra|mta_tax|tip_amount|tolls_amount|ehail_fee|improvement_surcharge|total_amount|payment_type|trip_type|congestion_surcharge|            filename|          trip_speed|trip_duration|\n+--------+--------------------+---------------------+------------------+----------+------------+------------+---------------+-------------+-----------+-----+-------+----------+------------+---------+---------------------+------------+------------+---------+--------------------+--------------------+--------------------+-------------+\n|       2| 2016-03-01 00:49:58|  2016-03-01 01:06:33|                 N|       1.0|         189|         165|            1.0|         4.12|       14.5|  0.5|    0.5|       0.0|         0.0|     null|                  0.3|        15.8|         2.0|      1.0|                null|dbfs:/FileStore/g...|   9.262489973129785|          995|\n|       2| 2016-03-01 00:15:31|  2016-03-01 00:26:19|                 N|       1.0|          17|         112|            1.0|         3.04|       12.0|  0.5|    0.5|      2.66|         0.0|     null|                  0.3|       15.96|         1.0|      1.0|                null|dbfs:/FileStore/g...|  10.494269024452752|          648|\n|       2| 2016-03-01 00:31:00|  2016-03-01 00:35:27|                 N|       1.0|          80|          36|            1.0|         1.31|        6.0|  0.5|    0.5|      1.46|         0.0|     null|                  0.3|        8.76|         1.0|      1.0|                null|dbfs:/FileStore/g...|  10.975230496596506|          267|\n|       1| 2016-03-01 00:12:33|  2016-03-01 00:15:27|                 N|       1.0|         116|          42|            1.0|          0.6|        4.5|  0.5|    0.5|       0.0|         0.0|     null|                  0.3|         5.8|         2.0|      1.0|                null|dbfs:/FileStore/g...|   7.713573420877249|          174|\n|       2| 2016-03-01 00:51:37|  2016-03-01 00:58:26|                 N|       1.0|         226|         226|            1.0|         1.04|        6.5|  0.5|    0.5|       0.0|         0.0|     null|                  0.3|         7.8|         2.0|      1.0|                null|dbfs:/FileStore/g...|   5.688053163170118|          409|\n|       2| 2016-03-01 00:20:56|  2016-03-01 00:23:23|                 N|       1.0|         255|         112|            1.0|         0.54|        4.0|  0.5|    0.5|      1.32|         0.0|     null|                  0.3|        6.62|         1.0|      1.0|                null|dbfs:/FileStore/g...|   8.217316991220253|          147|\n|       2| 2016-03-01 00:24:24|  2016-03-01 00:33:22|                 N|       1.0|         112|          65|            1.0|          4.2|       13.5|  0.5|    0.5|      2.96|         0.0|     null|                  0.3|       17.76|         1.0|      1.0|                null|dbfs:/FileStore/g...|  17.463071424960017|          538|\n|       2| 2016-03-01 00:03:44|  2016-03-01 00:19:16|                 N|       1.0|         166|         247|            2.0|         3.76|       14.5|  0.5|    0.5|      4.74|         0.0|     null|                  0.3|       20.54|         1.0|      1.0|                null|dbfs:/FileStore/g...|   9.024549847773125|          932|\n|       1| 2016-03-01 00:16:03|  2016-03-01 00:24:49|                 N|       1.0|         256|          17|            1.0|          1.8|        8.0|  0.5|    0.5|       4.0|         0.0|     null|                  0.3|        13.3|         1.0|      1.0|                null|dbfs:/FileStore/g...|   7.654915067866775|          526|\n|       1| 2016-03-01 00:40:02|  2016-03-01 00:53:44|                 N|       1.0|          80|          17|            2.0|          3.2|       12.5|  0.5|    0.5|       0.0|         0.0|     null|                  0.3|        13.8|         2.0|      1.0|                null|dbfs:/FileStore/g...|   8.708267803618112|          822|\n|       2| 2016-03-01 00:19:36|  2016-03-01 00:25:38|                 N|       1.0|          49|         189|            1.0|          1.1|        6.0|  0.5|    0.5|       0.0|         0.0|     null|                  0.3|         7.3|         2.0|      1.0|                null|dbfs:/FileStore/g...|   6.797320224474703|          362|\n|       2| 2016-03-01 00:27:11|  2016-03-01 00:36:30|                 N|       1.0|         189|          97|            1.0|         1.18|        8.0|  0.5|    0.5|       0.0|         0.0|     null|                  0.3|         9.3|         2.0|      1.0|                null|dbfs:/FileStore/g...|   4.721976430454731|          559|\n|       2| 2016-03-01 00:53:16|  2016-03-01 01:02:30|                 N|       1.0|          25|          17|            1.0|          2.3|        9.5|  0.5|    0.5|       0.0|         0.0|     null|                  0.3|        10.8|         2.0|      1.0|                null|dbfs:/FileStore/g...|   9.286919624052572|          554|\n|       1| 2016-03-01 00:21:50|  2016-03-01 00:26:00|                 N|       1.0|         179|           8|            1.0|          0.8|        5.0|  0.5|    0.5|      0.94|         0.0|     null|                  0.3|        7.24|         1.0|      1.0|                null|dbfs:/FileStore/g...|   7.158196134574088|          250|\n|       1| 2016-03-01 00:46:13|  2016-03-01 00:52:53|                 N|       1.0|         179|         223|            1.0|          1.9|        8.5|  0.5|    0.5|       0.0|         0.0|     null|                  0.3|         9.8|         2.0|      1.0|                null|dbfs:/FileStore/g...|   10.62544738725841|          400|\n|       2| 2016-03-01 00:34:49|  2016-03-01 00:57:14|                 N|       1.0|         112|          50|            1.0|         6.37|       21.5|  0.5|    0.5|       3.0|         0.0|     null|                  0.3|        25.8|         1.0|      1.0|                null|dbfs:/FileStore/g...|  10.594263331142411|         1345|\n|       2| 2016-03-01 00:06:03|  2016-03-01 00:27:44|                 N|       1.0|          33|          36|            1.0|         5.74|       20.0|  0.5|    0.5|      5.32|         0.0|     null|                  0.3|       26.62|         1.0|      1.0|                null|dbfs:/FileStore/g...|   9.869342287772689|         1301|\n|       2| 2016-03-01 00:47:18|  2016-03-01 00:53:08|                 N|       1.0|          36|          37|            1.0|          1.2|        6.0|  0.5|    0.5|       0.0|         0.0|     null|                  0.3|         7.3|         2.0|      1.0|                null|dbfs:/FileStore/g...|   7.669495858472235|          350|\n|       2| 2016-03-01 00:11:03|  2016-03-01 23:43:55|                 N|       1.0|          80|         112|            1.0|         0.71|        5.0|  0.5|    0.5|       0.0|         0.0|     null|                  0.3|         6.3|         2.0|      1.0|                null|dbfs:/FileStore/g...|0.018735251820868038|        84772|\n|       1| 2016-03-01 00:19:47|  2016-03-01 00:29:23|                 N|       1.0|         256|          17|            1.0|          2.4|       10.0|  0.5|    0.5|      2.25|         0.0|     null|                  0.3|       13.55|         1.0|      1.0|                null|dbfs:/FileStore/g...|    9.32056788356001|          576|\n+--------+--------------------+---------------------+------------------+----------+------------+------------+---------------+-------------+-----------+-----+-------+----------+------------+---------+---------------------+------------+------------+---------+--------------------+--------------------+--------------------+-------------+\nonly showing top 20 rows\n\n"
     ]
    }
   ],
   "source": [
    "# Set the threshold for tip amounts\n",
    "threshold = 150  # Adjust the threshold as needed\n",
    "\n",
    "# Filter trips with tip amounts exceeding the threshold\n",
    "trips_2016 = filter_tip_amounts(trips_2016, threshold)\n",
    "\n",
    "# Display the resulting DataFrame\n",
    "trips_2016.show()\n"
   ]
  },
  {
   "cell_type": "code",
   "execution_count": 0,
   "metadata": {
    "application/vnd.databricks.v1+cell": {
     "cellMetadata": {
      "byteLimit": 2048000,
      "rowLimit": 10000
     },
     "inputWidgets": {},
     "nuid": "886e17e8-dbde-4195-aeb7-35e668216dd4",
     "showTitle": false,
     "title": ""
    }
   },
   "outputs": [],
   "source": [
    "# Define the output folder path\n",
    "output_folder = \"/CleanedData/green/\"\n",
    "\n",
    "# Define the output filename\n",
    "output_filename = output_folder + \"cleaned_2016.parquet\"\n",
    "\n",
    "# Save the DataFrame as a Parquet file with the specified filename\n",
    "trips_2016.write.parquet(output_filename, mode=\"overwrite\")\n"
   ]
  },
  {
   "cell_type": "code",
   "execution_count": 0,
   "metadata": {
    "application/vnd.databricks.v1+cell": {
     "cellMetadata": {
      "byteLimit": 2048000,
      "rowLimit": 10000
     },
     "inputWidgets": {},
     "nuid": "b0f9d843-5488-4956-988e-74f42c5b0637",
     "showTitle": false,
     "title": ""
    }
   },
   "outputs": [
    {
     "output_type": "stream",
     "name": "stdout",
     "output_type": "stream",
     "text": [
      "Missing values in column 'tpep_pickup_datetime': 0\nMissing values in column 'tpep_dropoff_datetime': 0\nMissing values in column 'trip_distance': 0\nMissing values in column 'fare_amount': 0\n"
     ]
    }
   ],
   "source": [
    "# Read the Parquet file into the trips_2016 DataFrame\n",
    "trips_2016 = spark.read.parquet(\"/CleanedData/green/cleaned_2016.parquet\")\n",
    "\n",
    "# Define a list of columns to check for missing values\n",
    "columns_to_check = [\"tpep_pickup_datetime\", \"tpep_dropoff_datetime\", \"trip_distance\", \"fare_amount\"]\n",
    "\n",
    "# Check for missing values in the specified columns\n",
    "check_missing_values(trips_2016, columns_to_check)\n",
    "\n",
    "# Filter and display rows with unexpected values in the 'store_and_fwd_flag' column\n",
    "filter_unexpected_store_and_fwd_flag(trips_2016)\n"
   ]
  },
  {
   "cell_type": "markdown",
   "metadata": {
    "application/vnd.databricks.v1+cell": {
     "cellMetadata": {},
     "inputWidgets": {},
     "nuid": "c035e10f-c871-4193-90bd-8962f20e78f1",
     "showTitle": false,
     "title": ""
    }
   },
   "source": [
    "The code indicates that there are no missing values in critical columns such as 'tpep_pickup_datetime,' 'tpep_dropoff_datetime,' 'trip_distance,' and 'fare_amount' within the trips_2016 DataFrame. "
   ]
  },
  {
   "cell_type": "markdown",
   "metadata": {
    "application/vnd.databricks.v1+cell": {
     "cellMetadata": {
      "byteLimit": 2048000,
      "rowLimit": 10000
     },
     "inputWidgets": {},
     "nuid": "a5da68ed-6b34-4db3-95ee-f61995dc3004",
     "showTitle": false,
     "title": ""
    }
   },
   "source": [
    "Processing Year 2017"
   ]
  },
  {
   "cell_type": "code",
   "execution_count": 0,
   "metadata": {
    "application/vnd.databricks.v1+cell": {
     "cellMetadata": {
      "byteLimit": 2048000,
      "rowLimit": 10000
     },
     "inputWidgets": {},
     "nuid": "a9e9c3ea-35ac-452c-8e1d-7a5cf4228e0c",
     "showTitle": false,
     "title": ""
    }
   },
   "outputs": [],
   "source": [
    "year=2017\n",
    "trips_2017 = filter_and_clean_data(df_cleaned, year)\n"
   ]
  },
  {
   "cell_type": "code",
   "execution_count": 0,
   "metadata": {
    "application/vnd.databricks.v1+cell": {
     "cellMetadata": {
      "byteLimit": 2048000,
      "rowLimit": 10000
     },
     "inputWidgets": {},
     "nuid": "3f6c2255-b61a-4170-98fc-223d78e8f6c9",
     "showTitle": false,
     "title": ""
    }
   },
   "outputs": [],
   "source": [
    "# data filtering and cleaning operations\n",
    "trips_2017 = filter_by_distance_and_speed(trips_2017, min_distance=0, min_speed=0)\n",
    "trips_2017 = filter_and_find_highest_speed(trips_2017, max_allowable_speed_kmph=40)\n",
    "trips_2017 = filter_by_trip_duration(trips_2017, min_duration=60, max_duration=86400)\n",
    "trips_2017 = filter_by_trip_distance(trips_2017, min_distance=0.1, max_distance=100)\n",
    "trips_2017 = filter_by_passenger_count(trips_2017, min_count=1, max_count=7)"
   ]
  },
  {
   "cell_type": "code",
   "execution_count": 0,
   "metadata": {
    "application/vnd.databricks.v1+cell": {
     "cellMetadata": {
      "byteLimit": 2048000,
      "rowLimit": 10000
     },
     "inputWidgets": {},
     "nuid": "5c74a70d-495f-43b7-a821-cf7c7a13ed57",
     "showTitle": false,
     "title": ""
    }
   },
   "outputs": [
    {
     "output_type": "display_data",
     "data": {
      "text/html": [
       "<style scoped>\n",
       "  .ansiout {\n",
       "    display: block;\n",
       "    unicode-bidi: embed;\n",
       "    white-space: pre-wrap;\n",
       "    word-wrap: break-word;\n",
       "    word-break: break-all;\n",
       "    font-family: \"Source Code Pro\", \"Menlo\", monospace;;\n",
       "    font-size: 13px;\n",
       "    color: #555;\n",
       "    margin-left: 4px;\n",
       "    line-height: 19px;\n",
       "  }\n",
       "</style>"
      ]
     },
     "metadata": {
      "application/vnd.databricks.v1+output": {
       "arguments": {},
       "data": "",
       "errorSummary": "Cancelled",
       "errorTraceType": "html",
       "metadata": {},
       "type": "ipynbError"
      }
     },
     "output_type": "display_data"
    }
   ],
   "source": [
    "valid_rate_codes = [1, 2, 3, 4, 5, 6]  # the list of valid rate codes we want to check against\n",
    "invalid_rate_code_trips = filter_by_invalid_rate_codes(trips_2017, valid_rate_codes)\n",
    "invalid_rate_code_trips.show()"
   ]
  },
  {
   "cell_type": "code",
   "execution_count": 0,
   "metadata": {
    "application/vnd.databricks.v1+cell": {
     "cellMetadata": {
      "byteLimit": 2048000,
      "rowLimit": 10000
     },
     "inputWidgets": {},
     "nuid": "494a776e-8c7b-4c76-929c-0cb0f97c4a07",
     "showTitle": false,
     "title": ""
    }
   },
   "outputs": [],
   "source": [
    "# List of valid rate codes to check against\n",
    "valid_rate_codes = [1, 2, 3, 4, 5, 6]\n",
    "\n",
    "# Filter trips in the year 2017 by valid rate codes\n",
    "trips_2017 = filter_by_valid_rate_codes(trips_2017, valid_rate_codes)\n"
   ]
  },
  {
   "cell_type": "code",
   "execution_count": 0,
   "metadata": {
    "application/vnd.databricks.v1+cell": {
     "cellMetadata": {
      "byteLimit": 2048000,
      "rowLimit": 10000
     },
     "inputWidgets": {},
     "nuid": "d070f9f9-f2ba-4cf8-a700-497403eca880",
     "showTitle": false,
     "title": ""
    }
   },
   "outputs": [
    {
     "output_type": "stream",
     "name": "stdout",
     "output_type": "stream",
     "text": [
      "+--------+--------------------+---------------------+------------------+----------+------------+------------+---------------+-------------+-----------+-----+-------+----------+------------+---------+---------------------+------------+------------+---------+--------------------+--------------------+-------------------+-------------+\n|VendorID|tpep_pickup_datetime|tpep_dropoff_datetime|store_and_fwd_flag|RatecodeID|PULocationID|DOLocationID|passenger_count|trip_distance|fare_amount|extra|mta_tax|tip_amount|tolls_amount|ehail_fee|improvement_surcharge|total_amount|payment_type|trip_type|congestion_surcharge|            filename|         trip_speed|trip_duration|\n+--------+--------------------+---------------------+------------------+----------+------------+------------+---------------+-------------+-----------+-----+-------+----------+------------+---------+---------------------+------------+------------+---------+--------------------+--------------------+-------------------+-------------+\n|       2| 2017-03-01 08:41:45|  2017-03-01 08:45:00|                 N|       1.0|         182|         182|            1.0|         0.56|       -4.5|  0.0|   -0.5|     -1.06|         0.0|     null|                 -0.3|       -6.36|         3.0|      1.0|                null|dbfs:/FileStore/g...|  6.424022172053668|          195|\n|       2| 2017-03-01 09:02:36|  2017-03-01 10:22:27|                 N|       1.0|          89|         251|            1.0|        18.06|       67.0|  0.0|    0.5|     250.0|       11.08|     null|                  0.3|      328.88|         1.0|      1.0|                null|dbfs:/FileStore/g...|  8.432283330098622|         4791|\n|       2| 2017-03-04 02:57:48|  2017-03-04 03:35:02|                 N|       1.0|          65|          71|            1.0|         10.9|       29.5|  0.5|    0.5|     300.0|         0.0|     null|                  0.3|       330.8|         1.0|      1.0|                null|dbfs:/FileStore/g...|  10.91432658164413|         2234|\n|       2| 2017-03-04 10:56:32|  2017-03-04 11:10:53|                 N|       1.0|          49|          49|            2.0|         1.99|       11.0|  0.0|    0.5|     200.0|         0.0|     null|                  0.3|       211.8|         1.0|      1.0|                null|dbfs:/FileStore/g...|  5.170154728441649|          861|\n|       2| 2017-03-04 19:25:56|  2017-03-04 20:34:25|                 N|       1.0|          91|         188|            1.0|         3.91|       37.0|  0.0|    0.5|     300.0|         0.0|     null|                  0.3|       337.8|         1.0|      1.0|                null|dbfs:/FileStore/g...|  2.128600852259117|         4109|\n|       2| 2017-03-06 19:48:24|  2017-03-06 23:18:38|                 N|       1.0|         216|          71|            1.0|        61.25|      198.0|  1.0|    0.5|     222.0|         0.0|     null|                  0.3|       421.8|         1.0|      1.0|                null|dbfs:/FileStore/g...| 10.861927056312995|        12614|\n|       2| 2017-03-07 07:10:06|  2017-03-07 07:14:06|                 N|       1.0|         182|         212|            1.0|         0.59|       -4.5|  0.0|   -0.5|     -1.32|         0.0|     null|                 -0.3|       -6.62|         3.0|      1.0|                null|dbfs:/FileStore/g...|  5.499135051300405|          240|\n|       2| 2017-03-08 21:03:25|  2017-03-08 21:05:16|                 N|       5.0|         130|         215|            1.0|         0.53|      200.0|  0.0|    0.0|     175.0|         0.0|     null|                  0.0|       375.0|         1.0|      2.0|                null|dbfs:/FileStore/g...|  10.68086698007958|          111|\n|       2| 2017-03-08 22:56:05|  2017-03-08 23:08:06|                 N|       1.0|          23|          23|            1.0|         0.52|        3.5|  0.5|    0.5|     380.0|         0.0|     null|                  0.3|       384.8|         1.0|      1.0|                null|dbfs:/FileStore/g...|  1.613324371523286|          721|\n|       2| 2017-03-09 08:41:59|  2017-03-09 08:44:22|                 N|       1.0|         182|         182|            1.0|         0.57|       -4.0|  0.0|   -0.5|      -1.0|         0.0|     null|                 -0.3|        -5.8|         3.0|      1.0|                null|dbfs:/FileStore/g...|  8.916459345951113|          143|\n|       2| 2017-03-13 19:02:59|  2017-03-13 19:43:21|                 N|       1.0|         265|         265|            1.0|         0.22|       22.5|  1.0|    0.5|     350.0|         0.0|     null|                  0.3|       374.3|         1.0|      1.0|                null|dbfs:/FileStore/g...|0.20318991917917775|         2422|\n|       2| 2017-03-15 19:22:40|  2017-03-15 20:19:48|                 N|       1.0|          72|          91|            1.0|         2.37|       32.0|  1.0|    0.5|     200.0|         0.0|     null|                  0.3|       233.8|         1.0|      1.0|                null|dbfs:/FileStore/g...| 1.5465399685440295|         3428|\n|       2| 2017-03-16 18:53:46|  2017-03-16 19:46:44|                 N|       5.0|          23|          91|            3.0|        16.25|       60.0|  0.0|    0.0|     160.0|         0.0|     null|                  0.0|       220.0|         1.0|      2.0|                null|dbfs:/FileStore/g...| 11.438078900529906|         3178|\n|       2| 2017-03-17 23:52:52|  2017-03-18 00:25:21|                 N|       1.0|          97|         197|            1.0|        12.43|       37.5|  0.5|    0.5|     190.0|         0.0|     null|                  0.3|       228.8|         1.0|      1.0|                null|dbfs:/FileStore/g...|  14.26635100576512|         1949|\n|       2| 2017-03-18 15:23:22|  2017-03-18 22:07:10|                 N|       1.0|          71|         196|            1.0|        51.15|      249.0|  0.0|    0.5|     250.0|         0.0|     null|                  0.3|       499.8|         1.0|      1.0|                null|dbfs:/FileStore/g...|  4.722605718118816|        24228|\n|       2| 2017-03-18 23:15:52|  2017-03-18 23:31:13|                 N|       1.0|         188|          85|            1.0|         2.97|       13.5|  0.5|    0.5|     300.0|         0.0|     null|                  0.3|       314.8|         1.0|      1.0|                null|dbfs:/FileStore/g...|  7.213573059067943|          921|\n|       2| 2017-03-19 13:30:45|  2017-03-19 14:41:16|                 N|       1.0|          65|         225|            1.0|         8.76|       46.5|  0.0|    0.5|     200.0|         0.0|     null|                  0.3|       247.3|         1.0|      1.0|                null|dbfs:/FileStore/g...| 4.6314256484038205|         4231|\n|       2| 2017-03-20 08:18:28|  2017-03-20 08:21:57|                 N|       1.0|         182|         182|            1.0|         0.55|       -4.5|  0.0|   -0.5|     -1.06|         0.0|     null|                 -0.3|       -6.36|         3.0|      1.0|                null|dbfs:/FileStore/g...|  5.886674452774743|          209|\n|       2| 2017-03-22 08:34:11|  2017-03-22 08:38:09|                 N|       1.0|         182|         182|            1.0|         0.57|       -4.5|  0.0|   -0.5|     -1.32|         0.0|     null|                 -0.3|       -6.62|         3.0|      1.0|                null|dbfs:/FileStore/g...| 5.3573684305504585|          238|\n|       2| 2017-03-24 04:12:07|  2017-03-24 04:35:18|                 N|       1.0|          65|          71|            1.0|         6.37|       21.5|  0.5|    0.5|     158.8|         0.0|     null|                  0.3|       181.6|         1.0|      1.0|                null|dbfs:/FileStore/g...|  10.24391386080988|         1391|\n+--------+--------------------+---------------------+------------------+----------+------------+------------+---------------+-------------+-----------+-----+-------+----------+------------+---------+---------------------+------------+------------+---------+--------------------+--------------------+-------------------+-------------+\nonly showing top 20 rows\n\n"
     ]
    }
   ],
   "source": [
    "# Set the threshold for extreme tip amounts\n",
    "threshold = 150\n",
    "\n",
    "# Filter trips in the year 2017 with extreme tip amounts\n",
    "extreme_tip_trips = filter_extreme_tip_amounts(trips_2017, threshold)\n",
    "\n",
    "# Display the resulting DataFrame\n",
    "extreme_tip_trips.show()\n"
   ]
  },
  {
   "cell_type": "code",
   "execution_count": 0,
   "metadata": {
    "application/vnd.databricks.v1+cell": {
     "cellMetadata": {
      "byteLimit": 2048000,
      "rowLimit": 10000
     },
     "inputWidgets": {},
     "nuid": "4ff97f9e-19d6-4c8c-ab19-c51a11eb79d0",
     "showTitle": false,
     "title": ""
    }
   },
   "outputs": [
    {
     "output_type": "stream",
     "name": "stdout",
     "output_type": "stream",
     "text": [
      "+--------+--------------------+---------------------+------------------+----------+------------+------------+---------------+-------------+-----------+-----+-------+----------+------------+---------+---------------------+------------+------------+---------+--------------------+--------------------+--------------------+-------------+\n|VendorID|tpep_pickup_datetime|tpep_dropoff_datetime|store_and_fwd_flag|RatecodeID|PULocationID|DOLocationID|passenger_count|trip_distance|fare_amount|extra|mta_tax|tip_amount|tolls_amount|ehail_fee|improvement_surcharge|total_amount|payment_type|trip_type|congestion_surcharge|            filename|          trip_speed|trip_duration|\n+--------+--------------------+---------------------+------------------+----------+------------+------------+---------------+-------------+-----------+-----+-------+----------+------------+---------+---------------------+------------+------------+---------+--------------------+--------------------+--------------------+-------------+\n|       2| 2017-03-01 00:15:41|  2017-03-01 00:35:08|                 N|       1.0|          80|         164|            1.0|         5.07|       18.5|  0.5|    0.5|       0.0|         0.0|     null|                  0.3|        19.8|         2.0|      1.0|                null|dbfs:/FileStore/g...|   9.718309340801902|         1167|\n|       1| 2017-03-01 00:12:18|  2017-03-01 00:21:51|                 N|       1.0|          41|         116|            2.0|          2.6|       10.0|  0.5|    0.5|       2.0|         0.0|     null|                  0.3|        13.3|         1.0|      1.0|                null|dbfs:/FileStore/g...|   10.15014722398158|          573|\n|       1| 2017-03-01 00:43:39|  2017-03-01 00:49:08|                 N|       1.0|          41|          42|            2.0|          1.3|        6.5|  0.5|    0.5|       0.0|         0.0|     null|                  0.3|         7.8|         2.0|      1.0|                null|dbfs:/FileStore/g...|    8.83895799292013|          329|\n|       2| 2017-03-01 00:27:57|  2017-03-01 00:44:58|                 N|       1.0|          80|         162|            1.0|         5.95|       20.0|  0.5|    0.5|      5.32|         0.0|     null|                  0.3|       26.62|         1.0|      1.0|                null|dbfs:/FileStore/g...|  13.036014630483539|         1021|\n|       2| 2017-03-01 00:00:07|  2017-03-01 00:04:39|                 N|       1.0|          70|          70|            2.0|         1.15|        5.5|  0.5|    0.5|       0.0|         0.0|     null|                  0.3|         6.8|         2.0|      1.0|                null|dbfs:/FileStore/g...|   9.457635058318242|          272|\n|       2| 2017-03-01 00:17:05|  2017-03-01 00:36:48|                 N|       1.0|         196|         193|            1.0|         5.19|       18.5|  0.5|    0.5|       0.0|         0.0|     null|                  0.3|        19.8|         1.0|      1.0|                null|dbfs:/FileStore/g...|   9.813777984583556|         1183|\n|       2| 2017-03-01 00:32:01|  2017-03-01 00:34:56|                 N|       1.0|         255|         112|            1.0|         0.64|        4.5|  0.5|    0.5|      1.45|         0.0|     null|                  0.3|        7.25|         1.0|      1.0|                null|dbfs:/FileStore/g...|   8.180795582370385|          175|\n|       2| 2017-03-01 00:45:54|  2017-03-01 00:53:26|                 N|       1.0|         226|           7|            1.0|         1.37|        7.0|  0.5|    0.5|       0.0|         0.0|     null|                  0.3|         8.3|         2.0|      1.0|                null|dbfs:/FileStore/g...|   6.780094513527724|          452|\n|       2| 2017-03-01 00:05:27|  2017-03-01 00:17:52|                 N|       1.0|         166|         243|            1.0|         4.35|       14.5|  0.5|    0.5|      3.95|         0.0|     null|                  0.3|       19.75|         1.0|      1.0|                null|dbfs:/FileStore/g...|  13.061305866357918|          745|\n|       2| 2017-03-01 00:10:40|  2017-03-01 23:19:10|                 N|       1.0|         255|          80|            1.0|         1.12|        6.0|  0.5|    0.5|       0.0|         0.0|     null|                  0.3|         7.3|         1.0|      1.0|                null|dbfs:/FileStore/g...|0.030072844161576406|        83310|\n|       2| 2017-03-01 00:19:20|  2017-03-01 00:30:39|                 N|       1.0|          80|         195|            1.0|         6.11|       18.5|  0.5|    0.5|      3.96|         0.0|     null|                  0.3|       23.76|         1.0|      1.0|                null|dbfs:/FileStore/g...|  20.129132171505738|          679|\n|       2| 2017-03-01 00:38:55|  2017-03-01 00:51:00|                 N|       1.0|          40|         112|            1.0|         4.92|       16.0|  0.5|    0.5|      4.32|         0.0|     null|                  0.3|       21.62|         1.0|      1.0|                null|dbfs:/FileStore/g...|  15.180312492286426|          725|\n|       2| 2017-03-01 00:28:23|  2017-03-01 00:32:34|                 N|       1.0|         129|          56|            1.0|          0.9|        5.5|  0.5|    0.5|       0.0|         0.0|     null|                  0.3|         6.8|         2.0|      1.0|                null|dbfs:/FileStore/g...|   8.020887102983913|          251|\n|       2| 2017-03-01 00:36:53|  2017-03-01 00:48:09|                 N|       1.0|          82|          70|            1.0|         2.17|       10.0|  0.5|    0.5|       0.0|         0.0|     null|                  0.3|        11.3|         2.0|      1.0|                null|dbfs:/FileStore/g...|   7.180697860588836|          676|\n|       2| 2017-03-01 00:25:10|  2017-03-01 00:33:11|                 N|       1.0|          41|         238|            1.0|         1.85|        8.5|  0.5|    0.5|       1.0|         0.0|     null|                  0.3|        10.8|         1.0|      1.0|                null|dbfs:/FileStore/g...|   8.603601123286163|          481|\n|       1| 2017-03-01 00:29:48|  2017-03-01 00:52:24|                 N|       1.0|          80|         106|            2.0|          4.7|       19.5|  0.5|    0.5|       2.0|         0.0|     null|                  0.3|        22.8|         1.0|      1.0|                null|dbfs:/FileStore/g...|  7.7533927526959365|         1356|\n|       2| 2017-03-01 00:06:19|  2017-03-01 00:11:06|                 N|       1.0|         255|         112|            1.0|         1.55|        6.5|  0.5|    0.5|      1.56|         0.0|     null|                  0.3|        9.36|         1.0|      1.0|                null|dbfs:/FileStore/g...|  12.081014817715413|          287|\n|       2| 2017-03-01 00:23:09|  2017-03-01 00:26:04|                 N|       1.0|         255|         255|            1.0|         0.39|        4.0|  0.5|    0.5|      1.59|         0.0|     null|                  0.3|        6.89|         1.0|      1.0|                null|dbfs:/FileStore/g...|   4.985172308006954|          175|\n|       2| 2017-03-01 00:29:13|  2017-03-01 00:37:31|                 N|       1.0|         255|          54|            1.0|         4.64|       14.5|  0.5|    0.5|      3.95|         0.0|     null|                  0.3|       19.75|         1.0|      1.0|                null|dbfs:/FileStore/g...|  20.842137339623346|          498|\n|       2| 2017-03-01 00:54:31|  2017-03-01 00:55:58|                 N|       1.0|          75|          75|            1.0|         0.55|        3.5|  0.5|    0.5|      1.44|         0.0|     null|                  0.3|        6.24|         1.0|      1.0|                null|dbfs:/FileStore/g...|  14.141551271608291|           87|\n+--------+--------------------+---------------------+------------------+----------+------------+------------+---------------+-------------+-----------+-----+-------+----------+------------+---------+---------------------+------------+------------+---------+--------------------+--------------------+--------------------+-------------+\nonly showing top 20 rows\n\n"
     ]
    }
   ],
   "source": [
    "# Set the threshold for tip amounts\n",
    "threshold = 150\n",
    "\n",
    "# Filter trips in the year 2017 based on the tip amount threshold\n",
    "trips_2017 = filter_tip_amounts(trips_2017, threshold)\n",
    "\n",
    "# Display the resulting DataFrame\n",
    "trips_2017.show()\n"
   ]
  },
  {
   "cell_type": "code",
   "execution_count": 0,
   "metadata": {
    "application/vnd.databricks.v1+cell": {
     "cellMetadata": {
      "byteLimit": 2048000,
      "rowLimit": 10000
     },
     "inputWidgets": {},
     "nuid": "5362c0f2-586e-48b8-9393-1eda6df78c52",
     "showTitle": false,
     "title": ""
    }
   },
   "outputs": [],
   "source": [
    "# Define the output folder path\n",
    "output_folder = \"/CleanedData/green/\"\n",
    "\n",
    "# Define the output filename\n",
    "output_filename = output_folder + \"cleaned_2017.parquet\"\n",
    "\n",
    "# Write the trips_2017 DataFrame to a Parquet file with the specified filename\n",
    "trips_2017.write.parquet(output_filename, mode=\"overwrite\")\n"
   ]
  },
  {
   "cell_type": "code",
   "execution_count": 0,
   "metadata": {
    "application/vnd.databricks.v1+cell": {
     "cellMetadata": {
      "byteLimit": 2048000,
      "rowLimit": 10000
     },
     "inputWidgets": {},
     "nuid": "f00cb4cc-728e-453e-a658-02c3a9c32b19",
     "showTitle": false,
     "title": ""
    }
   },
   "outputs": [
    {
     "output_type": "stream",
     "name": "stdout",
     "output_type": "stream",
     "text": [
      "Missing values in column 'tpep_pickup_datetime': 0\nMissing values in column 'tpep_dropoff_datetime': 0\nMissing values in column 'trip_distance': 0\nMissing values in column 'fare_amount': 0\n+--------+--------------------+---------------------+------------------+----------+------------+------------+---------------+-------------+-----------+-----+-------+----------+------------+---------+---------------------+------------+------------+---------+--------------------+--------+----------+-------------+\n|VendorID|tpep_pickup_datetime|tpep_dropoff_datetime|store_and_fwd_flag|RatecodeID|PULocationID|DOLocationID|passenger_count|trip_distance|fare_amount|extra|mta_tax|tip_amount|tolls_amount|ehail_fee|improvement_surcharge|total_amount|payment_type|trip_type|congestion_surcharge|filename|trip_speed|trip_duration|\n+--------+--------------------+---------------------+------------------+----------+------------+------------+---------------+-------------+-----------+-----+-------+----------+------------+---------+---------------------+------------+------------+---------+--------------------+--------+----------+-------------+\n+--------+--------------------+---------------------+------------------+----------+------------+------------+---------------+-------------+-----------+-----+-------+----------+------------+---------+---------------------+------------+------------+---------+--------------------+--------+----------+-------------+\n\n"
     ]
    }
   ],
   "source": [
    "# Define the path to the Parquet file\n",
    "parquet_file_path = \"/CleanedData/green/cleaned_2017.parquet\"\n",
    "\n",
    "# Read the Parquet file into a DataFrame\n",
    "trips_2017 = spark.read.parquet(parquet_file_path)\n",
    "\n",
    "# Define a list of column names to check for missing values\n",
    "columns_to_check = [\"tpep_pickup_datetime\", \"tpep_dropoff_datetime\", \"trip_distance\", \"fare_amount\"]\n",
    "\n",
    "# Call a function to check for missing values in the specified columns\n",
    "check_missing_values(trips_2017, columns_to_check)\n",
    "\n",
    "# Call a function to filter rows with unexpected values in the 'store_and_fwd_flag' column\n",
    "filter_unexpected_store_and_fwd_flag(trips_2017)\n"
   ]
  },
  {
   "cell_type": "markdown",
   "metadata": {
    "application/vnd.databricks.v1+cell": {
     "cellMetadata": {
      "byteLimit": 2048000,
      "rowLimit": 10000
     },
     "inputWidgets": {},
     "nuid": "33a443da-a2ff-4545-868e-06ae41230001",
     "showTitle": false,
     "title": ""
    }
   },
   "source": [
    "Processing Year 2018"
   ]
  },
  {
   "cell_type": "code",
   "execution_count": 0,
   "metadata": {
    "application/vnd.databricks.v1+cell": {
     "cellMetadata": {
      "byteLimit": 2048000,
      "rowLimit": 10000
     },
     "inputWidgets": {},
     "nuid": "669fe3de-f27c-4991-87e0-b7e9d1643bee",
     "showTitle": false,
     "title": ""
    }
   },
   "outputs": [],
   "source": [
    "# Pseudocode for loading and cleaning taxi trip data for the year 2018\n",
    "\n",
    "# Specify the year for which data needs to be processed\n",
    "year = 2018\n",
    "\n",
    "# Call a function to filter and clean the data for the specified year\n",
    "trips_2018 = filter_and_clean_data(df_cleaned, year)\n"
   ]
  },
  {
   "cell_type": "code",
   "execution_count": 0,
   "metadata": {
    "application/vnd.databricks.v1+cell": {
     "cellMetadata": {
      "byteLimit": 2048000,
      "rowLimit": 10000
     },
     "inputWidgets": {},
     "nuid": "b3e9f194-0d1e-44df-b51d-fb6b118e0c13",
     "showTitle": false,
     "title": ""
    }
   },
   "outputs": [],
   "source": [
    "# Pseudocode for filtering and cleaning taxi trip data for the year 2018\n",
    "\n",
    "# Filter trips based on minimum distance and speed\n",
    "trips_2018 = filter_by_distance_and_speed(trips_2018, min_distance=0, min_speed=0)\n",
    "\n",
    "# Filter trips to find the highest allowable speed\n",
    "trips_2018 = filter_and_find_highest_speed(trips_2018, max_allowable_speed_kmph=40)\n",
    "\n",
    "# Filter trips by trip duration within a specified range\n",
    "trips_2018 = filter_by_trip_duration(trips_2018, min_duration=60, max_duration=86400)\n",
    "\n",
    "# Filter trips by trip distance within a specified range\n",
    "trips_2018 = filter_by_trip_distance(trips_2018, min_distance=0.1, max_distance=100)\n",
    "\n",
    "# Filter trips by passenger count within a specified range\n",
    "trips_2018 = filter_by_passenger_count(trips_2018, min_count=1, max_count=7)\n"
   ]
  },
  {
   "cell_type": "code",
   "execution_count": 0,
   "metadata": {
    "application/vnd.databricks.v1+cell": {
     "cellMetadata": {
      "byteLimit": 2048000,
      "rowLimit": 10000
     },
     "inputWidgets": {},
     "nuid": "a2f383c4-f20f-415f-8923-5175efbd1fde",
     "showTitle": false,
     "title": ""
    }
   },
   "outputs": [],
   "source": [
    "# Pseudocode for filtering trips with invalid rate codes for the year 2018\n",
    "\n",
    "# Define a list of valid rate codes\n",
    "valid_rate_codes = [1, 2, 3, 4, 5, 6]\n",
    "\n",
    "# Filter trips to keep only those with valid rate codes\n",
    "invalid_rate_code_trips = filter_by_invalid_rate_codes(trips_2018, valid_rate_codes)\n",
    "\n",
    "# Display the resulting DataFrame\n",
    "invalid_rate_code_trips.show()\n"
   ]
  },
  {
   "cell_type": "code",
   "execution_count": 0,
   "metadata": {
    "application/vnd.databricks.v1+cell": {
     "cellMetadata": {
      "byteLimit": 2048000,
      "rowLimit": 10000
     },
     "inputWidgets": {},
     "nuid": "63f1df4b-a07b-4cab-9ac5-71536c0b5c56",
     "showTitle": false,
     "title": ""
    }
   },
   "outputs": [],
   "source": [
    "# Define a list of valid rate codes\n",
    "valid_rate_codes = [1, 2, 3, 4, 5, 6]\n",
    "\n",
    "# Call the function to filter trips by valid rate codes\n",
    "trips_2018 = filter_by_valid_rate_codes(trips_2018, valid_rate_codes)\n"
   ]
  },
  {
   "cell_type": "code",
   "execution_count": 0,
   "metadata": {
    "application/vnd.databricks.v1+cell": {
     "cellMetadata": {
      "byteLimit": 2048000,
      "rowLimit": 10000
     },
     "inputWidgets": {},
     "nuid": "7afedf2c-0d94-47d4-a008-45d17efa4587",
     "showTitle": false,
     "title": ""
    }
   },
   "outputs": [
    {
     "output_type": "stream",
     "name": "stdout",
     "output_type": "stream",
     "text": [
      "+--------+--------------------+---------------------+------------------+----------+------------+------------+---------------+-------------+-----------+-----+-------+----------+------------+---------+---------------------+------------+------------+---------+--------------------+--------------------+------------------+-------------+\n|VendorID|tpep_pickup_datetime|tpep_dropoff_datetime|store_and_fwd_flag|RatecodeID|PULocationID|DOLocationID|passenger_count|trip_distance|fare_amount|extra|mta_tax|tip_amount|tolls_amount|ehail_fee|improvement_surcharge|total_amount|payment_type|trip_type|congestion_surcharge|            filename|        trip_speed|trip_duration|\n+--------+--------------------+---------------------+------------------+----------+------------+------------+---------------+-------------+-----------+-----+-------+----------+------------+---------+---------------------+------------+------------+---------+--------------------+--------------------+------------------+-------------+\n|       2| 2018-03-02 21:25:59|  2018-03-02 21:30:17|                 N|       1.0|         226|         226|            2.0|         0.45|       -4.5| -0.5|   -0.5|      -1.0|         0.0|     null|                 -0.3|        -6.8|         3.0|      1.0|                null|dbfs:/FileStore/g...|3.9016330675367477|          258|\n|       2| 2018-03-08 22:09:29|  2018-03-08 22:11:52|                 N|       1.0|         223|         223|            6.0|          0.5|       -4.0| -0.5|   -0.5|     -1.06|         0.0|     null|                 -0.3|       -6.36|         3.0|      1.0|                null|dbfs:/FileStore/g...| 7.821455566623783|          143|\n|       2| 2018-03-14 20:59:04|  2018-03-14 21:02:30|                 N|       1.0|          74|          74|            1.0|         0.55|       -4.5| -0.5|   -0.5|      -1.0|         0.0|     null|                 -0.3|        -6.8|         4.0|      1.0|                null|dbfs:/FileStore/g...| 5.972402721504473|          206|\n|       2| 2018-03-21 21:52:07|  2018-03-21 21:58:19|                 N|       1.0|          82|         129|            2.0|         0.85|       -6.0| -0.5|   -0.5|     -2.19|         0.0|     null|                 -0.3|       -9.49|         3.0|      1.0|                null|dbfs:/FileStore/g...| 5.111279161952264|          372|\n|       2| 2018-03-24 10:51:27|  2018-03-24 11:06:11|                 N|       1.0|         129|         173|            4.0|         0.89|        8.5|  0.0|    0.5|    155.55|         0.0|     null|                  0.3|      164.85|         1.0|      1.0|                null|dbfs:/FileStore/g...| 2.252119117566084|          884|\n|       2| 2018-03-29 09:28:09|  2018-03-29 10:04:52|                 N|       1.0|          33|         226|            2.0|         6.44|       27.0|  0.0|    0.5|     155.0|         0.0|     null|                  0.3|       182.8|         1.0|      1.0|                null|dbfs:/FileStore/g...|  6.53920550196566|         2203|\n|       2| 2018-05-03 16:17:52|  2018-05-03 16:23:46|                 N|       1.0|         130|         215|            1.0|         0.65|       -5.5| -1.0|   -0.5|     -1.82|         0.0|     null|                 -0.3|       -9.12|         4.0|      1.0|                null|dbfs:/FileStore/g...| 4.107368897840004|          354|\n|       2| 2018-05-03 21:02:03|  2018-05-03 21:05:28|                 N|       1.0|          41|          42|            1.0|         0.51|       -4.0| -0.5|   -0.5|     -1.06|         0.0|     null|                 -0.3|       -6.36|         3.0|      1.0|                null|dbfs:/FileStore/g...| 5.565061019257294|          205|\n|       2| 2018-05-06 03:30:11|  2018-05-06 03:45:41|                 N|       1.0|          80|         134|            2.0|         8.14|       23.5|  0.5|    0.5|     151.5|         0.0|     null|                  0.3|       176.3|         1.0|      1.0|                null|dbfs:/FileStore/g...|19.579205825078315|          930|\n|       2| 2018-05-07 16:48:11|  2018-05-07 16:55:01|                 N|       1.0|         197|         134|            1.0|         1.68|        7.5|  1.0|    0.5|     450.0|         0.0|     null|                  0.3|       459.3|         1.0|      1.0|                null|dbfs:/FileStore/g...| 9.165982855247307|          410|\n|       2| 2018-05-14 23:31:30|  2018-05-14 23:43:05|                 N|       1.0|         130|         139|            1.0|         6.65|       19.5|  0.5|    0.5|     300.0|         0.0|     null|                  0.3|       320.8|         1.0|      1.0|                null|dbfs:/FileStore/g...|21.403778909585284|          695|\n|       2| 2018-05-16 09:44:16|  2018-05-16 09:47:03|                 N|       1.0|          42|          42|            1.0|          0.4|       -4.0|  0.0|   -0.5|     -0.96|         0.0|     null|                 -0.3|       -5.76|         3.0|      1.0|                null|dbfs:/FileStore/g...| 5.357931238453658|          167|\n|       2| 2018-05-25 14:30:34|  2018-05-25 15:08:07|                 N|       2.0|          33|         170|            1.0|         6.21|       52.0|  0.0|    0.5|     200.0|         0.0|     null|                  0.3|       252.8|         1.0|      1.0|                null|dbfs:/FileStore/g...|6.1657232018010815|         2253|\n|       2| 2018-05-31 11:54:27|  2018-05-31 12:00:34|                 N|       1.0|          82|         129|            1.0|         0.92|        6.0|  0.0|    0.5|    188.01|         0.0|     null|                  0.3|      194.81|         1.0|      1.0|                null|dbfs:/FileStore/g...| 5.607578715776703|          367|\n|       2| 2018-04-21 08:48:18|  2018-04-21 09:01:14|                 N|       1.0|         129|         226|            1.0|         2.69|       11.5|  0.0|    0.5|    220.15|         0.0|     null|                  0.3|      232.45|         1.0|      1.0|                null|dbfs:/FileStore/g...| 7.754328125807142|          776|\n|       2| 2018-04-28 03:01:48|  2018-04-28 03:08:57|                 N|       1.0|         129|          70|            1.0|         0.99|       -6.5| -0.5|   -0.5|    -100.0|         0.0|     null|                 -0.3|      -107.8|         4.0|      1.0|                null|dbfs:/FileStore/g...| 5.162160673971696|          429|\n|       2| 2018-01-05 18:11:59|  2018-01-05 18:16:24|                 N|       1.0|         166|          41|            1.0|         0.73|       -5.0| -1.0|   -0.5|     -1.36|         0.0|     null|                 -0.3|      -13.11|         3.0|      1.0|                null|dbfs:/FileStore/g...|  6.16212638943288|          265|\n|       2| 2018-01-11 06:48:03|  2018-01-11 06:49:08|                 N|       1.0|         145|         145|            1.0|         0.21|       -3.0|  0.0|   -0.5|     -0.76|         0.0|     null|                 -0.3|       -6.51|         3.0|      1.0|                null|dbfs:/FileStore/g...| 7.227024943560376|           65|\n|       2| 2018-01-19 07:27:48|  2018-01-19 07:32:05|                 N|       1.0|          52|          52|            1.0|         0.13|       -4.5|  0.0|   -0.5|      -0.8|         0.0|     null|                 -0.3|        -6.1|         3.0|      1.0|                null|dbfs:/FileStore/g...|1.1315241944244057|          257|\n|       2| 2018-01-22 04:36:27|  2018-01-22 04:45:29|                 N|       1.0|         129|          82|            5.0|         1.25|        7.5|  0.5|    0.5|    252.22|         0.0|     null|                  0.3|      261.02|         1.0|      1.0|                null|dbfs:/FileStore/g...|   5.1589859134096|          542|\n+--------+--------------------+---------------------+------------------+----------+------------+------------+---------------+-------------+-----------+-----+-------+----------+------------+---------+---------------------+------------+------------+---------+--------------------+--------------------+------------------+-------------+\nonly showing top 20 rows\n\n"
     ]
    }
   ],
   "source": [
    "# Define the threshold for extreme tip amounts\n",
    "threshold = 150\n",
    "\n",
    "# Call the function to filter trips by extreme tip amounts\n",
    "extreme_tip_trips = filter_extreme_tip_amounts(trips_2018, threshold)\n",
    "\n",
    "# Display the resulting DataFrame\n",
    "extreme_tip_trips.show()\n"
   ]
  },
  {
   "cell_type": "code",
   "execution_count": 0,
   "metadata": {
    "application/vnd.databricks.v1+cell": {
     "cellMetadata": {
      "byteLimit": 2048000,
      "rowLimit": 10000
     },
     "inputWidgets": {},
     "nuid": "5a1ea337-d2f0-440f-a8a0-7a75a8ee84d9",
     "showTitle": false,
     "title": ""
    }
   },
   "outputs": [
    {
     "output_type": "stream",
     "name": "stdout",
     "output_type": "stream",
     "text": [
      "+--------+--------------------+---------------------+------------------+----------+------------+------------+---------------+-------------+-----------+-----+-------+----------+------------+---------+---------------------+------------+------------+---------+--------------------+--------------------+------------------+-------------+\n|VendorID|tpep_pickup_datetime|tpep_dropoff_datetime|store_and_fwd_flag|RatecodeID|PULocationID|DOLocationID|passenger_count|trip_distance|fare_amount|extra|mta_tax|tip_amount|tolls_amount|ehail_fee|improvement_surcharge|total_amount|payment_type|trip_type|congestion_surcharge|            filename|        trip_speed|trip_duration|\n+--------+--------------------+---------------------+------------------+----------+------------+------------+---------------+-------------+-----------+-----+-------+----------+------------+---------+---------------------+------------+------------+---------+--------------------+--------------------+------------------+-------------+\n|       2| 2018-03-01 00:07:46|  2018-03-01 00:22:02|                 N|       1.0|          77|          91|            1.0|         2.92|       12.0|  0.5|    0.5|       0.0|         0.0|     null|                  0.3|        13.3|         1.0|      1.0|                null|dbfs:/FileStore/g...| 7.630670528970623|          856|\n|       1| 2018-03-01 00:31:29|  2018-03-01 00:56:08|                 N|       1.0|         127|         226|            2.0|         12.0|       35.5|  0.5|    0.5|       8.5|        5.76|     null|                  0.3|       51.06|         1.0|      1.0|                null|dbfs:/FileStore/g...|18.149584519711173|         1479|\n|       2| 2018-03-01 00:12:00|  2018-03-01 00:28:24|                 N|       1.0|         256|         181|            5.0|         4.72|        0.0|  0.0|    0.0|       0.0|         0.0|     null|                  0.0|         0.0|         2.0|      1.0|                null|dbfs:/FileStore/g...|10.730019612293471|          984|\n|       2| 2018-03-01 00:43:57|  2018-03-01 00:58:38|                 N|       1.0|          65|          62|            5.0|         3.93|       14.0|  0.5|    0.5|      3.06|         0.0|     null|                  0.3|       18.36|         1.0|      1.0|                null|dbfs:/FileStore/g...| 9.978614787484451|          881|\n|       2| 2018-03-01 00:08:00|  2018-03-01 00:12:55|                 N|       1.0|         255|         112|            1.0|         1.39|        6.0|  0.5|    0.5|       0.0|         0.0|     null|                  0.3|         7.3|         1.0|      1.0|                null|dbfs:/FileStore/g...| 10.54014049476481|          295|\n|       2| 2018-03-01 00:20:09|  2018-03-01 00:40:32|                 N|       1.0|         112|         181|            1.0|         7.13|       23.0|  0.5|    0.5|       0.0|         0.0|     null|                  0.3|        24.3|         1.0|      1.0|                null|dbfs:/FileStore/g...|13.041173967577993|         1223|\n|       2| 2018-03-01 00:54:07|  2018-03-01 00:59:25|                 N|       1.0|          40|          54|            1.0|         0.87|        5.5|  0.5|    0.5|       0.0|         0.0|     null|                  0.3|         6.8|         2.0|      1.0|                null|dbfs:/FileStore/g...| 6.119920044299779|          318|\n|       1| 2018-03-01 00:22:21|  2018-03-01 00:26:18|                 N|       1.0|         255|         112|            1.0|          1.1|        5.5|  0.5|    0.5|       0.0|         0.0|     null|                  0.3|         6.8|         2.0|      1.0|                null|dbfs:/FileStore/g...|10.382404731054189|          237|\n|       1| 2018-03-01 00:01:16|  2018-03-01 00:22:11|                 N|       1.0|         112|         225|            1.0|          3.3|       15.5|  0.5|    0.5|       2.0|         0.0|     null|                  0.3|        18.8|         1.0|      1.0|                null|dbfs:/FileStore/g...| 5.881983875521536|         1255|\n|       2| 2018-03-01 00:22:06|  2018-03-01 00:27:08|                 N|       1.0|         255|         112|            1.0|         1.07|        6.0|  0.5|    0.5|      1.46|         0.0|     null|                  0.3|        8.76|         1.0|      1.0|                null|dbfs:/FileStore/g...|7.9255689817821535|          302|\n|       2| 2018-03-01 00:51:52|  2018-03-01 00:55:22|                 N|       1.0|         255|         112|            1.0|         1.02|        5.0|  0.5|    0.5|      1.26|         0.0|     null|                  0.3|        7.56|         1.0|      1.0|                null|dbfs:/FileStore/g...| 10.86511913283567|          210|\n|       2| 2018-03-01 00:56:12|  2018-03-01 01:01:33|                 N|       1.0|         112|          80|            1.0|         0.99|        6.0|  0.5|    0.5|      1.82|         0.0|     null|                  0.3|        9.12|         1.0|      1.0|                null|dbfs:/FileStore/g...| 6.898962396055633|          321|\n|       2| 2018-03-01 00:10:18|  2018-03-01 00:15:12|                 N|       1.0|          49|         189|            1.0|         1.16|        6.0|  0.5|    0.5|      1.82|         0.0|     null|                  0.3|        9.12|         1.0|      1.0|                null|dbfs:/FileStore/g...| 8.826007138718047|          294|\n|       1| 2018-03-01 00:27:24|  2018-03-01 00:41:56|                 N|       5.0|          78|          18|            1.0|          3.3|        0.0|  0.0|    0.0|       0.0|         0.0|     null|                  0.0|         0.0|         2.0|      2.0|                null|dbfs:/FileStore/g...|   8.4654699125912|          872|\n|       2| 2018-03-01 00:12:58|  2018-03-01 00:34:46|                 N|       1.0|          49|          72|            6.0|          4.5|       18.0|  0.5|    0.5|       0.0|         0.0|     null|                  0.3|        19.3|         2.0|      1.0|                null|dbfs:/FileStore/g...| 7.695881738719274|         1308|\n|       2| 2018-03-01 00:00:14|  2018-03-01 00:09:39|                 N|       1.0|         181|          61|            1.0|         3.03|       10.5|  0.5|    0.5|       0.0|         0.0|     null|                  0.3|        11.8|         2.0|      1.0|                null|dbfs:/FileStore/g...| 11.99631321225635|          565|\n|       2| 2018-03-01 00:20:14|  2018-03-01 00:29:52|                 N|       1.0|          61|          33|            1.0|         2.87|       10.5|  0.5|    0.5|       0.0|         0.0|     null|                  0.3|        11.8|         2.0|      1.0|                null|dbfs:/FileStore/g...|11.107278820408537|          578|\n|       2| 2018-03-01 00:05:33|  2018-03-01 00:28:27|                 N|       1.0|         181|         145|            1.0|         7.05|       24.5|  0.5|    0.5|      5.16|         0.0|     null|                  0.3|       30.96|         1.0|      1.0|                null|dbfs:/FileStore/g...| 11.47772988281189|         1374|\n|       1| 2018-03-01 00:28:31|  2018-03-01 00:35:28|                 N|       1.0|          25|         106|            1.0|          1.3|        7.0|  0.5|    0.5|      1.65|         0.0|     null|                  0.3|        9.95|         1.0|      1.0|                null|dbfs:/FileStore/g...| 6.973662301368639|          417|\n|       1| 2018-03-01 00:09:08|  2018-03-01 00:16:05|                 N|       1.0|         130|         215|            1.0|          2.1|        8.5|  0.5|    0.5|       1.0|         0.0|     null|                  0.3|        10.8|         1.0|      1.0|                null|dbfs:/FileStore/g...|11.265146794518573|          417|\n+--------+--------------------+---------------------+------------------+----------+------------+------------+---------------+-------------+-----------+-----+-------+----------+------------+---------+---------------------+------------+------------+---------+--------------------+--------------------+------------------+-------------+\nonly showing top 20 rows\n\n"
     ]
    }
   ],
   "source": [
    "# Define the threshold for tip amounts\n",
    "threshold = 150\n",
    "\n",
    "# Call the function to filter trips by tip amounts\n",
    "trips_2018 = filter_tip_amounts(trips_2018, threshold)\n",
    "\n",
    "# Display the resulting DataFrame\n",
    "trips_2018.show()\n"
   ]
  },
  {
   "cell_type": "code",
   "execution_count": 0,
   "metadata": {
    "application/vnd.databricks.v1+cell": {
     "cellMetadata": {
      "byteLimit": 2048000,
      "rowLimit": 10000
     },
     "inputWidgets": {},
     "nuid": "e8067e2d-3f3f-4227-bd5e-c14fea1aed8b",
     "showTitle": false,
     "title": ""
    }
   },
   "outputs": [],
   "source": [
    "# Save the DataFrame as a Parquet file with the specified filename\n",
    "output_folder = \"/CleanedData/green/\"\n",
    "\n",
    "output_filename = output_folder + \"cleaned_2018.parquet\"\n",
    "trips_2018.write.parquet(output_filename, mode=\"overwrite\")"
   ]
  },
  {
   "cell_type": "code",
   "execution_count": 0,
   "metadata": {
    "application/vnd.databricks.v1+cell": {
     "cellMetadata": {
      "byteLimit": 2048000,
      "rowLimit": 10000
     },
     "inputWidgets": {},
     "nuid": "e3d702bc-9039-4098-bbbd-3a34a7e4f4fd",
     "showTitle": false,
     "title": ""
    }
   },
   "outputs": [
    {
     "output_type": "stream",
     "name": "stdout",
     "output_type": "stream",
     "text": [
      "Missing values in column 'tpep_pickup_datetime': 0\nMissing values in column 'tpep_dropoff_datetime': 0\nMissing values in column 'trip_distance': 0\nMissing values in column 'fare_amount': 0\n+--------+--------------------+---------------------+------------------+----------+------------+------------+---------------+-------------+-----------+-----+-------+----------+------------+---------+---------------------+------------+------------+---------+--------------------+--------+----------+-------------+\n|VendorID|tpep_pickup_datetime|tpep_dropoff_datetime|store_and_fwd_flag|RatecodeID|PULocationID|DOLocationID|passenger_count|trip_distance|fare_amount|extra|mta_tax|tip_amount|tolls_amount|ehail_fee|improvement_surcharge|total_amount|payment_type|trip_type|congestion_surcharge|filename|trip_speed|trip_duration|\n+--------+--------------------+---------------------+------------------+----------+------------+------------+---------------+-------------+-----------+-----+-------+----------+------------+---------+---------------------+------------+------------+---------+--------------------+--------+----------+-------------+\n+--------+--------------------+---------------------+------------------+----------+------------+------------+---------------+-------------+-----------+-----+-------+----------+------------+---------+---------------------+------------+------------+---------+--------------------+--------+----------+-------------+\n\n"
     ]
    }
   ],
   "source": [
    "# Read the Parquet file into a DataFrame\n",
    "trips_2018 = spark.read.parquet(\"/CleanedData/green/cleaned_2018.parquet\")\n",
    "\n",
    "# Define a list of columns to check for missing values\n",
    "columns_to_check = [\"tpep_pickup_datetime\", \"tpep_dropoff_datetime\", \"trip_distance\", \"fare_amount\"]\n",
    "\n",
    "# Call a function to check for missing values in the specified columns\n",
    "check_missing_values(trips_2018, columns_to_check)\n",
    "\n",
    "# Call a function to filter rows with unexpected values in the 'store_and_fwd_flag' column\n",
    "filter_unexpected_store_and_fwd_flag(trips_2018)\n"
   ]
  },
  {
   "cell_type": "markdown",
   "metadata": {
    "application/vnd.databricks.v1+cell": {
     "cellMetadata": {
      "byteLimit": 2048000,
      "rowLimit": 10000
     },
     "inputWidgets": {},
     "nuid": "21a11eec-47ad-4b0b-8485-354aaa49a3f0",
     "showTitle": false,
     "title": ""
    }
   },
   "source": [
    "Processing Year 2019"
   ]
  },
  {
   "cell_type": "code",
   "execution_count": 0,
   "metadata": {
    "application/vnd.databricks.v1+cell": {
     "cellMetadata": {
      "byteLimit": 2048000,
      "rowLimit": 10000
     },
     "inputWidgets": {},
     "nuid": "0adf6ae9-b10f-471f-b323-4508dbf0866d",
     "showTitle": false,
     "title": ""
    }
   },
   "outputs": [],
   "source": [
    "# Filter and clean data for the year 2019\n",
    "year = 2019\n",
    "trips_2019 = filter_and_clean_data(df_cleaned, year)\n"
   ]
  },
  {
   "cell_type": "code",
   "execution_count": 0,
   "metadata": {
    "application/vnd.databricks.v1+cell": {
     "cellMetadata": {
      "byteLimit": 2048000,
      "rowLimit": 10000
     },
     "inputWidgets": {},
     "nuid": "0029c856-82b7-49a0-b0e2-736d72a70185",
     "showTitle": false,
     "title": ""
    }
   },
   "outputs": [],
   "source": [
    "# Filter and clean trips data for the year 2019\n",
    "year = 2019\n",
    "trips_2019 = filter_and_clean_data(df_cleaned, year)\n",
    "\n",
    "# Filter trips by distance and speed\n",
    "trips_2019 = filter_by_distance_and_speed(trips_2019, min_distance=0, min_speed=0)\n",
    "\n",
    "# Filter trips by finding the highest allowable speed\n",
    "trips_2019 = filter_and_find_highest_speed(trips_2019, max_allowable_speed_kmph=40)\n",
    "\n",
    "# Filter trips by trip duration\n",
    "trips_2019 = filter_by_trip_duration(trips_2019, min_duration=60, max_duration=86400)\n",
    "\n",
    "# Filter trips by trip distance\n",
    "trips_2019 = filter_by_trip_distance(trips_2019, min_distance=0.1, max_distance=100)\n",
    "\n",
    "# Filter trips by passenger count\n",
    "trips_2019 = filter_by_passenger_count(trips_2019, min_count=1, max_count=7)\n"
   ]
  },
  {
   "cell_type": "code",
   "execution_count": 0,
   "metadata": {
    "application/vnd.databricks.v1+cell": {
     "cellMetadata": {
      "byteLimit": 2048000,
      "rowLimit": 10000
     },
     "inputWidgets": {},
     "nuid": "6153f9ad-7cab-4996-9f30-8dcb30ec2ee0",
     "showTitle": false,
     "title": ""
    }
   },
   "outputs": [],
   "source": [
    "# Define the list of valid rate codes\n",
    "valid_rate_codes = [1, 2, 3, 4, 5, 6]\n",
    "\n",
    "# Filter trips by invalid rate codes\n",
    "invalid_rate_code_trips = filter_by_invalid_rate_codes(trips_2019, valid_rate_codes)\n",
    "\n",
    "# Display the DataFrame with invalid rate code trips\n",
    "invalid_rate_code_trips.show()\n"
   ]
  },
  {
   "cell_type": "code",
   "execution_count": 0,
   "metadata": {
    "application/vnd.databricks.v1+cell": {
     "cellMetadata": {
      "byteLimit": 2048000,
      "rowLimit": 10000
     },
     "inputWidgets": {},
     "nuid": "c366ca9f-2749-47a0-8b81-2a64920f9e15",
     "showTitle": false,
     "title": ""
    }
   },
   "outputs": [],
   "source": [
    "# Define a list of valid rate codes\n",
    "valid_rate_codes = [1, 2, 3, 4, 5, 6]\n",
    "\n",
    "# Filter trips_2019 DataFrame to keep rows with rate codes in the valid_rate_codes list\n",
    "trips_2019 = filter_by_valid_rate_codes(trips_2019, valid_rate_codes)\n"
   ]
  },
  {
   "cell_type": "code",
   "execution_count": 0,
   "metadata": {
    "application/vnd.databricks.v1+cell": {
     "cellMetadata": {
      "byteLimit": 2048000,
      "rowLimit": 10000
     },
     "inputWidgets": {},
     "nuid": "a96e1b82-34f5-4826-a181-a4eb7eb50973",
     "showTitle": false,
     "title": ""
    }
   },
   "outputs": [],
   "source": [
    "# Set the threshold value for extreme tip amounts\n",
    "threshold = 150\n",
    "\n",
    "# Filter trips_2019 DataFrame to keep rows where tip amount is greater than or equal to the threshold\n",
    "extreme_tip_trips = filter_extreme_tip_amounts(trips_2019, threshold)\n",
    "\n",
    "# Display the resulting DataFrame\n",
    "extreme_tip_trips.show()\n"
   ]
  },
  {
   "cell_type": "code",
   "execution_count": 0,
   "metadata": {
    "application/vnd.databricks.v1+cell": {
     "cellMetadata": {
      "byteLimit": 2048000,
      "rowLimit": 10000
     },
     "inputWidgets": {},
     "nuid": "74e34501-6da5-42d1-b72e-5119063b51bc",
     "showTitle": false,
     "title": ""
    }
   },
   "outputs": [
    {
     "output_type": "stream",
     "name": "stdout",
     "output_type": "stream",
     "text": [
      "+--------+--------------------+---------------------+------------------+----------+------------+------------+---------------+-------------+-----------+-----+-------+----------+------------+---------+---------------------+------------+------------+---------+--------------------+--------------------+------------------+-------------+\n|VendorID|tpep_pickup_datetime|tpep_dropoff_datetime|store_and_fwd_flag|RatecodeID|PULocationID|DOLocationID|passenger_count|trip_distance|fare_amount|extra|mta_tax|tip_amount|tolls_amount|ehail_fee|improvement_surcharge|total_amount|payment_type|trip_type|congestion_surcharge|            filename|        trip_speed|trip_duration|\n+--------+--------------------+---------------------+------------------+----------+------------+------------+---------------+-------------+-----------+-----+-------+----------+------------+---------+---------------------+------------+------------+---------+--------------------+--------------------+------------------+-------------+\n|       2| 2019-01-01 00:10:16|  2019-01-01 00:16:32|                 N|       1.0|          97|          49|            2.0|         0.86|        6.0|  0.5|    0.5|       0.0|         0.0|     null|                  0.3|         7.3|         2.0|      1.0|                null|dbfs:/FileStore/g...| 5.116396838209537|          376|\n|       2| 2019-01-01 00:27:11|  2019-01-01 00:31:38|                 N|       1.0|          49|         189|            2.0|         0.66|        4.5|  0.5|    0.5|       0.0|         0.0|     null|                  0.3|         5.8|         1.0|      1.0|                null|dbfs:/FileStore/g...| 5.529505441033354|          267|\n|       2| 2019-01-01 00:46:20|  2019-01-01 01:04:54|                 N|       1.0|         189|          17|            2.0|         2.68|       13.5|  0.5|    0.5|      2.96|         0.0|     null|                  0.3|       19.71|         1.0|      1.0|                null|dbfs:/FileStore/g...| 5.381498440489944|         1114|\n|       2| 2019-01-01 00:19:06|  2019-01-01 00:39:43|                 N|       1.0|          82|         258|            1.0|         4.53|       18.0|  0.5|    0.5|       0.0|         0.0|     null|                  0.3|        19.3|         2.0|      1.0|                null|dbfs:/FileStore/g...|  8.19185238723237|         1237|\n|       2| 2019-01-01 00:12:35|  2019-01-01 00:19:09|                 N|       1.0|          49|          17|            1.0|         1.05|        6.5|  0.5|    0.5|       0.0|         0.0|     null|                  0.3|         7.8|         1.0|      1.0|                null|dbfs:/FileStore/g...| 5.961378443292189|          394|\n|       2| 2019-01-01 00:47:55|  2019-01-01 01:00:01|                 N|       1.0|         255|          33|            1.0|         3.77|       13.5|  0.5|    0.5|       0.0|         0.0|     null|                  0.3|        14.8|         1.0|      1.0|                null|dbfs:/FileStore/g...|11.616046585461564|          726|\n|       1| 2019-01-01 00:12:47|  2019-01-01 00:30:50|                 N|       1.0|          76|         225|            1.0|          4.1|       16.0|  0.5|    0.5|       0.0|         0.0|     null|                  0.3|        17.3|         1.0|      1.0|                null|dbfs:/FileStore/g...| 8.468549212763664|         1083|\n|       2| 2019-01-01 00:16:23|  2019-01-01 00:39:46|                 N|       1.0|          25|          89|            1.0|         7.75|       25.5|  0.5|    0.5|       0.0|         0.0|     null|                  0.3|        26.8|         1.0|      1.0|                null|dbfs:/FileStore/g...|12.356561841355393|         1403|\n|       2| 2019-01-01 00:58:02|  2019-01-01 01:19:02|                 N|       1.0|          85|          39|            1.0|         3.68|       15.5|  0.5|    0.5|       0.0|         0.0|     null|                  0.3|        16.8|         1.0|      1.0|                null|dbfs:/FileStore/g...| 6.533274249809683|         1260|\n|       2| 2019-01-01 00:37:00|  2019-01-01 00:56:42|                 N|       1.0|         223|         238|            1.0|         6.84|       22.0|  0.5|    0.5|       8.0|        5.76|     null|                  0.3|       37.06|         1.0|      1.0|                null|dbfs:/FileStore/g...|12.944707476863037|         1182|\n|       2| 2019-01-01 00:13:48|  2019-01-01 00:21:00|                 N|       1.0|         129|         129|            2.0|         1.15|        6.5|  0.5|    0.5|      1.56|         0.0|     null|                  0.3|        9.36|         1.0|      1.0|                null|dbfs:/FileStore/g...| 5.954807258941117|          432|\n|       2| 2019-01-01 00:19:59|  2019-01-01 00:45:50|                 N|       1.0|          71|          71|            1.0|         0.49|       15.5|  0.5|    0.5|       0.0|         0.0|     null|                  0.3|        16.8|         1.0|      1.0|                null|dbfs:/FileStore/g...|0.7067045667999079|         1551|\n|       2| 2019-01-01 00:57:57|  2019-01-01 01:20:10|                 N|       1.0|          85|         177|            1.0|         3.61|       17.0|  0.5|    0.5|       0.0|         0.0|     null|                  0.3|        18.3|         1.0|      1.0|                null|dbfs:/FileStore/g...| 6.058019515616198|         1333|\n|       1| 2019-01-01 00:09:02|  2019-01-01 00:17:50|                 N|       1.0|         256|          80|            1.0|          1.2|        7.5|  0.5|    0.5|       5.2|         0.0|     null|                  0.3|        14.0|         1.0|      1.0|                null|dbfs:/FileStore/g...|  5.08394611830546|          528|\n|       1| 2019-01-01 00:22:12|  2019-01-01 00:25:29|                 N|       1.0|          80|          80|            1.0|          0.5|        4.0|  0.5|    0.5|       0.0|         0.0|     null|                  0.3|         5.3|         2.0|      1.0|                null|dbfs:/FileStore/g...| 5.677503279325894|          197|\n|       1| 2019-01-01 00:31:55|  2019-01-01 00:52:59|                 N|       1.0|         256|         229|            1.0|          5.5|       19.5|  0.5|    0.5|      4.15|         0.0|     null|                  0.3|       24.95|         1.0|      1.0|                null|dbfs:/FileStore/g...|   9.7335044353633|         1264|\n|       2| 2019-01-01 00:30:20|  2019-01-01 00:54:19|                 N|       1.0|         255|         231|            1.0|         5.01|       20.0|  0.5|    0.5|      4.26|         0.0|     null|                  0.3|       25.56|         1.0|      1.0|                null|dbfs:/FileStore/g...| 7.788082573448613|         1439|\n|       2| 2018-12-31 23:58:06|  2019-01-01 00:00:57|                 N|       1.0|         146|           7|            1.0|         0.43|        4.0|  0.5|    0.5|      1.06|         0.0|     null|                  0.3|        6.36|         1.0|      1.0|                null|dbfs:/FileStore/g...| 5.625044477095865|          171|\n|       2| 2019-01-01 00:40:17|  2019-01-01 00:50:23|                 N|       1.0|         146|         129|            1.0|         2.72|       10.5|  0.5|    0.5|      2.36|         0.0|     null|                  0.3|       14.16|         1.0|      1.0|                null|dbfs:/FileStore/g...|10.040374116151773|          606|\n|       2| 2019-01-01 00:51:16|  2019-01-01 01:04:10|                 N|       1.0|         129|         157|            1.0|         2.15|       10.5|  0.5|    0.5|      2.95|         0.0|     null|                  0.3|       14.75|         1.0|      1.0|                null|dbfs:/FileStore/g...| 6.213711922373339|          774|\n+--------+--------------------+---------------------+------------------+----------+------------+------------+---------------+-------------+-----------+-----+-------+----------+------------+---------+---------------------+------------+------------+---------+--------------------+--------------------+------------------+-------------+\nonly showing top 20 rows\n\n"
     ]
    }
   ],
   "source": [
    "# Set the threshold value for tip amounts\n",
    "threshold = 150\n",
    "\n",
    "# Filter trips_2019 DataFrame to keep rows where tip amount is greater than or equal to the threshold\n",
    "trips_2019 = filter_tip_amounts(trips_2019, threshold)\n",
    "\n",
    "# Display the resulting DataFrame\n",
    "trips_2019.show()\n"
   ]
  },
  {
   "cell_type": "code",
   "execution_count": 0,
   "metadata": {
    "application/vnd.databricks.v1+cell": {
     "cellMetadata": {
      "byteLimit": 2048000,
      "rowLimit": 10000
     },
     "inputWidgets": {},
     "nuid": "c4a61aa9-e799-4f75-98bf-792b8da0486b",
     "showTitle": false,
     "title": ""
    }
   },
   "outputs": [],
   "source": [
    "# Define the output folder path\n",
    "output_folder = \"/CleanedData/green/\"\n",
    "\n",
    "# Define the output filename\n",
    "output_filename = output_folder + \"cleaned_2019.parquet\"\n",
    "\n",
    "# Write the trips_2019 DataFrame to the specified Parquet file location\n",
    "trips_2019.write.parquet(output_filename, mode=\"overwrite\")\n"
   ]
  },
  {
   "cell_type": "code",
   "execution_count": 0,
   "metadata": {
    "application/vnd.databricks.v1+cell": {
     "cellMetadata": {
      "byteLimit": 2048000,
      "rowLimit": 10000
     },
     "inputWidgets": {},
     "nuid": "b360ddd2-e342-4051-8c34-c38583a5eb22",
     "showTitle": false,
     "title": ""
    }
   },
   "outputs": [],
   "source": [
    "# Load the 'trips_2019' DataFrame from a Parquet file\n",
    "trips_2019 = spark.read.parquet(\"/CleanedData/green/cleaned_2019.parquet\")\n",
    "\n",
    "# Define a list of columns to check for missing values\n",
    "columns_to_check = [\"tpep_pickup_datetime\", \"tpep_dropoff_datetime\", \"trip_distance\", \"fare_amount\"]\n",
    "\n",
    "# Call a function to check for missing values in the specified columns\n",
    "check_missing_values(trips_2019, columns_to_check)\n",
    "\n",
    "# Call a function to filter and display rows with unexpected values in the 'store_and_fwd_flag' column\n",
    "filter_unexpected_store_and_fwd_flag(trips_2019)\n"
   ]
  },
  {
   "cell_type": "markdown",
   "metadata": {
    "application/vnd.databricks.v1+cell": {
     "cellMetadata": {
      "byteLimit": 2048000,
      "rowLimit": 10000
     },
     "inputWidgets": {},
     "nuid": "1779884c-10cb-412f-baaa-bdd6727b077d",
     "showTitle": false,
     "title": ""
    }
   },
   "source": [
    "Processing Year 2020"
   ]
  },
  {
   "cell_type": "code",
   "execution_count": 0,
   "metadata": {
    "application/vnd.databricks.v1+cell": {
     "cellMetadata": {
      "byteLimit": 2048000,
      "rowLimit": 10000
     },
     "inputWidgets": {},
     "nuid": "c0b87d71-63f3-4e6c-80d9-a0576adecd2d",
     "showTitle": false,
     "title": ""
    }
   },
   "outputs": [],
   "source": [
    "year=2020\n",
    "trips_2020 = filter_and_clean_data(df_cleaned, year)\n"
   ]
  },
  {
   "cell_type": "code",
   "execution_count": 0,
   "metadata": {
    "application/vnd.databricks.v1+cell": {
     "cellMetadata": {
      "byteLimit": 2048000,
      "rowLimit": 10000
     },
     "inputWidgets": {},
     "nuid": "1572925d-863a-4775-ae1d-ed0340c3c279",
     "showTitle": false,
     "title": ""
    }
   },
   "outputs": [],
   "source": [
    "# Apply filters one by one\n",
    "trips_2020 = filter_by_distance_and_speed(trips_2020, min_distance=0, min_speed=0)\n",
    "\n",
    "trips_2020 = filter_and_find_highest_speed(trips_2020, max_allowable_speed_kmph=40)\n",
    "\n",
    "trips_2020 = filter_by_trip_duration(trips_2020, min_duration=60, max_duration=86400)\n",
    "\n",
    "\n",
    "trips_2020 = filter_by_trip_distance(trips_2020, min_distance=0.1, max_distance=100)\n",
    "\n",
    "trips_2020 = filter_by_passenger_count(trips_2020, min_count=1, max_count=7)"
   ]
  },
  {
   "cell_type": "code",
   "execution_count": 0,
   "metadata": {
    "application/vnd.databricks.v1+cell": {
     "cellMetadata": {
      "byteLimit": 2048000,
      "rowLimit": 10000
     },
     "inputWidgets": {},
     "nuid": "cb55d229-c6f3-4e8b-b727-54bb208a88b6",
     "showTitle": false,
     "title": ""
    }
   },
   "outputs": [],
   "source": [
    "\n",
    "valid_rate_codes = [1, 2, 3, 4, 5, 6]  # the list of valid rate codes we want to check against\n",
    "invalid_rate_code_trips = filter_by_invalid_rate_codes(trips_2020, valid_rate_codes)\n",
    "invalid_rate_code_trips.show()"
   ]
  },
  {
   "cell_type": "code",
   "execution_count": 0,
   "metadata": {
    "application/vnd.databricks.v1+cell": {
     "cellMetadata": {
      "byteLimit": 2048000,
      "rowLimit": 10000
     },
     "inputWidgets": {},
     "nuid": "d9344756-fee9-4dd0-beb3-7468a3b27e66",
     "showTitle": false,
     "title": ""
    }
   },
   "outputs": [],
   "source": [
    "# Define a list of valid rate codes\n",
    "valid_rate_codes = [1, 2, 3, 4, 5, 6]\n",
    "\n",
    "# Apply the filter\n",
    "trips_2020 = filter_by_valid_rate_codes(trips_2020, valid_rate_codes)"
   ]
  },
  {
   "cell_type": "code",
   "execution_count": 0,
   "metadata": {
    "application/vnd.databricks.v1+cell": {
     "cellMetadata": {
      "byteLimit": 2048000,
      "rowLimit": 10000
     },
     "inputWidgets": {},
     "nuid": "950f16d5-07e7-453b-b33b-0d0792c53a8f",
     "showTitle": false,
     "title": ""
    }
   },
   "outputs": [],
   "source": [
    "threshold = 150  # Adjusted the threshold per business decision\n",
    "extreme_tip_trips = filter_extreme_tip_amounts(trips_2020, threshold)\n",
    "extreme_tip_trips.show()"
   ]
  },
  {
   "cell_type": "code",
   "execution_count": 0,
   "metadata": {
    "application/vnd.databricks.v1+cell": {
     "cellMetadata": {
      "byteLimit": 2048000,
      "rowLimit": 10000
     },
     "inputWidgets": {},
     "nuid": "ce7e1ea7-fd7d-44dc-9386-dc45e85b4043",
     "showTitle": false,
     "title": ""
    }
   },
   "outputs": [
    {
     "output_type": "stream",
     "name": "stdout",
     "output_type": "stream",
     "text": [
      "+--------+--------------------+---------------------+------------------+----------+------------+------------+---------------+-------------+-----------+-----+-------+----------+------------+---------+---------------------+------------+------------+---------+--------------------+--------------------+------------------+-------------+\n|VendorID|tpep_pickup_datetime|tpep_dropoff_datetime|store_and_fwd_flag|RatecodeID|PULocationID|DOLocationID|passenger_count|trip_distance|fare_amount|extra|mta_tax|tip_amount|tolls_amount|ehail_fee|improvement_surcharge|total_amount|payment_type|trip_type|congestion_surcharge|            filename|        trip_speed|trip_duration|\n+--------+--------------------+---------------------+------------------+----------+------------+------------+---------------+-------------+-----------+-----+-------+----------+------------+---------+---------------------+------------+------------+---------+--------------------+--------------------+------------------+-------------+\n|       2| 2020-01-01 00:45:58|  2020-01-01 00:56:39|                 N|       5.0|          66|          65|            2.0|         1.28|       20.0|  0.0|    0.0|      4.06|         0.0|     null|                  0.3|       24.36|         1.0|      2.0|                 0.0|dbfs:/FileStore/g...| 4.466893063696777|          641|\n|       2| 2020-01-01 00:41:38|  2020-01-01 00:52:49|                 N|       1.0|         181|         228|            1.0|         2.47|       10.5|  0.5|    0.5|      3.54|         0.0|     null|                  0.3|       15.34|         1.0|      1.0|                 0.0|dbfs:/FileStore/g...| 8.234325844075071|          671|\n|       1| 2020-01-01 00:52:46|  2020-01-01 01:14:21|                 N|       1.0|         129|         263|            2.0|          6.3|       21.0| 3.25|    0.5|       0.0|         0.0|     null|                  0.3|       25.05|         2.0|      1.0|                2.75|dbfs:/FileStore/g...| 10.88239277215655|         1295|\n|       1| 2020-01-01 00:19:57|  2020-01-01 00:30:56|                 N|       1.0|         210|         150|            1.0|          2.3|       10.0|  0.5|    0.5|       0.0|         0.0|     null|                  0.3|        11.3|         1.0|      1.0|                 0.0|dbfs:/FileStore/g...|7.8072131589152125|          659|\n|       1| 2020-01-01 00:52:33|  2020-01-01 01:09:54|                 N|       1.0|          35|          39|            1.0|          3.0|       13.5|  0.5|    0.5|       0.0|         0.0|     null|                  0.3|        14.8|         1.0|      1.0|                 0.0|dbfs:/FileStore/g...| 6.446502282577527|         1041|\n|       2| 2020-01-01 00:10:18|  2020-01-01 00:22:16|                 N|       1.0|          25|          61|            1.0|         2.77|       11.0|  0.5|    0.5|       0.0|         0.0|     null|                  0.3|        12.3|         2.0|      1.0|                 0.0|dbfs:/FileStore/g...| 8.629963132299016|          718|\n|       2| 2020-01-01 01:03:14|  2020-01-01 01:29:45|                 N|       1.0|         225|          89|            1.0|         4.98|       20.5|  0.5|    0.5|       0.0|         0.0|     null|                  0.3|        21.8|         2.0|      1.0|                 0.0|dbfs:/FileStore/g...| 7.001849613092975|         1591|\n|       2| 2020-01-01 00:04:11|  2020-01-01 00:09:48|                 N|       1.0|         129|         129|            1.0|         0.71|        5.5|  0.5|    0.5|       0.0|         0.0|     null|                  0.3|         6.8|         2.0|      1.0|                 0.0|dbfs:/FileStore/g...| 4.712833137562686|          337|\n|       2| 2020-01-01 00:25:52|  2020-01-01 00:32:16|                 N|       1.0|         129|          83|            1.0|          0.8|        5.5|  0.5|    0.5|       0.0|         0.0|     null|                  0.3|         6.8|         2.0|      1.0|                 0.0|dbfs:/FileStore/g...| 4.660283941780005|          384|\n|       2| 2020-01-01 00:47:32|  2020-01-01 00:59:25|                 N|       1.0|          82|         173|            1.0|         1.52|        9.5|  0.5|    0.5|       0.0|         0.0|     null|                  0.3|        10.8|         2.0|      1.0|                 0.0|dbfs:/FileStore/g...| 4.768784241125795|          713|\n|       1| 2020-01-01 00:26:40|  2020-01-01 00:40:42|                 N|       1.0|          74|          69|            1.0|          3.8|       14.0|  0.5|    0.5|       0.0|         0.0|     null|                  0.3|        15.3|         2.0|      1.0|                 0.0|dbfs:/FileStore/g...|10.095436947513928|          842|\n|       2| 2020-01-01 00:38:47|  2020-01-01 00:46:02|                 N|       1.0|          74|          41|            1.0|         1.12|        6.5|  0.5|    0.5|       0.0|         0.0|     null|                  0.3|         7.8|         1.0|      1.0|                 0.0|dbfs:/FileStore/g...| 5.759468154255013|          435|\n|       2| 2020-01-01 00:52:18|  2020-01-01 01:09:58|                 N|       1.0|          41|         127|            1.0|         5.67|       19.0|  0.5|    0.5|       0.0|         0.0|     null|                  0.3|        20.3|         2.0|      1.0|                 0.0|dbfs:/FileStore/g...|11.965498845234395|         1060|\n|       2| 2020-01-01 00:16:01|  2020-01-01 00:26:40|                 N|       1.0|           7|         260|            1.0|         1.86|        9.5|  0.5|    0.5|       0.0|         0.0|     null|                  0.3|        10.8|         2.0|      1.0|                 0.0|dbfs:/FileStore/g...| 6.511269958092626|          639|\n|       2| 2020-01-01 00:21:15|  2020-01-01 00:28:03|                 N|       1.0|           7|           7|            1.0|         1.42|        7.0|  0.5|    0.5|       0.0|         0.0|     null|                  0.3|         8.3|         2.0|      1.0|                 0.0|dbfs:/FileStore/g...| 7.785415526267772|          408|\n|       2| 2020-01-01 00:35:42|  2020-01-01 01:02:00|                 N|       1.0|           7|         133|            1.0|        15.48|       43.0|  0.5|    0.5|      8.86|         0.0|     null|                  0.3|       53.16|         1.0|      1.0|                 0.0|dbfs:/FileStore/g...| 21.94408986121809|         1578|\n|       2| 2020-01-01 00:39:51|  2020-01-01 00:42:54|                 N|       1.0|         134|          28|            1.0|         1.15|        5.5|  0.5|    0.5|       1.0|         0.0|     null|                  0.3|         7.8|         1.0|      1.0|                 0.0|dbfs:/FileStore/g...|14.057249922746243|          183|\n|       1| 2020-01-01 00:00:21|  2020-01-01 00:10:19|                 N|       1.0|          89|          39|            1.0|          2.3|       10.0|  0.5|    0.5|       0.0|         0.0|     null|                  0.3|        11.3|         2.0|      1.0|                 0.0|dbfs:/FileStore/g...| 8.603601123286161|          598|\n|       1| 2020-01-01 00:13:59|  2020-01-01 00:21:31|                 N|       1.0|          66|          65|            3.0|          1.0|        6.5|  0.5|    0.5|       0.0|         0.0|     null|                  0.3|         7.8|         2.0|      1.0|                 0.0|dbfs:/FileStore/g...| 4.948974097465491|          452|\n|       1| 2020-01-01 00:05:13|  2020-01-01 00:06:49|                 N|       1.0|         116|         244|            1.0|          0.4|        3.5|  0.5|    0.5|       0.0|         0.0|     null|                  0.3|         4.8|         4.0|      1.0|                 0.0|dbfs:/FileStore/g...|  9.32056788356001|           96|\n+--------+--------------------+---------------------+------------------+----------+------------+------------+---------------+-------------+-----------+-----+-------+----------+------------+---------+---------------------+------------+------------+---------+--------------------+--------------------+------------------+-------------+\nonly showing top 20 rows\n\n"
     ]
    }
   ],
   "source": [
    "\n",
    "threshold = 150  # Adjust the threshold as needed\n",
    "trips_2020 = filter_tip_amounts(trips_2020, threshold)\n",
    "trips_2020.show()\n"
   ]
  },
  {
   "cell_type": "code",
   "execution_count": 0,
   "metadata": {
    "application/vnd.databricks.v1+cell": {
     "cellMetadata": {
      "byteLimit": 2048000,
      "rowLimit": 10000
     },
     "inputWidgets": {},
     "nuid": "97eccb8a-441a-4a13-8e98-c21915781350",
     "showTitle": false,
     "title": ""
    }
   },
   "outputs": [],
   "source": [
    "# Save the DataFrame as a Parquet file with the specified filename\n",
    "output_folder = \"/CleanedData/green/\"\n",
    "\n",
    "output_filename = output_folder + \"cleaned_2020.parquet\"\n",
    "trips_2020.write.parquet(output_filename, mode=\"overwrite\")"
   ]
  },
  {
   "cell_type": "markdown",
   "metadata": {
    "application/vnd.databricks.v1+cell": {
     "cellMetadata": {
      "byteLimit": 2048000,
      "rowLimit": 10000
     },
     "inputWidgets": {},
     "nuid": "bc76eb9a-a5de-4b87-a8fd-682409c2043d",
     "showTitle": false,
     "title": ""
    }
   },
   "source": [
    "Processing Year 2021"
   ]
  },
  {
   "cell_type": "code",
   "execution_count": 0,
   "metadata": {
    "application/vnd.databricks.v1+cell": {
     "cellMetadata": {
      "byteLimit": 2048000,
      "rowLimit": 10000
     },
     "inputWidgets": {},
     "nuid": "21fea62f-de2a-4ddb-87cb-344c11036928",
     "showTitle": false,
     "title": ""
    }
   },
   "outputs": [],
   "source": [
    "# Define the year for filtering\n",
    "year = 2021\n",
    "\n",
    "# Call the filter_and_clean_data function\n",
    "trips_2021 = filter_and_clean_data(df_cleaned, year)"
   ]
  },
  {
   "cell_type": "code",
   "execution_count": 0,
   "metadata": {
    "application/vnd.databricks.v1+cell": {
     "cellMetadata": {
      "byteLimit": 2048000,
      "rowLimit": 10000
     },
     "inputWidgets": {},
     "nuid": "55b05afb-69e7-4714-890c-fddfbbf399a0",
     "showTitle": false,
     "title": ""
    }
   },
   "outputs": [],
   "source": [
    "# Apply the filters and cleaning operations to the trips_2021 DataFrame\n",
    "trips_2021 = filter_by_distance_and_speed(trips_2021, min_distance=0, min_speed=0)\n",
    "trips_2021 = filter_and_find_highest_speed(trips_2021, max_allowable_speed_kmph=40)\n",
    "trips_2021 = filter_by_trip_duration(trips_2021, min_duration=60, max_duration=86400)\n",
    "trips_2021 = filter_by_trip_distance(trips_2021, min_distance=0.1, max_distance=100)\n",
    "trips_2021 = filter_by_passenger_count(trips_2021, min_count=1, max_count=7)"
   ]
  },
  {
   "cell_type": "code",
   "execution_count": 0,
   "metadata": {
    "application/vnd.databricks.v1+cell": {
     "cellMetadata": {
      "byteLimit": 2048000,
      "rowLimit": 10000
     },
     "inputWidgets": {},
     "nuid": "10dd73ed-6476-4279-a5fe-b2ce685e144a",
     "showTitle": false,
     "title": ""
    }
   },
   "outputs": [],
   "source": [
    "valid_rate_codes = [1, 2, 3, 4, 5, 6]  # the list of valid rate codes we want to check against\n",
    "invalid_rate_code_trips = filter_by_invalid_rate_codes(trips_2021, valid_rate_codes)\n",
    "invalid_rate_code_trips.show()"
   ]
  },
  {
   "cell_type": "code",
   "execution_count": 0,
   "metadata": {
    "application/vnd.databricks.v1+cell": {
     "cellMetadata": {
      "byteLimit": 2048000,
      "rowLimit": 10000
     },
     "inputWidgets": {},
     "nuid": "51da1576-1144-4b13-a730-553336f69cc2",
     "showTitle": false,
     "title": ""
    }
   },
   "outputs": [],
   "source": [
    "valid_rate_codes = [1, 2, 3, 4, 5, 6]\n",
    "trips_2021 = filter_by_valid_rate_codes(trips_2021, valid_rate_codes)"
   ]
  },
  {
   "cell_type": "code",
   "execution_count": 0,
   "metadata": {
    "application/vnd.databricks.v1+cell": {
     "cellMetadata": {
      "byteLimit": 2048000,
      "rowLimit": 10000
     },
     "inputWidgets": {},
     "nuid": "62a78f41-4fc9-4b7f-a61a-8758fe9a616b",
     "showTitle": false,
     "title": ""
    }
   },
   "outputs": [],
   "source": [
    "\n",
    "threshold = 150  # Adjusted the threshold per business decision\n",
    "extreme_tip_trips = filter_extreme_tip_amounts(trips_2021, threshold)\n",
    "extreme_tip_trips.show()\n"
   ]
  },
  {
   "cell_type": "code",
   "execution_count": 0,
   "metadata": {
    "application/vnd.databricks.v1+cell": {
     "cellMetadata": {
      "byteLimit": 2048000,
      "rowLimit": 10000
     },
     "inputWidgets": {},
     "nuid": "6e6fe3b5-6b12-4f3a-9c5a-83fb7368a834",
     "showTitle": false,
     "title": ""
    }
   },
   "outputs": [],
   "source": [
    "# Save the DataFrame as a Parquet file with the specified filename\n",
    "output_folder = \"/CleanedData/green/\"\n",
    "\n",
    "output_filename = output_folder + \"cleaned_2021.parquet\"\n",
    "trips_2021.write.parquet(output_filename, mode=\"overwrite\")"
   ]
  },
  {
   "cell_type": "code",
   "execution_count": 0,
   "metadata": {
    "application/vnd.databricks.v1+cell": {
     "cellMetadata": {
      "byteLimit": 2048000,
      "rowLimit": 10000
     },
     "inputWidgets": {},
     "nuid": "9f7d92ed-c8e5-4d3b-b298-25019e35eea6",
     "showTitle": false,
     "title": ""
    }
   },
   "outputs": [
    {
     "output_type": "stream",
     "name": "stdout",
     "output_type": "stream",
     "text": [
      "+--------+--------------------+---------------------+------------------+----------+------------+------------+---------------+-------------+-----------+-----+-------+----------+------------+---------+---------------------+------------+------------+---------+--------------------+--------------------+------------------+-------------+\n|VendorID|tpep_pickup_datetime|tpep_dropoff_datetime|store_and_fwd_flag|RatecodeID|PULocationID|DOLocationID|passenger_count|trip_distance|fare_amount|extra|mta_tax|tip_amount|tolls_amount|ehail_fee|improvement_surcharge|total_amount|payment_type|trip_type|congestion_surcharge|            filename|        trip_speed|trip_duration|\n+--------+--------------------+---------------------+------------------+----------+------------+------------+---------------+-------------+-----------+-----+-------+----------+------------+---------+---------------------+------------+------------+---------+--------------------+--------------------+------------------+-------------+\n|       2| 2021-10-01 00:47:50|  2021-10-01 01:00:04|                 N|       5.0|          92|          82|            2.0|         3.44|       20.0|  0.0|    0.0|       0.0|         0.0|     null|                  0.3|        20.3|         2.0|      2.0|                 0.0|dbfs:/FileStore/g...|10.483734120799921|          734|\n|       2| 2021-10-01 00:23:10|  2021-10-01 00:34:26|                 N|       5.0|          41|         167|            2.0|         2.44|       13.0|  0.0|    0.0|       0.0|         0.0|     null|                  0.3|        13.3|         2.0|      2.0|                 0.0|dbfs:/FileStore/g...| 8.074148746468552|          676|\n|       2| 2021-10-01 00:37:35|  2021-10-01 00:43:37|                 N|       1.0|         134|         135|            1.0|         1.67|        7.0|  0.5|    0.5|       0.0|         0.0|     null|                  0.3|         8.3|         1.0|      1.0|                 0.0|dbfs:/FileStore/g...|10.319567977157048|          362|\n|       2| 2021-10-01 00:43:28|  2021-10-01 00:48:26|                 N|       1.0|         119|         247|            1.0|         0.99|        5.5|  0.5|    0.5|       0.0|         0.0|     null|                  0.3|         6.8|         2.0|      1.0|                 0.0|dbfs:/FileStore/g...| 7.431432648100195|          298|\n|       2| 2021-10-01 00:57:38|  2021-10-01 01:02:31|                 N|       1.0|         169|         235|            1.0|         0.76|        5.5|  0.5|    0.5|       0.0|         0.0|     null|                  0.3|         6.8|         2.0|      1.0|                 0.0|dbfs:/FileStore/g...| 5.802292088605276|          293|\n|       2| 2021-10-01 00:44:54|  2021-10-01 01:07:28|                 N|       1.0|          75|         217|            1.0|         9.18|       28.0|  0.5|    0.5|       0.0|         0.0|     null|                  0.3|       32.05|         2.0|      1.0|                2.75|dbfs:/FileStore/g...|15.166229808758798|         1354|\n|       2| 2021-10-01 00:05:40|  2021-10-01 00:33:03|                 N|       1.0|          66|          90|            2.0|         7.04|       25.0|  0.5|    0.5|      5.81|         0.0|     null|                  0.3|       34.86|         1.0|      1.0|                2.75|dbfs:/FileStore/g...| 9.584924830227019|         1643|\n|       2| 2021-10-01 00:24:38|  2021-10-01 00:36:22|                 N|       1.0|          82|          56|            1.0|         1.42|        9.0|  0.5|    0.5|       0.0|         0.0|     null|                  0.3|        10.3|         2.0|      1.0|                 0.0|dbfs:/FileStore/g...| 4.512002179996095|          704|\n|       2| 2021-09-30 23:40:42|  2021-09-30 23:52:40|                 N|       1.0|          66|         231|            1.0|         2.27|       10.5|  0.5|    0.5|      2.91|         0.0|     null|                  0.3|       17.46|         1.0|      1.0|                2.75|dbfs:/FileStore/g...| 7.072208054266704|          718|\n|       2| 2021-10-01 00:09:01|  2021-10-01 00:27:22|                 N|       1.0|          66|         141|            1.0|         7.87|       23.5|  0.5|    0.5|      2.76|         0.0|     null|                  0.3|       30.31|         1.0|      1.0|                2.75|dbfs:/FileStore/g...|15.989726265638641|         1101|\n|       2| 2021-10-01 00:08:50|  2021-10-01 00:20:12|                 N|       1.0|         130|         205|            1.0|         2.86|       11.0|  0.5|    0.5|      3.08|         0.0|     null|                  0.3|       15.38|         1.0|      1.0|                 0.0|dbfs:/FileStore/g...| 9.380700579582976|          682|\n|       1| 2021-10-01 00:01:21|  2021-10-01 00:18:29|                 N|       1.0|         181|         188|            1.0|          3.2|       14.0|  0.5|    0.5|      3.05|         0.0|     null|                  0.3|       18.35|         1.0|      1.0|                 0.0|dbfs:/FileStore/g...| 6.963225811842498|         1028|\n|       2| 2021-10-01 00:04:40|  2021-10-01 00:11:02|                 N|       1.0|         129|         129|            1.0|         1.01|        6.5|  0.5|    0.5|      2.34|         0.0|     null|                  0.3|       10.14|         1.0|      1.0|                 0.0|dbfs:/FileStore/g...| 5.914412709358498|          382|\n|       1| 2021-10-01 00:10:37|  2021-10-01 00:13:29|                 N|       1.0|          10|         130|            1.0|          2.1|        7.5|  0.5|    0.5|       0.0|         0.0|     null|                  0.3|         8.8|         2.0|      1.0|                 0.0|dbfs:/FileStore/g...|27.311431472757235|          172|\n|       2| 2021-09-30 21:03:51|  2021-09-30 21:25:22|                 N|       1.0|         134|          37|            1.0|         7.16|       23.5|  0.5|    0.5|      4.96|         0.0|     null|                  0.3|       29.76|         1.0|      1.0|                 0.0|dbfs:/FileStore/g...|12.406246205352067|         1291|\n|       2| 2021-10-01 00:09:23|  2021-10-01 00:18:42|                 N|       1.0|         129|          82|            1.0|         1.23|        8.0|  0.5|    0.5|      1.86|         0.0|     null|                  0.3|       11.16|         1.0|      1.0|                 0.0|dbfs:/FileStore/g...| 4.922060177507897|          559|\n|       2| 2021-10-01 00:28:33|  2021-10-01 00:46:43|                 N|       1.0|          74|         250|            3.0|          5.8|       19.5|  0.5|    0.5|       0.2|         0.0|     null|                  0.3|        21.0|         1.0|      1.0|                 0.0|dbfs:/FileStore/g...|11.902963755885807|         1090|\n|       2| 2021-10-01 00:46:34|  2021-10-01 00:56:30|                 N|       1.0|          21|         210|            1.0|         3.71|       12.5|  0.5|    0.5|       0.0|         0.0|     null|                  0.3|        13.8|         1.0|      1.0|                 0.0|dbfs:/FileStore/g...|13.924553093157435|          596|\n|       2| 2021-10-01 00:54:15|  2021-10-01 01:15:21|                 N|       1.0|          41|          48|            1.0|         4.56|       17.5|  0.5|    0.5|       1.0|         0.0|     null|                  0.3|       22.55|         1.0|      1.0|                2.75|dbfs:/FileStore/g...|  8.05721128891633|         1266|\n|       2| 2021-10-01 00:01:52|  2021-10-01 00:10:50|                 N|       1.0|          75|          43|            1.0|         2.48|        9.5|  0.5|    0.5|      2.71|         0.0|     null|                  0.3|       16.26|         1.0|      1.0|                2.75|dbfs:/FileStore/g...|10.311527889024008|          538|\n+--------+--------------------+---------------------+------------------+----------+------------+------------+---------------+-------------+-----------+-----+-------+----------+------------+---------+---------------------+------------+------------+---------+--------------------+--------------------+------------------+-------------+\nonly showing top 20 rows\n\n"
     ]
    }
   ],
   "source": [
    "threshold = 150  # Adjust the threshold as needed\n",
    "trips_2021 = filter_tip_amounts(trips_2021, threshold)\n",
    "trips_2021.show()"
   ]
  },
  {
   "cell_type": "markdown",
   "metadata": {
    "application/vnd.databricks.v1+cell": {
     "cellMetadata": {
      "byteLimit": 2048000,
      "rowLimit": 10000
     },
     "inputWidgets": {},
     "nuid": "85ab57b2-6405-4019-a14b-3e9807a55655",
     "showTitle": false,
     "title": ""
    }
   },
   "source": [
    "Processing Year 2022"
   ]
  },
  {
   "cell_type": "code",
   "execution_count": 0,
   "metadata": {
    "application/vnd.databricks.v1+cell": {
     "cellMetadata": {
      "byteLimit": 2048000,
      "rowLimit": 10000
     },
     "inputWidgets": {},
     "nuid": "cb9256ef-fb05-408a-ac66-043dd4445c40",
     "showTitle": false,
     "title": ""
    }
   },
   "outputs": [],
   "source": [
    "# Apply the filter and clean data operation for the year 2022\n",
    "year = 2022\n",
    "trips_2022 = filter_and_clean_data(df_cleaned, year)"
   ]
  },
  {
   "cell_type": "code",
   "execution_count": 0,
   "metadata": {
    "application/vnd.databricks.v1+cell": {
     "cellMetadata": {
      "byteLimit": 2048000,
      "rowLimit": 10000
     },
     "inputWidgets": {},
     "nuid": "aa16af0c-1afd-42e8-b00d-197f78051845",
     "showTitle": false,
     "title": ""
    }
   },
   "outputs": [],
   "source": [
    "# Filter trips_2022 by distance and speed\n",
    "trips_2022 = filter_by_distance_and_speed(trips_2022, min_distance=0, min_speed=0)\n",
    "\n",
    "# Find and filter out trips with the highest speed exceeding a threshold\n",
    "trips_2022 = filter_and_find_highest_speed(trips_2022, max_allowable_speed_kmph=40)\n",
    "\n",
    "# Filter trips by trip duration (minimum and maximum)\n",
    "trips_2022 = filter_by_trip_duration(trips_2022, min_duration=60, max_duration=86400)\n",
    "\n",
    "# Filter trips by trip distance (minimum and maximum)\n",
    "trips_2022 = filter_by_trip_distance(trips_2022, min_distance=0.1, max_distance=100)\n",
    "\n",
    "# Filter trips by passenger count (minimum and maximum)\n",
    "trips_2022 = filter_by_passenger_count(trips_2022, min_count=1, max_count=7)\n"
   ]
  },
  {
   "cell_type": "code",
   "execution_count": 0,
   "metadata": {
    "application/vnd.databricks.v1+cell": {
     "cellMetadata": {
      "byteLimit": 2048000,
      "rowLimit": 10000
     },
     "inputWidgets": {},
     "nuid": "fa7461a6-a2ee-4060-a8da-5ac6e07997d4",
     "showTitle": false,
     "title": ""
    }
   },
   "outputs": [],
   "source": [
    "valid_rate_codes = [1, 2, 3, 4, 5, 6]  # the list of valid rate codes we want to check against\n",
    "invalid_rate_code_trips = filter_by_invalid_rate_codes(trips_2022, valid_rate_codes)\n",
    "invalid_rate_code_trips.show()"
   ]
  },
  {
   "cell_type": "code",
   "execution_count": 0,
   "metadata": {
    "application/vnd.databricks.v1+cell": {
     "cellMetadata": {
      "byteLimit": 2048000,
      "rowLimit": 10000
     },
     "inputWidgets": {},
     "nuid": "62acc7aa-5336-435d-83b7-3352d19a359c",
     "showTitle": false,
     "title": ""
    }
   },
   "outputs": [],
   "source": [
    "\n",
    "valid_rate_codes = [1, 2, 3, 4, 5, 6]\n",
    "trips_2022 = filter_by_valid_rate_codes(trips_2022, valid_rate_codes)"
   ]
  },
  {
   "cell_type": "code",
   "execution_count": 0,
   "metadata": {
    "application/vnd.databricks.v1+cell": {
     "cellMetadata": {
      "byteLimit": 2048000,
      "rowLimit": 10000
     },
     "inputWidgets": {},
     "nuid": "58129a74-ae4b-451d-b403-385611168ef7",
     "showTitle": false,
     "title": ""
    }
   },
   "outputs": [],
   "source": [
    "threshold = 150  # Adjusted the threshold per business decision\n",
    "extreme_tip_trips = filter_extreme_tip_amounts(trips_2022, threshold)\n",
    "extreme_tip_trips.show()"
   ]
  },
  {
   "cell_type": "code",
   "execution_count": 0,
   "metadata": {
    "application/vnd.databricks.v1+cell": {
     "cellMetadata": {
      "byteLimit": 2048000,
      "rowLimit": 10000
     },
     "inputWidgets": {},
     "nuid": "3156b02e-3072-4dd4-b66a-38778748b0bf",
     "showTitle": false,
     "title": ""
    }
   },
   "outputs": [
    {
     "output_type": "stream",
     "name": "stdout",
     "output_type": "stream",
     "text": [
      "+--------+--------------------+---------------------+------------------+----------+------------+------------+---------------+-------------+-----------+-----+-------+----------+------------+---------+---------------------+------------+------------+---------+--------------------+--------------------+-------------------+-------------+\n|VendorID|tpep_pickup_datetime|tpep_dropoff_datetime|store_and_fwd_flag|RatecodeID|PULocationID|DOLocationID|passenger_count|trip_distance|fare_amount|extra|mta_tax|tip_amount|tolls_amount|ehail_fee|improvement_surcharge|total_amount|payment_type|trip_type|congestion_surcharge|            filename|         trip_speed|trip_duration|\n+--------+--------------------+---------------------+------------------+----------+------------+------------+---------------+-------------+-----------+-----+-------+----------+------------+---------+---------------------+------------+------------+---------+--------------------+--------------------+-------------------+-------------+\n|       1| 2022-03-01 00:24:14|  2022-03-01 00:34:04|                 N|       1.0|          74|         151|            1.0|          2.3|        9.5|  0.5|    0.5|       0.0|         0.0|     null|                  0.3|        10.8|         2.0|      1.0|                 0.0|dbfs:/FileStore/g...|  8.720260121568007|          590|\n|       2| 2022-02-28 23:39:24|  2022-02-28 23:47:03|                 N|       1.0|          75|         151|            1.0|         1.31|        7.5|  0.5|    0.5|       1.0|         0.0|     null|                  0.3|         9.8|         1.0|      1.0|                 0.0|dbfs:/FileStore/g...|  6.384284406516921|          459|\n|       2| 2022-02-28 23:55:30|  2022-03-01 00:09:32|                 N|       1.0|         166|          42|            1.0|         2.31|       11.5|  0.5|    0.5|       0.0|         0.0|     null|                  0.3|        12.8|         1.0|      1.0|                 0.0|dbfs:/FileStore/g...|  6.136962986515046|          842|\n|       2| 2022-03-01 00:24:55|  2022-03-01 00:33:06|                 N|       1.0|          82|         173|            1.0|         1.58|        8.0|  0.5|    0.5|       0.0|         0.0|     null|                  0.3|         9.3|         2.0|      1.0|                 0.0|dbfs:/FileStore/g...|  7.198287864452047|          491|\n|       2| 2022-03-01 00:23:33|  2022-03-01 00:30:08|                 N|       1.0|         127|         243|            1.0|         1.52|        7.0|  0.5|    0.5|      2.08|         0.0|     null|                  0.3|       10.38|         1.0|      1.0|                 0.0|dbfs:/FileStore/g...|   8.60795737701947|          395|\n|       2| 2022-03-01 00:11:04|  2022-03-01 00:15:15|                 N|       1.0|          74|          74|            1.0|          0.9|        5.0|  0.5|    0.5|       0.0|         0.0|     null|                  0.3|         6.3|         2.0|      1.0|                 0.0|dbfs:/FileStore/g...|  8.020887102983913|          251|\n|       2| 2022-03-01 00:16:09|  2022-03-01 00:21:48|                 N|       1.0|         134|         134|            1.0|         1.04|        6.0|  0.5|    0.5|       0.0|         0.0|     null|                  0.3|         7.3|         2.0|      1.0|                 0.0|dbfs:/FileStore/g...|  6.862577415152149|          339|\n|       2| 2022-03-01 00:42:59|  2022-03-01 00:55:42|                 N|       1.0|         244|         244|            1.0|         1.16|        9.5|  0.5|    0.5|       0.0|         0.0|     null|                  0.3|        10.8|         2.0|      1.0|                 0.0|dbfs:/FileStore/g...|  3.400846787395945|          763|\n|       1| 2022-03-01 00:27:32|  2022-03-01 00:30:31|                 N|       1.0|          41|         166|            1.0|          0.7|        4.5|  0.5|    0.5|       1.4|         0.0|     null|                  0.3|         7.2|         1.0|      1.0|                 0.0|dbfs:/FileStore/g...|  8.747795555520007|          179|\n|       1| 2022-03-01 00:26:20|  2022-03-01 00:37:05|                 N|       1.0|         260|         260|            1.0|          1.6|        9.0|  0.5|    0.5|       0.0|         0.0|     null|                  0.3|        10.3|         2.0|      1.0|                 0.0|dbfs:/FileStore/g...|  5.548989251607819|          645|\n|       1| 2022-03-01 00:17:12|  2022-03-01 00:24:50|                 N|       1.0|          75|         236|            1.0|          1.5|        7.5| 3.25|    0.5|      1.39|         0.0|     null|                  0.3|       12.94|         1.0|      1.0|                2.75|dbfs:/FileStore/g...|   7.32621056349695|          458|\n|       2| 2022-03-01 00:40:57|  2022-03-01 00:57:57|                 N|       1.0|          82|          82|            1.0|         0.21|       11.0|  0.5|    0.5|       0.0|         0.0|     null|                  0.3|        12.3|         2.0|      1.0|                 0.0|dbfs:/FileStore/g...|0.46054570718767096|         1020|\n|       2| 2022-03-01 00:55:38|  2022-03-01 01:00:36|                 N|       1.0|         130|         135|            1.0|         1.91|        7.5|  0.5|    0.5|       1.0|         0.0|     null|                  0.3|         9.8|         1.0|      1.0|                 0.0|dbfs:/FileStore/g...| 14.337410462496335|          298|\n|       2| 2022-03-01 00:54:31|  2022-03-01 01:12:34|                 N|       1.0|         145|          50|            1.0|         4.28|       15.5|  0.5|    0.5|       1.0|         0.0|     null|                  0.3|       20.55|         1.0|      1.0|                2.75|dbfs:/FileStore/g...|  8.840339178202072|         1083|\n|       2| 2022-03-01 01:00:55|  2022-03-01 01:09:27|                 N|       1.0|          75|         236|            2.0|         1.39|        7.5|  0.5|    0.5|       1.5|         0.0|     null|                  0.3|       13.05|         1.0|      1.0|                2.75|dbfs:/FileStore/g...|  6.072932511632068|          512|\n|       2| 2022-03-01 00:04:01|  2022-03-01 00:12:09|                 N|       1.0|          75|         151|            1.0|         1.59|        7.5|  0.5|    0.5|       0.0|         0.0|     null|                  0.3|         8.8|         2.0|      1.0|                 0.0|dbfs:/FileStore/g...|  7.288378492554303|          488|\n|       2| 2022-03-01 00:59:02|  2022-03-01 01:12:32|                 N|       1.0|          75|         235|            1.0|         5.79|       18.0|  0.5|    0.5|       5.0|         0.0|     null|                  0.3|        24.3|         1.0|      1.0|                 0.0|dbfs:/FileStore/g...|  15.98995201357406|          810|\n|       1| 2022-03-01 00:30:48|  2022-03-01 00:46:38|                 Y|       1.0|         116|          48|            1.0|          6.1|       19.5| 3.25|    0.5|       4.7|         0.0|     null|                  0.3|       28.25|         1.0|      1.0|                2.75|dbfs:/FileStore/g...| 14.363485664770371|          950|\n|       2| 2022-03-01 00:45:13|  2022-03-01 01:02:03|                 N|       1.0|         127|         174|            1.0|         3.14|       13.0|  0.5|    0.5|       0.0|         0.0|     null|                  0.3|        14.3|         2.0|      1.0|                 0.0|dbfs:/FileStore/g...|  6.954435601040419|         1010|\n|       2| 2022-02-28 23:49:12|  2022-02-28 23:51:15|                 N|       1.0|          75|          74|            1.0|         0.76|        4.0|  0.5|    0.5|      1.06|         0.0|     null|                  0.3|        6.36|         1.0|      1.0|                 0.0|dbfs:/FileStore/g...| 13.821720178547524|          123|\n+--------+--------------------+---------------------+------------------+----------+------------+------------+---------------+-------------+-----------+-----+-------+----------+------------+---------+---------------------+------------+------------+---------+--------------------+--------------------+-------------------+-------------+\nonly showing top 20 rows\n\n"
     ]
    }
   ],
   "source": [
    "threshold = 150  # Adjust the threshold as needed\n",
    "trips_2022 = filter_tip_amounts(trips_2022, threshold)\n",
    "trips_2022.show()"
   ]
  },
  {
   "cell_type": "code",
   "execution_count": 0,
   "metadata": {
    "application/vnd.databricks.v1+cell": {
     "cellMetadata": {
      "byteLimit": 2048000,
      "rowLimit": 10000
     },
     "inputWidgets": {},
     "nuid": "ce4ddde1-8fce-43de-a897-42393be9d772",
     "showTitle": false,
     "title": ""
    }
   },
   "outputs": [],
   "source": [
    "# Save the DataFrame as a Parquet file with the specified filename\n",
    "output_folder = \"/CleanedData/green/\"\n",
    "\n",
    "output_filename = output_folder + \"cleaned_2022.parquet\"\n",
    "trips_2022.write.parquet(output_filename, mode=\"overwrite\")"
   ]
  },
  {
   "cell_type": "code",
   "execution_count": 0,
   "metadata": {
    "application/vnd.databricks.v1+cell": {
     "cellMetadata": {
      "byteLimit": 2048000,
      "rowLimit": 10000
     },
     "inputWidgets": {},
     "nuid": "262d0f71-eeb1-4b32-84b1-00cf5a663d91",
     "showTitle": false,
     "title": ""
    }
   },
   "outputs": [
    {
     "output_type": "stream",
     "name": "stdout",
     "output_type": "stream",
     "text": [
      "Out[67]: 62758794"
     ]
    }
   ],
   "source": [
    "clean_green = spark.read.parquet(\"/CleanedData/green/cleaned_*\")\n",
    "clean_green.count()"
   ]
  },
  {
   "cell_type": "code",
   "execution_count": 0,
   "metadata": {
    "application/vnd.databricks.v1+cell": {
     "cellMetadata": {
      "byteLimit": 2048000,
      "rowLimit": 10000
     },
     "inputWidgets": {},
     "nuid": "9e03b5e2-bb56-4e2e-a67e-f2b252503edf",
     "showTitle": false,
     "title": ""
    }
   },
   "outputs": [
    {
     "output_type": "stream",
     "name": "stdout",
     "output_type": "stream",
     "text": [
      "root\n |-- VendorID: long (nullable = true)\n |-- tpep_pickup_datetime: timestamp (nullable = true)\n |-- tpep_dropoff_datetime: timestamp (nullable = true)\n |-- store_and_fwd_flag: string (nullable = true)\n |-- RatecodeID: double (nullable = true)\n |-- PULocationID: long (nullable = true)\n |-- DOLocationID: long (nullable = true)\n |-- passenger_count: double (nullable = true)\n |-- trip_distance: double (nullable = true)\n |-- fare_amount: double (nullable = true)\n |-- extra: double (nullable = true)\n |-- mta_tax: double (nullable = true)\n |-- tip_amount: double (nullable = true)\n |-- tolls_amount: double (nullable = true)\n |-- ehail_fee: double (nullable = true)\n |-- improvement_surcharge: double (nullable = true)\n |-- total_amount: double (nullable = true)\n |-- payment_type: double (nullable = true)\n |-- trip_type: double (nullable = true)\n |-- congestion_surcharge: double (nullable = true)\n |-- filename: string (nullable = true)\n |-- trip_speed: double (nullable = true)\n |-- trip_duration: long (nullable = true)\n\n"
     ]
    }
   ],
   "source": [
    "clean_green.printSchema()"
   ]
  },
  {
   "cell_type": "markdown",
   "metadata": {
    "application/vnd.databricks.v1+cell": {
     "cellMetadata": {},
     "inputWidgets": {},
     "nuid": "6800ae88-8450-47af-a257-cb85010a6c55",
     "showTitle": false,
     "title": ""
    }
   },
   "source": [
    "We have successfully cleaned and processed both the green and yellow taxi datasets, applying a series of data filtering and cleaning operations. The cleaned data has been saved into separate chunks based on each year, organized within a folder named 'CleanedData.' These cleaned datasets are now ready for further analysis and insights."
   ]
  }
 ],
 "metadata": {
  "application/vnd.databricks.v1+notebook": {
   "dashboards": [],
   "language": "python",
   "notebookMetadata": {
    "mostRecentlyExecutedCommandWithImplicitDF": {
     "commandId": 1280555578690663,
     "dataframes": [
      "_sqldf"
     ]
    },
    "pythonIndentUnit": 4
   },
   "notebookName": "Data Cleaning - Part -1",
   "widgets": {}
  }
 },
 "nbformat": 4,
 "nbformat_minor": 0
}
