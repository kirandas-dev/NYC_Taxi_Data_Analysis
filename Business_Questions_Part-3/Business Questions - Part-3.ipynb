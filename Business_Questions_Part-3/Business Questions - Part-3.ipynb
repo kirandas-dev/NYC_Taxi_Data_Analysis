{
 "cells": [
  {
   "cell_type": "code",
   "execution_count": 0,
   "metadata": {
    "application/vnd.databricks.v1+cell": {
     "cellMetadata": {
      "byteLimit": 2048000,
      "rowLimit": 10000
     },
     "inputWidgets": {},
     "nuid": "67b72886-2c3a-416c-9120-3346ac3f1f32",
     "showTitle": false,
     "title": ""
    }
   },
   "outputs": [
    {
     "output_type": "stream",
     "name": "stdout",
     "output_type": "stream",
     "text": [
      "Out[2]: 709262227"
     ]
    }
   ],
   "source": [
    "combined_data = spark.read.parquet(\"/CombinedCleanedData/cleaned_combined.parquet\")\n",
    "combined_data.count()"
   ]
  },
  {
   "cell_type": "code",
   "execution_count": 0,
   "metadata": {
    "application/vnd.databricks.v1+cell": {
     "cellMetadata": {
      "byteLimit": 2048000,
      "rowLimit": 10000
     },
     "inputWidgets": {},
     "nuid": "f59cb4e4-a9d4-494f-86f7-28afc66bc00b",
     "showTitle": false,
     "title": ""
    }
   },
   "outputs": [
    {
     "output_type": "stream",
     "name": "stdout",
     "output_type": "stream",
     "text": [
      "root\n |-- VendorID: long (nullable = true)\n |-- tpep_pickup_datetime: timestamp (nullable = true)\n |-- tpep_dropoff_datetime: timestamp (nullable = true)\n |-- passenger_count: double (nullable = true)\n |-- trip_distance: double (nullable = true)\n |-- RatecodeID: double (nullable = true)\n |-- store_and_fwd_flag: string (nullable = true)\n |-- PULocationID: long (nullable = true)\n |-- DOLocationID: long (nullable = true)\n |-- payment_type: long (nullable = true)\n |-- fare_amount: double (nullable = true)\n |-- extra: double (nullable = true)\n |-- mta_tax: double (nullable = true)\n |-- tip_amount: double (nullable = true)\n |-- tolls_amount: double (nullable = true)\n |-- improvement_surcharge: double (nullable = true)\n |-- total_amount: double (nullable = true)\n |-- congestion_surcharge: double (nullable = true)\n |-- airport_fee: double (nullable = true)\n |-- color: string (nullable = true)\n\n"
     ]
    }
   ],
   "source": [
    "combined_data.printSchema()"
   ]
  },
  {
   "cell_type": "markdown",
   "metadata": {
    "application/vnd.databricks.v1+cell": {
     "cellMetadata": {},
     "inputWidgets": {},
     "nuid": "135f027f-bc7e-42c4-8504-71d440a2eee6",
     "showTitle": false,
     "title": ""
    }
   },
   "source": [
    "Business Question 1"
   ]
  },
  {
   "cell_type": "markdown",
   "metadata": {
    "application/vnd.databricks.v1+cell": {
     "cellMetadata": {},
     "inputWidgets": {},
     "nuid": "0edf63db-2c7a-48c7-98b0-ce8770b62ce0",
     "showTitle": false,
     "title": ""
    }
   },
   "source": [
    "* **What was the total number of trips?**\n",
    "  \n",
    "\n",
    "* **Which day of the week had the most trips?**\n",
    "   \n",
    "\n",
    "* **Which hour of the day had the most trips?**\n",
    "   \n",
    "\n",
    "* **What was the average number of passengers?**\n",
    "   \n",
    "\n",
    "* **What was the average amount paid per trip (using total_amount)?**\n",
    " \n",
    "\n",
    "* **What was the average amount paid per passenger (using total_amount)?**\n",
    "   \n"
   ]
  },
  {
   "cell_type": "code",
   "execution_count": 0,
   "metadata": {
    "application/vnd.databricks.v1+cell": {
     "cellMetadata": {
      "byteLimit": 2048000,
      "rowLimit": 10000
     },
     "inputWidgets": {},
     "nuid": "3bc2863c-9f37-4e29-84a9-f36abd36a3f1",
     "showTitle": false,
     "title": ""
    }
   },
   "outputs": [],
   "source": [
    "# Create a temporary view for the DataFrame to enable Spark SQL queries\n",
    "combined_data.createOrReplaceTempView(\"trip_data\")\n",
    "\n",
    "# Query 1: Total number of trips for each year and month\n",
    "total_trips_query = \"\"\"\n",
    "    SELECT\n",
    "        YEAR(tpep_pickup_datetime) AS pickup_year,\n",
    "        MONTH(tpep_pickup_datetime) AS pickup_month,\n",
    "        COUNT(*) AS total_trips\n",
    "    FROM\n",
    "        trip_data\n",
    "    GROUP BY\n",
    "        pickup_year, pickup_month\n",
    "    ORDER BY\n",
    "        pickup_year, pickup_month\n",
    "\"\"\"\n",
    "\n",
    "# Create a temporary view for Query 1 result\n",
    "spark.sql(total_trips_query).createOrReplaceTempView(\"total_trips_result\")"
   ]
  },
  {
   "cell_type": "code",
   "execution_count": 0,
   "metadata": {
    "application/vnd.databricks.v1+cell": {
     "cellMetadata": {
      "byteLimit": 2048000,
      "rowLimit": 10000
     },
     "inputWidgets": {},
     "nuid": "b1d293bf-e8c0-4cdc-a0dd-b21a2644e225",
     "showTitle": false,
     "title": ""
    }
   },
   "outputs": [],
   "source": [
    "# Query 2: Day of the week with the most trips for each year and month\n",
    "day_of_week_query = \"\"\"\n",
    "    SELECT\n",
    "        YEAR(tpep_pickup_datetime) AS pickup_year,\n",
    "        MONTH(tpep_pickup_datetime) AS pickup_month,\n",
    "        date_format(tpep_pickup_datetime, 'EEEE') AS day_of_week,\n",
    "        COUNT(*) AS trip_count\n",
    "    FROM\n",
    "        trip_data\n",
    "    GROUP BY\n",
    "        pickup_year, pickup_month, day_of_week\n",
    "    ORDER BY\n",
    "        pickup_year, pickup_month, trip_count DESC\n",
    "\"\"\"\n",
    "\n",
    "# Create a temporary view for Query 2 result\n",
    "spark.sql(day_of_week_query).createOrReplaceTempView(\"day_of_week_result\")"
   ]
  },
  {
   "cell_type": "code",
   "execution_count": 0,
   "metadata": {
    "application/vnd.databricks.v1+cell": {
     "cellMetadata": {
      "byteLimit": 2048000,
      "rowLimit": 10000
     },
     "inputWidgets": {},
     "nuid": "b634a641-3438-4d97-9e2c-a668c1000254",
     "showTitle": false,
     "title": ""
    }
   },
   "outputs": [],
   "source": [
    "# Query 3: Hour of the day with the most trips for each year and month\n",
    "hour_of_day_query = \"\"\"\n",
    "    SELECT\n",
    "        YEAR(tpep_pickup_datetime) AS pickup_year,\n",
    "        MONTH(tpep_pickup_datetime) AS pickup_month,\n",
    "        HOUR(tpep_pickup_datetime) AS pickup_hour,\n",
    "        COUNT(*) AS trip_count\n",
    "    FROM\n",
    "        trip_data\n",
    "    GROUP BY\n",
    "        pickup_year, pickup_month, pickup_hour\n",
    "    ORDER BY\n",
    "        pickup_year, pickup_month, trip_count DESC\n",
    "\"\"\"\n",
    "\n",
    "# Create a temporary view for Query 3 result\n",
    "spark.sql(hour_of_day_query).createOrReplaceTempView(\"hour_of_day_result\")\n"
   ]
  },
  {
   "cell_type": "code",
   "execution_count": 0,
   "metadata": {
    "application/vnd.databricks.v1+cell": {
     "cellMetadata": {
      "byteLimit": 2048000,
      "rowLimit": 10000
     },
     "inputWidgets": {},
     "nuid": "b4309e28-3c09-4e07-bc3f-14f0e0e8b546",
     "showTitle": false,
     "title": ""
    }
   },
   "outputs": [],
   "source": [
    "# Query 4: Average number of passengers for each year and month\n",
    "avg_passengers_query = \"\"\"\n",
    "    SELECT\n",
    "        YEAR(tpep_pickup_datetime) AS pickup_year,\n",
    "        MONTH(tpep_pickup_datetime) AS pickup_month,\n",
    "        AVG(passenger_count) AS avg_passengers\n",
    "    FROM\n",
    "        trip_data\n",
    "    GROUP BY\n",
    "        pickup_year, pickup_month\n",
    "\"\"\"\n",
    "\n",
    "# Create a temporary view for Query 4 result\n",
    "spark.sql(avg_passengers_query).createOrReplaceTempView(\"avg_passengers_result\")\n"
   ]
  },
  {
   "cell_type": "code",
   "execution_count": 0,
   "metadata": {
    "application/vnd.databricks.v1+cell": {
     "cellMetadata": {
      "byteLimit": 2048000,
      "rowLimit": 10000
     },
     "inputWidgets": {},
     "nuid": "dab099f8-e34f-460f-9e0e-437eee8f2c87",
     "showTitle": false,
     "title": ""
    }
   },
   "outputs": [],
   "source": [
    "# Query 5: Average amount paid per trip for each year and month\n",
    "avg_trip_amount_query = \"\"\"\n",
    "    SELECT\n",
    "        YEAR(tpep_pickup_datetime) AS pickup_year,\n",
    "        MONTH(tpep_pickup_datetime) AS pickup_month,\n",
    "        AVG(total_amount) AS avg_trip_amount\n",
    "    FROM\n",
    "        trip_data\n",
    "    GROUP BY\n",
    "        pickup_year, pickup_month\n",
    "\"\"\"\n"
   ]
  },
  {
   "cell_type": "code",
   "execution_count": 0,
   "metadata": {
    "application/vnd.databricks.v1+cell": {
     "cellMetadata": {
      "byteLimit": 2048000,
      "rowLimit": 10000
     },
     "inputWidgets": {},
     "nuid": "7e5129a2-8c29-44ff-b1e3-77e7c7d85bf6",
     "showTitle": false,
     "title": ""
    }
   },
   "outputs": [],
   "source": [
    "# Create a temporary view for Query 5 result\n",
    "spark.sql(avg_trip_amount_query).createOrReplaceTempView(\"avg_trip_amount_result\")\n",
    "\n",
    "# Query 6: Average amount paid per passenger for each year and month\n",
    "avg_amount_per_passenger_query = \"\"\"\n",
    "    SELECT\n",
    "        YEAR(tpep_pickup_datetime) AS pickup_year,\n",
    "        MONTH(tpep_pickup_datetime) AS pickup_month,\n",
    "        AVG(total_amount / passenger_count) AS avg_amount_per_passenger\n",
    "    FROM\n",
    "        trip_data\n",
    "    WHERE\n",
    "        passenger_count > 0\n",
    "    GROUP BY\n",
    "        pickup_year, pickup_month\n",
    "\"\"\"\n",
    "\n",
    "# Create a temporary view for Query 6 result\n",
    "spark.sql(avg_amount_per_passenger_query).createOrReplaceTempView(\"avg_amount_per_passenger_result\")\n"
   ]
  },
  {
   "cell_type": "code",
   "execution_count": 0,
   "metadata": {
    "application/vnd.databricks.v1+cell": {
     "cellMetadata": {
      "byteLimit": 2048000,
      "rowLimit": 10000
     },
     "inputWidgets": {},
     "nuid": "1832eb96-167f-456e-8769-78329b77dfd5",
     "showTitle": false,
     "title": ""
    }
   },
   "outputs": [
    {
     "output_type": "stream",
     "name": "stdout",
     "output_type": "stream",
     "text": [
      "+-----------+------------+-----------+-----------+-----------+------------------+------------------+------------------------+\n|pickup_year|pickup_month|total_trips|day_of_week|pickup_hour|    avg_passengers|   avg_trip_amount|avg_amount_per_passenger|\n+-----------+------------+-----------+-----------+-----------+------------------+------------------+------------------------+\n|       2015|           1|   14086879|  Wednesday|         23|1.6537548168050566|14.757290035956748|      12.076119553604332|\n|       2015|           2|   13856578|  Wednesday|         23|1.6406074429054562|15.234463717098825|       12.50917744970312|\n|       2015|           3|   14885012|  Wednesday|         23|1.6409243069471493|15.658871816601016|      12.829251771698923|\n|       2015|           4|   14557186|  Wednesday|         23| 1.646246808964315|15.848484455294047|      12.964614680993417|\n|       2015|           5|   14768556|  Wednesday|         23|1.6528999179066661| 16.24036400454006|       13.22941284021609|\n|       2015|           6|   13800582|  Wednesday|         23|1.6489769779274526|16.168712988054573|      13.192487240795684|\n|       2015|           7|   12948652|  Wednesday|         23|1.6608602192722455|15.941620072784467|      12.958120268513898|\n|       2015|           8|   12509487|  Wednesday|         23|1.6625979946259986|15.952108371394385|      12.939725646338092|\n|       2015|           9|   12563496|  Wednesday|         23|1.6474392159634548|16.245116573818567|      13.250439971005157|\n|       2015|          10|   13779389|  Wednesday|         23|1.6407940874591755| 16.29549366756737|      13.315981303866506|\n|       2015|          11|   12686196|  Wednesday|         23|1.6380603768064124|16.120736237615734|      13.186610549533412|\n|       2015|          12|   12909809|  Wednesday|         23|1.6461238892070362|16.041832378343162|      13.053042137295082|\n|       2016|           1|   12211541|  Wednesday|         23|1.6370074833307278|15.445167322069826|      12.667667024502649|\n|       2016|           2|   12746859|  Wednesday|         23| 1.622275260124867|15.368207607508586|      12.661985535372034|\n|       2016|           3|   13631654|  Wednesday|         23| 1.626701792753836|15.779375851032071|      12.959755230350071|\n|       2016|           4|   13318464|  Wednesday|         23|1.6288364033570237|15.991979636117795|      13.107050415924254|\n|       2016|           5|   13220712|  Wednesday|         23|1.6298788597769924|16.424005558951897|      13.436074692335026|\n|       2016|           6|   12394055|  Wednesday|         23|1.6262090978295642|16.474470358431297|       13.49523123756807|\n|       2016|           7|   11489937|  Wednesday|         23|1.6369880008915627|  16.2402269097147|      13.257198675515115|\n|       2016|           8|   11059783|  Wednesday|         23|  1.63373359133719|16.144984518909254|      13.190647976876248|\n+-----------+------------+-----------+-----------+-----------+------------------+------------------+------------------------+\nonly showing top 20 rows\n\n"
     ]
    }
   ],
   "source": [
    "# Join the results of all queries\n",
    "combined_result_query = \"\"\"\n",
    "    SELECT\n",
    "        t1.pickup_year,\n",
    "        t1.pickup_month,\n",
    "        t1.total_trips,\n",
    "        t2.day_of_week,\n",
    "        t3.pickup_hour, \n",
    "        t4.avg_passengers,\n",
    "        t5.avg_trip_amount,\n",
    "        t6.avg_amount_per_passenger\n",
    "    FROM\n",
    "        total_trips_result t1\n",
    "    JOIN\n",
    "        day_of_week_result t2\n",
    "    ON\n",
    "        t1.pickup_year = t2.pickup_year\n",
    "        AND t1.pickup_month = t2.pickup_month\n",
    "    JOIN\n",
    "        hour_of_day_result t3\n",
    "    ON\n",
    "        t1.pickup_year = t3.pickup_year\n",
    "        AND t1.pickup_month = t3.pickup_month\n",
    "    JOIN\n",
    "        avg_passengers_result t4\n",
    "    ON\n",
    "        t1.pickup_year = t4.pickup_year\n",
    "        AND t1.pickup_month = t4.pickup_month\n",
    "    JOIN\n",
    "        avg_trip_amount_result t5\n",
    "    ON\n",
    "        t1.pickup_year = t5.pickup_year\n",
    "        AND t1.pickup_month = t5.pickup_month\n",
    "    JOIN\n",
    "        avg_amount_per_passenger_result t6\n",
    "    ON\n",
    "        t1.pickup_year = t6.pickup_year\n",
    "        AND t1.pickup_month = t6.pickup_month\n",
    "\"\"\"\n",
    "\n",
    "# Create a temporary view for the combined result\n",
    "spark.sql(combined_result_query).createOrReplaceTempView(\"final_combined_result\")\n",
    "\n",
    "# Show the final combined result\n",
    "final_combined_result = spark.sql(\"\"\"\n",
    "    SELECT\n",
    "        pickup_year,\n",
    "        pickup_month,\n",
    "        MAX(total_trips) AS total_trips,\n",
    "        MAX(day_of_week) AS day_of_week,\n",
    "        MAX(pickup_hour) AS pickup_hour,\n",
    "        MAX(avg_passengers) AS avg_passengers,\n",
    "        MAX(avg_trip_amount) AS avg_trip_amount,\n",
    "        MAX(avg_amount_per_passenger) AS avg_amount_per_passenger\n",
    "    FROM\n",
    "        final_combined_result\n",
    "    GROUP BY\n",
    "        pickup_year, pickup_month\n",
    "    ORDER BY\n",
    "        pickup_year, pickup_month\n",
    "\"\"\")\n",
    "final_combined_result.show()\n"
   ]
  },
  {
   "cell_type": "code",
   "execution_count": 0,
   "metadata": {
    "application/vnd.databricks.v1+cell": {
     "cellMetadata": {
      "byteLimit": 2048000,
      "rowLimit": 10000
     },
     "inputWidgets": {},
     "nuid": "e8752b36-8913-46f9-ac75-7fcf5c53f90b",
     "showTitle": false,
     "title": ""
    }
   },
   "outputs": [
    {
     "output_type": "stream",
     "name": "stdout",
     "output_type": "stream",
     "text": [
      "+-----------+------------+-----------+-----------+-----------+------------------+------------------+------------------------+\n|pickup_year|pickup_month|total_trips|day_of_week|pickup_hour|    avg_passengers|   avg_trip_amount|avg_amount_per_passenger|\n+-----------+------------+-----------+-----------+-----------+------------------+------------------+------------------------+\n|       2015|           1|   14086879|  Wednesday|         23|1.6537548168050566|14.757290035956748|      12.076119553604332|\n|       2015|           2|   13856578|  Wednesday|         23|1.6406074429054562|15.234463717098825|       12.50917744970312|\n|       2015|           3|   14885012|  Wednesday|         23|1.6409243069471493|15.658871816601016|      12.829251771698923|\n|       2015|           4|   14557186|  Wednesday|         23| 1.646246808964315|15.848484455294047|      12.964614680993417|\n|       2015|           5|   14768556|  Wednesday|         23|1.6528999179066661| 16.24036400454006|       13.22941284021609|\n|       2015|           6|   13800582|  Wednesday|         23|1.6489769779274526|16.168712988054573|      13.192487240795684|\n|       2015|           7|   12948652|  Wednesday|         23|1.6608602192722455|15.941620072784467|      12.958120268513898|\n|       2015|           8|   12509487|  Wednesday|         23|1.6625979946259986|15.952108371394385|      12.939725646338092|\n|       2015|           9|   12563496|  Wednesday|         23|1.6474392159634548|16.245116573818567|      13.250439971005157|\n|       2015|          10|   13779389|  Wednesday|         23|1.6407940874591755| 16.29549366756737|      13.315981303866506|\n|       2015|          11|   12686196|  Wednesday|         23|1.6380603768064124|16.120736237615734|      13.186610549533412|\n|       2015|          12|   12909809|  Wednesday|         23|1.6461238892070362|16.041832378343162|      13.053042137295082|\n|       2016|           1|   12211541|  Wednesday|         23|1.6370074833307278|15.445167322069826|      12.667667024502649|\n|       2016|           2|   12746859|  Wednesday|         23| 1.622275260124867|15.368207607508586|      12.661985535372034|\n|       2016|           3|   13631654|  Wednesday|         23| 1.626701792753836|15.779375851032071|      12.959755230350071|\n|       2016|           4|   13318464|  Wednesday|         23|1.6288364033570237|15.991979636117795|      13.107050415924254|\n|       2016|           5|   13220712|  Wednesday|         23|1.6298788597769924|16.424005558951897|      13.436074692335026|\n|       2016|           6|   12394055|  Wednesday|         23|1.6262090978295642|16.474470358431297|       13.49523123756807|\n|       2016|           7|   11489937|  Wednesday|         23|1.6369880008915627|  16.2402269097147|      13.257198675515115|\n|       2016|           8|   11059783|  Wednesday|         23|  1.63373359133719|16.144984518909254|      13.190647976876248|\n|       2016|           9|   11147870|  Wednesday|         23| 1.617710019941029|16.717252189185672|       13.73890717713908|\n|       2016|          10|   11971678|  Wednesday|         23|1.6188713060942668|16.345077160903536|      13.411522013341008|\n|       2016|          11|   11120371|  Wednesday|         23|1.6127258703868783|16.306111913391856|        13.4234057668953|\n|       2016|          12|   11536896|  Wednesday|         23|1.6236538840256514|15.931424882003947|      13.031790747357952|\n|       2017|           1|   10660682|  Wednesday|         23|1.6052871664308155| 15.18106502543824|        12.5323771927819|\n|       2017|           2|   10076693|  Wednesday|         23|1.6009612479014692|15.408923299342698|      12.707568338087109|\n|       2017|           3|    1133881|  Wednesday|         23|1.3619930133761833|13.825330259709576|      12.426003715403665|\n|       2017|           4|   10997668|  Wednesday|         23|1.6039130295622672|16.041086192865976|      13.205791608867218|\n|       2017|           5|   11032879|  Wednesday|         23|1.5975205565111337| 16.49143978123454|      13.586678397612207|\n|       2017|           6|   10509444|  Wednesday|         23| 1.601599761129133| 16.37141212848877|       13.51043720549719|\n|       2017|           7|    9388545|  Wednesday|         23|1.6174523315380605|16.133578925838325|      13.216334636590398|\n|       2017|           8|    9179446|  Wednesday|         23|1.6115119583469417| 16.19380089370375|      13.291453808248782|\n|       2017|           9|    9698099|  Wednesday|         23|1.6077250809668988| 16.43999450179168|      13.518754553399212|\n|       2017|          10|   10536854|  Wednesday|         23|1.6030052233807168|16.454985940488502|      13.559285771744243|\n|       2017|          11|    9992935|  Wednesday|         23|1.6003474454702247|16.218160754363055|      13.366652446992793|\n|       2017|          12|   10239516|  Wednesday|         23|1.6202822477156147|15.962450060923617|      13.039516268526285|\n|       2018|           1|    9389246|  Wednesday|         23|1.5983301534542815|15.306881491349369|      12.649012717764796|\n|       2018|           2|    9106343|  Wednesday|         23|1.5879562190881675|15.315861757931598|       12.69666847979645|\n|       2018|           3|   10080367|  Wednesday|         23|1.5946958081982532|15.826240811207287|      13.068440202303305|\n|       2018|           4|    9921915|  Wednesday|         23|1.5950990307818602|16.183073126337586|      13.355532461886408|\n|       2018|           5|    9835095|  Wednesday|         23|1.5912949493624617|16.675482586193322|      13.783319283794926|\n|       2018|           6|    9269821|  Wednesday|         23|1.5928930019252798|16.568344105878065|      13.680661192405434|\n|       2018|           7|    8365981|  Wednesday|         23|1.5998805161044474|16.402146135416487|      13.507106263139097|\n|       2018|           8|    8346970|  Wednesday|         23|1.5964516465256255|16.403511210398836|      13.512266454918572|\n|       2018|           9|    8528871|  Wednesday|         23| 1.584974494279489|16.745594728545285|      13.856098787071806|\n|       2018|          10|    9308195|  Wednesday|         23|1.5719476224982394|16.845263998394376|      13.987913213826793|\n|       2018|          11|    8584512|  Wednesday|         23|1.5806101732981443|16.723429953620737|      13.860895549822029|\n|       2018|          12|    8626521|  Wednesday|         23| 1.597961681192221|16.380343524097494|      13.462257076353417|\n|       2019|           1|    8074174|  Wednesday|         23| 1.572432176963241|15.569315226065678|      12.982667606462792|\n|       2019|           2|    7379892|  Wednesday|         23|1.5781350187780525| 18.39300417891124|      15.293265006907042|\n|       2019|           3|    8190113|  Wednesday|         23|1.5841429782470644|18.826266747116815|        15.5903135722526|\n|       2019|           4|    7715312|  Wednesday|         23|1.5858750754344089|18.892182471146654|      15.576102322541903|\n|       2019|           5|    7822609|  Wednesday|         23|1.5836307298498493| 19.22731325641983|      15.862172945706764|\n|       2019|           6|    7175636|  Wednesday|         23| 1.581632345899374|19.346965274986122|      15.945510663396517|\n|       2019|           7|    6480860|  Wednesday|         23|1.5864460889449856|19.103447462206738|      15.687558712012532|\n|       2019|           8|    6213491|  Wednesday|         23|1.5884735328336357| 19.15496312932798|      15.707678417413172|\n|       2019|           9|    6684846|  Wednesday|         23|1.5673523369124733|19.439605731634668|      16.071501950144224|\n|       2019|          10|    7300609|  Wednesday|         23|1.5585923037379485|19.276565603834015|      15.959889009818257|\n|       2019|          11|    6948729|  Wednesday|         23|1.5620678256412073|18.928282164883946|      15.657678040619407|\n|       2019|          12|    6961744|  Wednesday|         23|1.5695868736339629|19.074498142938502|      15.671620438731665|\n|       2020|           1|    6443319|  Wednesday|         23|1.5350025351841186|18.127560508437945|       15.14071294217017|\n|       2020|           2|    6341843|  Wednesday|         23|1.5270080006710982|18.136474153904125|       15.19350737343434|\n|       2020|           3|    3027612|  Wednesday|         23|1.4920610699125252|18.091400667926095|      15.231852882467713|\n|       2020|           4|     226712|  Wednesday|         23| 1.322686933201595|15.451648082128079|      13.966523419568455|\n|       2020|           5|     296991|  Wednesday|         23|1.3509331932617488| 15.90108201928998|      14.201089161490117|\n|       2020|           6|     501490|  Wednesday|         23|1.3929330594827414|16.884223095109498|      14.833079330931493|\n|       2020|           7|     728709|  Wednesday|         23|1.4175370415350983| 16.74155433792591|      14.561336823340984|\n|       2020|           8|     925258|  Wednesday|         23|1.4423004178294054| 17.01849964019182|      14.687750212942616|\n|       2020|           9|    1239810|  Wednesday|         23|1.4505440349731007|16.600445423262727|      14.266299136224633|\n|       2020|          10|    1561749|  Wednesday|         23|1.4560412716768187|17.161742335167304|       14.81048064508519|\n|       2020|          11|    1402327|  Wednesday|         23|1.4434194021793776| 16.38528161425173|       14.10731839818578|\n|       2020|          12|    1355631|  Wednesday|         23|1.4464223671485825|16.331547604220418|      14.056480875528479|\n|       2021|           1|    1257573|  Wednesday|         23|1.4389375408028002|16.388287479306555|        14.1355895995603|\n|       2021|           2|    1257474|  Wednesday|         23|1.4370818004984596|16.560445233890825|      14.285291259586186|\n|       2021|           3|    1767661|  Wednesday|         23| 1.432879947003413|16.710253086093694|      14.392641869962391|\n|       2021|           4|    2005217|  Wednesday|         23|1.4368654365088667|17.665843557309483|      15.176141866416119|\n|       2021|           5|    2336078|  Wednesday|         23|1.4516501589416106|18.148534162982685|      15.433855354361636|\n|       2021|           6|    2652703|  Wednesday|         23|1.4726458257860002|18.794981616651185|      15.854284384948084|\n|       2021|           7|    2628104|  Wednesday|         23|1.4973524639816385| 19.21820305069573|      16.038224595668282|\n|       2021|           8|    2584945|  Wednesday|         23|1.4787684070647538| 19.50309919918041|      16.360408507545994|\n|       2021|           9|    2745809|  Wednesday|         23|1.4624134453634612|20.246819859129427|      17.139016407495298|\n|       2021|          10|    3262108|  Wednesday|         23|1.4587901442870683|19.785530506241436|       16.70623297606718|\n|       2021|          11|    3284024|  Wednesday|         23| 1.454152588409829| 20.20020528491213|       17.04462429497615|\n|       2021|          12|    3058133|  Wednesday|         23|1.4727037705685135|20.424752176796847|       17.01009786387433|\n|       2022|           1|    2347186|  Wednesday|         23|1.4200123040952017|18.817310558181322|       16.11390941563428|\n|       2022|           2|    2821733|  Wednesday|         23|1.4227568660819432|19.143109610432372|      16.359579324720713|\n|       2022|           3|    3436556|  Wednesday|         23|  1.41934599639872| 20.16998144929791|      17.211654557117235|\n|       2022|           4|    3406949|  Wednesday|         23|1.4429854981685961| 20.71140894977826|      17.430059529145662|\n|       2022|           5|    3376290|  Wednesday|         23|1.4232903571671864| 21.53335033381994|       18.24486905365276|\n|       2022|           6|    3337297|  Wednesday|         23|1.4277027186971971| 21.59700745839857|      18.226589576235682|\n|       2022|           7|    2992199|  Wednesday|         23|1.4585226450513484|20.958877624385195|      17.468094288242803|\n|       2022|           8|    2986256|  Wednesday|         23|1.4506187681163303|21.092106781472253|      17.613735458688215|\n|       2022|           9|    2993115|  Wednesday|         23|1.4138467783563278|22.089828940911797|      18.739137724070844|\n|       2022|          10|    3449336|  Wednesday|         23|1.4127284207743172| 21.71287881731366|      18.408529130732816|\n|       2022|          11|    3067413|  Wednesday|         23|1.4137538701179138| 21.50696591574574|      18.260340049638632|\n|       2022|          12|    3196481|  Wednesday|         23|1.4463577290151264| 24.02156635677646|       19.97656782268214|\n+-----------+------------+-----------+-----------+-----------+------------------+------------------+------------------------+\n\n"
     ]
    }
   ],
   "source": [
    "final_combined_result.show(96)\n"
   ]
  },
  {
   "cell_type": "markdown",
   "metadata": {
    "application/vnd.databricks.v1+cell": {
     "cellMetadata": {
      "byteLimit": 2048000,
      "rowLimit": 10000
     },
     "inputWidgets": {},
     "nuid": "7431813d-e226-41ae-bd0b-320f90a45444",
     "showTitle": false,
     "title": ""
    }
   },
   "source": [
    "Business Question 2"
   ]
  },
  {
   "cell_type": "markdown",
   "metadata": {
    "application/vnd.databricks.v1+cell": {
     "cellMetadata": {},
     "inputWidgets": {},
     "nuid": "5cc6f3a8-21f6-4f82-8fc2-6361952fc0d4",
     "showTitle": false,
     "title": ""
    }
   },
   "source": [
    "**For Yellow & Green Taxis:**\n",
    "* **Average Trip Duration (minutes):**\n",
    "  \n",
    "\n",
    "* **Median Trip Duration (minutes):**\n",
    "\n",
    "\n",
    "* **Minimum Trip Duration (minutes):**\n",
    " \n",
    "\n",
    "* **Maximum Trip Duration (minutes):**\n",
    "\n",
    "\n",
    "* **Average Trip Distance (km):**\n",
    "  \n",
    "\n",
    "* **Median Trip Distance (km):**\n",
    " \n",
    "\n",
    "* **Minimum Trip Distance (km):**\n",
    " \n",
    "\n",
    "* **Maximum Trip Distance (km):**\n",
    "\n",
    "\n",
    "* **Average Speed (km/hour):**\n",
    " \n",
    "\n",
    "* **Median Speed (km/hour):**\n",
    "  \n",
    "\n",
    "* **Minimum Speed (km/hour):**\n",
    "  \n",
    "\n",
    "* **Maximum Speed (km/hour):**\n",
    "  \n"
   ]
  },
  {
   "cell_type": "code",
   "execution_count": 0,
   "metadata": {
    "application/vnd.databricks.v1+cell": {
     "cellMetadata": {
      "byteLimit": 2048000,
      "rowLimit": 10000
     },
     "inputWidgets": {},
     "nuid": "85328417-ba7d-41a0-8459-b7c83cfc839e",
     "showTitle": false,
     "title": ""
    }
   },
   "outputs": [],
   "source": [
    "from pyspark.sql import SparkSession\n",
    "\n",
    "# Create a Spark session\n",
    "spark = SparkSession.builder.appName(\"TaxiAnalysis\").getOrCreate()\n",
    "\n",
    "# Create a temporary view for the DataFrame to enable Spark SQL queries\n",
    "combined_data.createOrReplaceTempView(\"trip_data\")\n",
    "\n",
    "# Query 1: Average, Median, Minimum, and Maximum Trip Duration (in minutes) for Yellow Taxis\n",
    "avg_trip_duration_query = \"\"\"\n",
    "    SELECT\n",
    "        'Yellow' AS taxi_color,\n",
    "        ROUND(AVG(TIMESTAMPDIFF(SECOND, tpep_pickup_datetime, tpep_dropoff_datetime) / 60), 2) AS avg_trip_duration_minutes,\n",
    "        ROUND(percentile_approx(TIMESTAMPDIFF(SECOND, tpep_pickup_datetime, tpep_dropoff_datetime) / 60, 0.5), 2) AS median_trip_duration_minutes,\n",
    "        MIN(TIMESTAMPDIFF(SECOND, tpep_pickup_datetime, tpep_dropoff_datetime) / 60) AS min_trip_duration_minutes,\n",
    "        MAX(TIMESTAMPDIFF(SECOND, tpep_pickup_datetime, tpep_dropoff_datetime) / 60) AS max_trip_duration_minutes\n",
    "    FROM\n",
    "        trip_data\n",
    "    WHERE\n",
    "        color = 'yellow'\n",
    "\"\"\"\n",
    "\n",
    "# Create a temporary view for Query 1 result\n",
    "spark.sql(avg_trip_duration_query).createOrReplaceTempView(\"avg_trip_duration_yellow\")\n"
   ]
  },
  {
   "cell_type": "code",
   "execution_count": 0,
   "metadata": {
    "application/vnd.databricks.v1+cell": {
     "cellMetadata": {
      "byteLimit": 2048000,
      "rowLimit": 10000
     },
     "inputWidgets": {},
     "nuid": "2662d16e-cdb3-42e9-8b2a-493cb23c2985",
     "showTitle": false,
     "title": ""
    }
   },
   "outputs": [],
   "source": [
    "# Query 2: Average, Median, Minimum, and Maximum Trip Duration (in minutes) for Green Taxis\n",
    "avg_trip_duration_green_query = \"\"\"\n",
    "    SELECT\n",
    "        'Green' AS taxi_color,\n",
    "        ROUND(AVG(TIMESTAMPDIFF(SECOND, tpep_pickup_datetime, tpep_dropoff_datetime) / 60), 2) AS avg_trip_duration_minutes,\n",
    "        ROUND(percentile_approx(TIMESTAMPDIFF(SECOND, tpep_pickup_datetime, tpep_dropoff_datetime) / 60, 0.5), 2) AS median_trip_duration_minutes,\n",
    "        MIN(TIMESTAMPDIFF(SECOND, tpep_pickup_datetime, tpep_dropoff_datetime) / 60) AS min_trip_duration_minutes,\n",
    "        MAX(TIMESTAMPDIFF(SECOND, tpep_pickup_datetime, tpep_dropoff_datetime) / 60) AS max_trip_duration_minutes\n",
    "    FROM\n",
    "        trip_data\n",
    "    WHERE\n",
    "        color = 'green'\n",
    "\"\"\"\n",
    "\n",
    "# Create a temporary view for Query 2 result\n",
    "spark.sql(avg_trip_duration_green_query).createOrReplaceTempView(\"avg_trip_duration_green\")\n"
   ]
  },
  {
   "cell_type": "code",
   "execution_count": 0,
   "metadata": {
    "application/vnd.databricks.v1+cell": {
     "cellMetadata": {
      "byteLimit": 2048000,
      "rowLimit": 10000
     },
     "inputWidgets": {},
     "nuid": "cf44ab49-da68-4144-8192-2135af4b6730",
     "showTitle": false,
     "title": ""
    }
   },
   "outputs": [],
   "source": [
    "# Query 3: Average, Median, Minimum, and Maximum Trip Distance (in km) for Yellow Taxis\n",
    "avg_trip_distance_yellow_query = \"\"\"\n",
    "    SELECT\n",
    "        'Yellow' AS taxi_color,\n",
    "        ROUND(AVG(trip_distance * 1.60934), 2) AS avg_trip_distance_km,\n",
    "        ROUND(percentile_approx(trip_distance * 1.60934, 0.5), 2) AS median_trip_distance_km,\n",
    "        MIN(trip_distance * 1.60934) AS min_trip_distance_km,\n",
    "        MAX(trip_distance * 1.60934) AS max_trip_distance_km\n",
    "    FROM\n",
    "        trip_data\n",
    "    WHERE\n",
    "        color = 'yellow'\n",
    "\"\"\"\n",
    "\n",
    "# Create a temporary view for Query 3 result\n",
    "spark.sql(avg_trip_distance_yellow_query).createOrReplaceTempView(\"avg_trip_distance_yellow\")\n"
   ]
  },
  {
   "cell_type": "code",
   "execution_count": 0,
   "metadata": {
    "application/vnd.databricks.v1+cell": {
     "cellMetadata": {
      "byteLimit": 2048000,
      "rowLimit": 10000
     },
     "inputWidgets": {},
     "nuid": "726204b6-d511-4c3d-bf1a-813c9726f3aa",
     "showTitle": false,
     "title": ""
    }
   },
   "outputs": [],
   "source": [
    "# Query 4: Average, Median, Minimum, and Maximum Trip Distance (in km) for Green Taxis\n",
    "avg_trip_distance_green_query = \"\"\"\n",
    "    SELECT\n",
    "        'Green' AS taxi_color,\n",
    "        ROUND(AVG(trip_distance * 1.60934), 2) AS avg_trip_distance_km,\n",
    "        ROUND(percentile_approx(trip_distance * 1.60934, 0.5), 2) AS median_trip_distance_km,\n",
    "        MIN(trip_distance * 1.60934) AS min_trip_distance_km,\n",
    "        MAX(trip_distance * 1.60934) AS max_trip_distance_km\n",
    "    FROM\n",
    "        trip_data\n",
    "    WHERE\n",
    "        color = 'green'\n",
    "\"\"\"\n",
    "\n",
    "# Create a temporary view for Query 4 result\n",
    "spark.sql(avg_trip_distance_green_query).createOrReplaceTempView(\"avg_trip_distance_green\")\n"
   ]
  },
  {
   "cell_type": "code",
   "execution_count": 0,
   "metadata": {
    "application/vnd.databricks.v1+cell": {
     "cellMetadata": {
      "byteLimit": 2048000,
      "rowLimit": 10000
     },
     "inputWidgets": {},
     "nuid": "5edadab6-1ed0-43b5-a400-e42062864327",
     "showTitle": false,
     "title": ""
    }
   },
   "outputs": [],
   "source": [
    "# Query 5: Average, Median, Minimum, and Maximum Speed (in km per hour) for Yellow Taxis\n",
    "avg_speed_yellow_query = \"\"\"\n",
    "    SELECT\n",
    "        'Yellow' AS taxi_color,\n",
    "        ROUND(AVG((trip_distance * 1.60934) / (TIMESTAMPDIFF(SECOND, tpep_pickup_datetime, tpep_dropoff_datetime) / 3600)), 2) AS avg_speed_kph,\n",
    "        ROUND(percentile_approx((trip_distance * 1.60934) / (TIMESTAMPDIFF(SECOND, tpep_pickup_datetime, tpep_dropoff_datetime) / 3600), 0.5), 2) AS median_speed_kph,\n",
    "        MIN((trip_distance * 1.60934) / (TIMESTAMPDIFF(SECOND, tpep_pickup_datetime, tpep_dropoff_datetime) / 3600)) AS min_speed_kph,\n",
    "        MAX((trip_distance * 1.60934) / (TIMESTAMPDIFF(SECOND, tpep_pickup_datetime, tpep_dropoff_datetime) / 3600)) AS max_speed_kph\n",
    "    FROM\n",
    "        trip_data\n",
    "    WHERE\n",
    "        color = 'yellow'\n",
    "\"\"\"\n",
    "\n",
    "# Create a temporary view for Query 5 result\n",
    "spark.sql(avg_speed_yellow_query).createOrReplaceTempView(\"avg_speed_yellow\")\n"
   ]
  },
  {
   "cell_type": "code",
   "execution_count": 0,
   "metadata": {
    "application/vnd.databricks.v1+cell": {
     "cellMetadata": {
      "byteLimit": 2048000,
      "rowLimit": 10000
     },
     "inputWidgets": {},
     "nuid": "30655724-0830-4fe3-926f-1d5dcc834d30",
     "showTitle": false,
     "title": ""
    }
   },
   "outputs": [],
   "source": [
    "# Query 6: Average, Median, Minimum, and Maximum Speed (in km per hour) for Green Taxis\n",
    "avg_speed_green_query = \"\"\"\n",
    "    SELECT\n",
    "        'Green' AS taxi_color,\n",
    "        ROUND(AVG((trip_distance * 1.60934) / (TIMESTAMPDIFF(SECOND, tpep_pickup_datetime, tpep_dropoff_datetime) / 3600)), 2) AS avg_speed_kph,\n",
    "        ROUND(percentile_approx((trip_distance * 1.60934) / (TIMESTAMPDIFF(SECOND, tpep_pickup_datetime, tpep_dropoff_datetime) / 3600), 0.5), 2) AS median_speed_kph,\n",
    "        MIN((trip_distance * 1.60934) / (TIMESTAMPDIFF(SECOND, tpep_pickup_datetime, tpep_dropoff_datetime) / 3600)) AS min_speed_kph,\n",
    "        MAX((trip_distance * 1.60934) / (TIMESTAMPDIFF(SECOND, tpep_pickup_datetime, tpep_dropoff_datetime) / 3600)) AS max_speed_kph\n",
    "    FROM\n",
    "        trip_data\n",
    "    WHERE\n",
    "        color = 'green'\n",
    "\"\"\"\n",
    "\n",
    "# Create a temporary view for Query 6 result\n",
    "spark.sql(avg_speed_green_query).createOrReplaceTempView(\"avg_speed_green\")\n"
   ]
  },
  {
   "cell_type": "code",
   "execution_count": 0,
   "metadata": {
    "application/vnd.databricks.v1+cell": {
     "cellMetadata": {
      "byteLimit": 2048000,
      "rowLimit": 10000
     },
     "inputWidgets": {},
     "nuid": "993bccf7-9f79-4900-8993-ab19d644012e",
     "showTitle": false,
     "title": ""
    }
   },
   "outputs": [
    {
     "output_type": "stream",
     "name": "stdout",
     "output_type": "stream",
     "text": [
      "+----------+-------------------+-------+------+--------------------+------------------+\n|taxi_color|        metric_type|average|median|             minimum|           maximum|\n+----------+-------------------+-------+------+--------------------+------------------+\n|     Green|       Speed (km/h)|  20.03| 18.26|0.006710010076091867|103.59571506531205|\n|     Green| Trip Distance (km)|   4.75|  3.06| 0.16093400000000002|       160.8857198|\n|     Green|Trip Duration (min)|  20.24| 10.57|                 1.0|1439.9833333333333|\n|    Yellow|       Speed (km/h)|  18.67| 16.41|0.006706281904365039| 103.5978528813559|\n|    Yellow| Trip Distance (km)|   4.85|  2.74| 0.16093400000000002|       160.8696264|\n|    Yellow|Trip Duration (min)|  16.71| 11.27|                 1.0|1439.9833333333333|\n+----------+-------------------+-------+------+--------------------+------------------+\n\n"
     ]
    }
   ],
   "source": [
    "# Combine all the individual query results using UNION ALL\n",
    "combined_query = \"\"\"\n",
    "    SELECT\n",
    "        taxi_color,\n",
    "        'Trip Duration (min)' AS metric_type,\n",
    "        avg_trip_duration_minutes AS average,\n",
    "        median_trip_duration_minutes AS median,\n",
    "        min_trip_duration_minutes AS minimum,\n",
    "        max_trip_duration_minutes AS maximum\n",
    "    FROM\n",
    "        avg_trip_duration_yellow\n",
    "    UNION ALL\n",
    "    SELECT\n",
    "        taxi_color,\n",
    "        'Trip Duration (min)' AS metric_type,\n",
    "        avg_trip_duration_minutes AS average,\n",
    "        median_trip_duration_minutes AS median,\n",
    "        min_trip_duration_minutes AS minimum,\n",
    "        max_trip_duration_minutes AS maximum\n",
    "    FROM\n",
    "        avg_trip_duration_green\n",
    "    UNION ALL\n",
    "    SELECT\n",
    "        taxi_color,\n",
    "        'Trip Distance (km)' AS metric_type,\n",
    "        avg_trip_distance_km AS average,\n",
    "        median_trip_distance_km AS median,\n",
    "        min_trip_distance_km AS minimum,\n",
    "        max_trip_distance_km AS maximum\n",
    "    FROM\n",
    "        avg_trip_distance_yellow\n",
    "    UNION ALL\n",
    "    SELECT\n",
    "        taxi_color,\n",
    "        'Trip Distance (km)' AS metric_type,\n",
    "        avg_trip_distance_km AS average,\n",
    "        median_trip_distance_km AS median,\n",
    "        min_trip_distance_km AS minimum,\n",
    "        max_trip_distance_km AS maximum\n",
    "    FROM\n",
    "        avg_trip_distance_green\n",
    "    UNION ALL\n",
    "    SELECT\n",
    "        taxi_color,\n",
    "        'Speed (km/h)' AS metric_type,\n",
    "        avg_speed_kph AS average,\n",
    "        median_speed_kph AS median,\n",
    "        min_speed_kph AS minimum,\n",
    "        max_speed_kph AS maximum\n",
    "    FROM\n",
    "        avg_speed_yellow\n",
    "    UNION ALL\n",
    "    SELECT\n",
    "        taxi_color,\n",
    "        'Speed (km/h)' AS metric_type,\n",
    "        avg_speed_kph AS average,\n",
    "        median_speed_kph AS median,\n",
    "        min_speed_kph AS minimum,\n",
    "        max_speed_kph AS maximum\n",
    "    FROM\n",
    "        avg_speed_green\n",
    "\"\"\"\n",
    "\n",
    "# Create a temporary view for the combined result\n",
    "spark.sql(combined_query).createOrReplaceTempView(\"combined_result\")\n",
    "\n",
    "# Retrieve the final combined result\n",
    "final_combined_result = spark.sql(\"SELECT * FROM combined_result ORDER BY taxi_color, metric_type\")\n",
    "\n",
    "# Show the final combined result\n",
    "final_combined_result.show()\n"
   ]
  },
  {
   "cell_type": "markdown",
   "metadata": {
    "application/vnd.databricks.v1+cell": {
     "cellMetadata": {
      "byteLimit": 2048000,
      "rowLimit": 10000
     },
     "inputWidgets": {},
     "nuid": "f816f9c2-a809-4657-b15f-f791f1832c85",
     "showTitle": false,
     "title": ""
    }
   },
   "source": [
    "Business Question 3"
   ]
  },
  {
   "cell_type": "markdown",
   "metadata": {
    "application/vnd.databricks.v1+cell": {
     "cellMetadata": {},
     "inputWidgets": {},
     "nuid": "4eb7c255-b008-4e51-a796-d89fe30a840b",
     "showTitle": false,
     "title": ""
    }
   },
   "source": [
    "**For each combination of Taxi Color, Pick-Up, Drop-Off, Month, Day of the Week, and Hour:**\n",
    "\n",
    "* **Total Number of Trips:**\n",
    "\n",
    "\n",
    "* **Average Distance (km):**\n",
    "\n",
    "\n",
    "* **Average Amount Paid per Trip (using total_amount):**\n",
    " \n",
    "\n",
    "* **Total Amount Paid (using total_amount):**\n",
    "\n"
   ]
  },
  {
   "cell_type": "code",
   "execution_count": 0,
   "metadata": {
    "application/vnd.databricks.v1+cell": {
     "cellMetadata": {
      "byteLimit": 2048000,
      "rowLimit": 10000
     },
     "inputWidgets": {},
     "nuid": "9d70d04c-bee3-45f5-ba37-8962e4331199",
     "showTitle": false,
     "title": ""
    }
   },
   "outputs": [
    {
     "output_type": "stream",
     "name": "stdout",
     "output_type": "stream",
     "text": [
      "Out[1]: 605365170"
     ]
    }
   ],
   "source": [
    "from pyspark.sql import SparkSession\n",
    "\n",
    "merged_data = spark.read.parquet(\"/MergedData/merged_both_locations.parquet\")\n",
    "merged_data.count()"
   ]
  },
  {
   "cell_type": "markdown",
   "metadata": {
    "application/vnd.databricks.v1+cell": {
     "cellMetadata": {},
     "inputWidgets": {},
     "nuid": "86dd67eb-09b1-46c8-95b8-fe755cbb090e",
     "showTitle": false,
     "title": ""
    }
   },
   "source": [
    "\n",
    "**Important Note:** It's crucial to understand that the 'merged_data' we're working with isn't a complete dataset due to the challenges we faced earlier. As a result, the answers to the following business queries may not be comprehensive:\n",
    "\n",
    "**For each combination of Taxi Color, Pick-Up, Drop-Off, Month, Day of the Week, and Hour:**\n",
    "\n",
    "- Total Number of Trips:\n",
    "- Average Distance (in kilometers):\n",
    "- Average Amount Paid per Trip (calculated using the 'total_amount' field):\n",
    "- Total Amount Paid (calculated using the 'total_amount' field):\n",
    "\n",
    "Please do keep in mind the limitations we encountered when interpreting the results, as they may not represent the entire dataset.\n"
   ]
  },
  {
   "cell_type": "code",
   "execution_count": 0,
   "metadata": {
    "application/vnd.databricks.v1+cell": {
     "cellMetadata": {
      "byteLimit": 2048000,
      "rowLimit": 10000
     },
     "inputWidgets": {},
     "nuid": "6321ab3d-1a80-4750-805f-d92efdef915c",
     "showTitle": false,
     "title": ""
    }
   },
   "outputs": [
    {
     "output_type": "stream",
     "name": "stdout",
     "output_type": "stream",
     "text": [
      "root\n |-- VendorID: long (nullable = true)\n |-- tpep_pickup_datetime: timestamp (nullable = true)\n |-- tpep_dropoff_datetime: timestamp (nullable = true)\n |-- passenger_count: double (nullable = true)\n |-- trip_distance: double (nullable = true)\n |-- RatecodeID: double (nullable = true)\n |-- store_and_fwd_flag: string (nullable = true)\n |-- Combined_PULocationID: long (nullable = true)\n |-- Combined_DOLocationID: long (nullable = true)\n |-- payment_type: long (nullable = true)\n |-- fare_amount: double (nullable = true)\n |-- extra: double (nullable = true)\n |-- mta_tax: double (nullable = true)\n |-- tip_amount: double (nullable = true)\n |-- tolls_amount: double (nullable = true)\n |-- improvement_surcharge: double (nullable = true)\n |-- total_amount: double (nullable = true)\n |-- congestion_surcharge: double (nullable = true)\n |-- airport_fee: double (nullable = true)\n |-- color: string (nullable = true)\n |-- PULocationID: integer (nullable = true)\n |-- PULocation_Borough: string (nullable = true)\n |-- DOLocationID: integer (nullable = true)\n |-- DOLocation_Borough: string (nullable = true)\n\n"
     ]
    }
   ],
   "source": [
    "merged_data.printSchema()"
   ]
  },
  {
   "cell_type": "code",
   "execution_count": 0,
   "metadata": {
    "application/vnd.databricks.v1+cell": {
     "cellMetadata": {
      "byteLimit": 2048000,
      "rowLimit": 10000
     },
     "inputWidgets": {},
     "nuid": "795af289-3b62-4a38-8c51-bb3ad1e55ce7",
     "showTitle": false,
     "title": ""
    }
   },
   "outputs": [
    {
     "output_type": "stream",
     "name": "stdout",
     "output_type": "stream",
     "text": [
      "+----------+---------------+----------------+------------+-----------+-----------+-----------+------------------+-------------------+------------------+\n|taxi_color|pickup_location|dropoff_location|pickup_month|day_of_week|pickup_hour|total_trips|      avg_distance|avg_amount_per_trip| total_amount_paid|\n+----------+---------------+----------------+------------+-----------+-----------+-----------+------------------+-------------------+------------------+\n|    yellow|      Manhattan|       Manhattan|           2|   Saturday|          7|      93659|1.9497606209760943| 11.017263050001253|1031865.8400000673|\n|    yellow|         Queens|          Queens|           2|   Saturday|         10|       4393| 4.622219440018211|  17.89408149328481| 78608.70000000016|\n|    yellow|        Unknown|           Bronx|           2|   Saturday|         21|          9|12.147777777777778|  43.32444444444445| 389.9200000000001|\n|    yellow|       Brooklyn|           Bronx|           2|     Sunday|          2|         42|16.523095238095234|  53.36428571428571|2241.2999999999997|\n|    yellow|          Bronx|       Manhattan|           2|     Sunday|          4|        130|  3.83723076923077| 15.672230769230772|2037.3900000000003|\n|    yellow|      Manhattan|             EWR|           2|     Sunday|          9|        424|17.538655660377362|  91.29110849056609| 38707.43000000002|\n|    yellow|        Unknown|        Brooklyn|           2|     Sunday|         11|         23| 5.539565217391304| 22.080434782608698| 507.8500000000001|\n|    yellow|      Manhattan|        Brooklyn|           2|     Sunday|         23|      11566| 6.109948988414318|  26.22833823275109| 303356.9599999991|\n|    yellow|        Unknown|        Brooklyn|           2|     Monday|          1|         22| 9.360454545454544|  34.51499999999999| 759.3299999999999|\n|    yellow|      Manhattan|        Brooklyn|           2|     Monday|         19|      13363| 5.861661303599495| 27.842292898301178|372056.55999999866|\n|    yellow|      Manhattan|          Queens|           2|     Monday|         21|       9178| 7.297752233602091| 30.773946393549657|282443.27999999875|\n|    yellow|      Manhattan|          Queens|           2|     Monday|         23|       8245| 6.643610673135233|  27.81321406913267|229319.94999999885|\n|    yellow|          Bronx|       Manhattan|           2|    Tuesday|         19|         59|4.8606779661016954| 20.584576271186435|1214.4899999999998|\n|    yellow|         Queens|       Manhattan|           2|    Tuesday|         23|      10020|12.851338323353291|  49.86957485029926|499693.13999999856|\n|    yellow|      Manhattan|         Unknown|           2|  Wednesday|          3|        126|13.615396825396827|  75.21301587301588|           9476.84|\n|    yellow|         Queens|          Queens|           2|  Wednesday|          5|       2134|6.3424648547328975|  23.17249297094663|49450.100000000115|\n|    yellow|        Unknown|         Unknown|           2|   Thursday|          0|       2132| 3.321660412757973| 16.672410881801163| 35545.58000000008|\n|    yellow|          Bronx|          Queens|           2|   Thursday|          1|          2|             9.515| 37.495000000000005| 74.99000000000001|\n|    yellow|          Bronx|           Bronx|           2|   Thursday|          5|         66| 2.038030303030303|  9.854696969696969|            650.41|\n|    yellow|       Brooklyn|        Brooklyn|           2|     Friday|         20|       4183|1.9612120487688263| 12.034131006454727| 50338.77000000012|\n+----------+---------------+----------------+------------+-----------+-----------+-----------+------------------+-------------------+------------------+\nonly showing top 20 rows\n\n"
     ]
    }
   ],
   "source": [
    "\n",
    "merged_data.createOrReplaceTempView(\"location_trip_data\")\n",
    "\n",
    "# Create a Spark session\n",
    "spark = SparkSession.builder.appName(\"TaxiDataAnalysis\").getOrCreate()\n",
    "\n",
    "# Your initial query to calculate total trips\n",
    "total_location_trips_query = \"\"\"\n",
    "    SELECT\n",
    "        color AS taxi_color,\n",
    "        PULocation_Borough AS pickup_location,\n",
    "        DOLocation_Borough AS dropoff_location,\n",
    "        MONTH(tpep_pickup_datetime) AS pickup_month,\n",
    "        date_format(tpep_pickup_datetime, 'EEEE') AS day_of_week,\n",
    "        HOUR(tpep_pickup_datetime) AS pickup_hour,\n",
    "        COUNT(*) AS total_trips,\n",
    "        AVG(trip_distance) AS avg_distance,\n",
    "        AVG(total_amount) AS avg_amount_per_trip,\n",
    "        SUM(total_amount) AS total_amount_paid\n",
    "    FROM\n",
    "        location_trip_data\n",
    "    GROUP BY\n",
    "        color, PULocation_Borough, DOLocation_Borough , pickup_month, day_of_week, pickup_hour\n",
    "\"\"\"\n",
    "\n",
    "# Execute the query and store the result in a DataFrame\n",
    "location_results_df = spark.sql(total_location_trips_query)\n",
    "\n",
    "# Show the results\n",
    "location_results_df.show()"
   ]
  },
  {
   "cell_type": "code",
   "execution_count": 0,
   "metadata": {
    "application/vnd.databricks.v1+cell": {
     "cellMetadata": {
      "byteLimit": 2048000,
      "rowLimit": 10000
     },
     "inputWidgets": {},
     "nuid": "673acd0d-6b38-4192-b42d-533b235999bc",
     "showTitle": false,
     "title": ""
    }
   },
   "outputs": [
    {
     "output_type": "stream",
     "name": "stdout",
     "output_type": "stream",
     "text": [
      "Average Avg Amount Per Trip: 43.47990516867878\n"
     ]
    }
   ],
   "source": [
    "from pyspark.sql.functions import avg\n",
    "\n",
    "average_avg_amount_per_trip = location_results_df.agg(avg(\"avg_amount_per_trip\")).collect()[0][0]\n",
    "\n",
    "print(\"Average Avg Amount Per Trip:\", average_avg_amount_per_trip)\n"
   ]
  },
  {
   "cell_type": "code",
   "execution_count": 0,
   "metadata": {
    "application/vnd.databricks.v1+cell": {
     "cellMetadata": {
      "byteLimit": 2048000,
      "rowLimit": 10000
     },
     "inputWidgets": {},
     "nuid": "c4582410-1833-4ed4-aeee-85548eeac7b6",
     "showTitle": false,
     "title": ""
    }
   },
   "outputs": [],
   "source": [
    "location_results_df.count()"
   ]
  },
  {
   "cell_type": "markdown",
   "metadata": {
    "application/vnd.databricks.v1+cell": {
     "cellMetadata": {
      "byteLimit": 2048000,
      "rowLimit": 10000
     },
     "inputWidgets": {},
     "nuid": "c0441bb5-5749-4a7f-b906-e03c91c250b1",
     "showTitle": false,
     "title": ""
    }
   },
   "source": [
    "Business Question 4"
   ]
  },
  {
   "cell_type": "markdown",
   "metadata": {
    "application/vnd.databricks.v1+cell": {
     "cellMetadata": {},
     "inputWidgets": {},
     "nuid": "51d52696-b769-4e84-b6f4-a9029d4e2f80",
     "showTitle": false,
     "title": ""
    }
   },
   "source": [
    "**The percentage of trips where drivers received tips:**\n"
   ]
  },
  {
   "cell_type": "code",
   "execution_count": 0,
   "metadata": {
    "application/vnd.databricks.v1+cell": {
     "cellMetadata": {
      "byteLimit": 2048000,
      "rowLimit": 10000
     },
     "inputWidgets": {},
     "nuid": "2bbad5ac-c479-49ea-9e2f-53e670750f11",
     "showTitle": false,
     "title": ""
    }
   },
   "outputs": [
    {
     "output_type": "stream",
     "name": "stdout",
     "output_type": "stream",
     "text": [
      "+--------------------+\n|percentage_tip_trips|\n+--------------------+\n|   63.57964160975966|\n+--------------------+\n\n"
     ]
    }
   ],
   "source": [
    "# Calculate the percentage of trips where drivers received tips\n",
    "percentage_tip_trips_query = \"\"\"\n",
    "    SELECT\n",
    "        (COUNT(CASE WHEN tip_amount > 0 THEN 1 ELSE NULL END) / COUNT(*)) * 100 AS percentage_tip_trips\n",
    "    FROM\n",
    "        trip_data\n",
    "\"\"\"\n",
    "\n",
    "# Execute the query\n",
    "percentage_tip_trips = spark.sql(percentage_tip_trips_query)\n",
    "\n",
    "# Show the percentage of trips with tips\n",
    "percentage_tip_trips.show()\n"
   ]
  },
  {
   "cell_type": "markdown",
   "metadata": {
    "application/vnd.databricks.v1+cell": {
     "cellMetadata": {
      "byteLimit": 2048000,
      "rowLimit": 10000
     },
     "inputWidgets": {},
     "nuid": "c80d0e27-5e33-41ac-8e38-6d98b134d018",
     "showTitle": false,
     "title": ""
    }
   },
   "source": [
    "Business Question 5"
   ]
  },
  {
   "cell_type": "markdown",
   "metadata": {
    "application/vnd.databricks.v1+cell": {
     "cellMetadata": {},
     "inputWidgets": {},
     "nuid": "a1865380-311a-4e0b-acad-24c3cfec4098",
     "showTitle": false,
     "title": ""
    }
   },
   "source": [
    "**For trips where the driver received tips, the percentage where the driver received tips of at least $5:**"
   ]
  },
  {
   "cell_type": "code",
   "execution_count": 0,
   "metadata": {
    "application/vnd.databricks.v1+cell": {
     "cellMetadata": {
      "byteLimit": 2048000,
      "rowLimit": 10000
     },
     "inputWidgets": {},
     "nuid": "a8f396d4-2aea-4887-bcb4-b5e0a4bbb635",
     "showTitle": false,
     "title": ""
    }
   },
   "outputs": [
    {
     "output_type": "stream",
     "name": "stdout",
     "output_type": "stream",
     "text": [
      "+-------------------------+\n|percentage_high_tip_trips|\n+-------------------------+\n|        12.19731329388956|\n+-------------------------+\n\n"
     ]
    }
   ],
   "source": [
    "# Calculate the percentage of trips where the driver received tips of at least $5 among tip-receiving trips\n",
    "percentage_high_tip_trips_query = \"\"\"\n",
    "    SELECT\n",
    "        (COUNT(CASE WHEN tip_amount >= 5.0 THEN 1 ELSE NULL END) / COUNT(CASE WHEN tip_amount > 0 THEN 1 ELSE NULL END)) * 100 AS percentage_high_tip_trips\n",
    "    FROM\n",
    "        trip_data\n",
    "    WHERE\n",
    "        tip_amount > 0\n",
    "\"\"\"\n",
    "\n",
    "# Execute the query\n",
    "percentage_high_tip_trips = spark.sql(percentage_high_tip_trips_query)\n",
    "\n",
    "# Show the percentage of trips with tips of at least $5 among tip-receiving trips\n",
    "percentage_high_tip_trips.show()\n"
   ]
  },
  {
   "cell_type": "markdown",
   "metadata": {
    "application/vnd.databricks.v1+cell": {
     "cellMetadata": {
      "byteLimit": 2048000,
      "rowLimit": 10000
     },
     "inputWidgets": {},
     "nuid": "8c9fa1ce-e41f-4672-aeaa-cd397b29ffcb",
     "showTitle": false,
     "title": ""
    }
   },
   "source": [
    "Business Question 6"
   ]
  },
  {
   "cell_type": "markdown",
   "metadata": {
    "application/vnd.databricks.v1+cell": {
     "cellMetadata": {},
     "inputWidgets": {},
     "nuid": "81d6ca5e-cc4b-428c-8827-c749430223eb",
     "showTitle": false,
     "title": ""
    }
   },
   "source": [
    "**For trips with a duration under 5 mins:**\n",
    "* **Average Speed (km per hour):**\n",
    "  \n",
    "\n",
    "* **Average Distance per Dollar (km per $):**\n",
    "\n",
    "\n",
    "**For trips from 5 mins to 10 mins:**\n",
    "* **Average Speed (km per hour):**\n",
    "\n",
    "\n",
    "* **Average Distance per Dollar (km per $):**\n",
    " \n",
    "\n",
    "**For trips from 10 mins to 20 mins:**\n",
    "* **Average Speed (km per hour):**\n",
    "\n",
    "\n",
    "* **Average Distance per Dollar (km per $):**\n",
    "  \n",
    "\n",
    "**For trips from 20 mins to 30 mins:**\n",
    "* **Average Speed (km per hour):**\n",
    "\n",
    "\n",
    "* **Average Distance per Dollar (km per $):**\n",
    "  \n",
    "\n",
    "**For trips from 30 mins to 60 mins:**\n",
    "* **Average Speed (km per hour):**\n",
    " \n",
    "\n",
    "* **Average Distance per Dollar (km per $):**\n",
    " \n",
    "\n",
    "**For trips of at least 60 mins:**\n",
    "* **Average Speed (km per hour):**\n",
    "  \n",
    "\n",
    "* **Average Distance per Dollar (km per $):**\n",
    "\n"
   ]
  },
  {
   "cell_type": "code",
   "execution_count": 0,
   "metadata": {
    "application/vnd.databricks.v1+cell": {
     "cellMetadata": {
      "byteLimit": 2048000,
      "rowLimit": 10000
     },
     "inputWidgets": {},
     "nuid": "94f05d1f-d357-474d-be87-77c8de7babfb",
     "showTitle": false,
     "title": ""
    }
   },
   "outputs": [
    {
     "output_type": "stream",
     "name": "stdout",
     "output_type": "stream",
     "text": [
      "+-------------+-------------------+-----------------------------------------+\n| duration_bin|  average_speed_kph|average_distance_per_dollar_km_per_dollar|\n+-------------+-------------------+-----------------------------------------+\n|10 to 20 Mins| 0.6931934497961179|                      0.34070894858536965|\n|20 to 30 Mins|0.25112726626824255|                      0.27014632764178487|\n| 5 to 10 Mins| 1.5317699483554243|                       1.0218401828199113|\n| Under 5 Mins| 18.827787877018018|                      0.24709248189093522|\n+-------------+-------------------+-----------------------------------------+\n\n"
     ]
    }
   ],
   "source": [
    "# Classify trips into duration bins and calculate average speed and average distance per dollar\n",
    "duration_bins_query = \"\"\"\n",
    "    SELECT\n",
    "        CASE\n",
    "            WHEN duration_hours < 5 THEN 'Under 5 Mins'\n",
    "            WHEN duration_hours >= 5 AND duration_hours < 10 THEN '5 to 10 Mins'\n",
    "            WHEN duration_hours >= 10 AND duration_hours < 20 THEN '10 to 20 Mins'\n",
    "            WHEN duration_hours >= 20 AND duration_hours < 30 THEN '20 to 30 Mins'\n",
    "            WHEN duration_hours >= 30 AND duration_hours < 60 THEN '30 to 60 Mins'\n",
    "            ELSE 'At least 60 Mins'\n",
    "        END AS duration_bin,\n",
    "        AVG(speed_kph) AS average_speed_kph,\n",
    "        AVG((trip_distance * 1.60934) / total_amount) AS average_distance_per_dollar_km_per_dollar\n",
    "    FROM (\n",
    "        SELECT\n",
    "            trip_data.*,\n",
    "            TIMESTAMPDIFF(SECOND, tpep_pickup_datetime, tpep_dropoff_datetime) / 3600 AS duration_hours,\n",
    "            (trip_distance * 1.60934) / (TIMESTAMPDIFF(SECOND, tpep_pickup_datetime, tpep_dropoff_datetime) / 3600) AS speed_kph\n",
    "        FROM\n",
    "            trip_data\n",
    "    ) AS trip_stats\n",
    "    GROUP BY\n",
    "        duration_bin\n",
    "    ORDER BY\n",
    "        duration_bin\n",
    "\"\"\"\n",
    "\n",
    "\n",
    "# Execute the corrected query\n",
    "duration_bins_result = spark.sql(duration_bins_query)\n",
    "\n",
    "# Show the result with duration bins, average speed, and average distance per dollar\n",
    "duration_bins_result.show()\n"
   ]
  }
 ],
 "metadata": {
  "application/vnd.databricks.v1+notebook": {
   "dashboards": [],
   "language": "python",
   "notebookMetadata": {
    "pythonIndentUnit": 4
   },
   "notebookName": "Business Questions - Part-3",
   "widgets": {}
  }
 },
 "nbformat": 4,
 "nbformat_minor": 0
}
